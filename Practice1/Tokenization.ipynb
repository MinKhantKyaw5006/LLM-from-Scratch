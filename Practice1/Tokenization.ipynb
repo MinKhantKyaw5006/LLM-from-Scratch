{
  "nbformat": 4,
  "nbformat_minor": 0,
  "metadata": {
    "colab": {
      "provenance": [],
      "toc_visible": true,
      "authorship_tag": "ABX9TyPMevQ5EI3rWtKsdYFOlqXZ",
      "include_colab_link": true
    },
    "kernelspec": {
      "name": "python3",
      "display_name": "Python 3"
    },
    "language_info": {
      "name": "python"
    }
  },
  "cells": [
    {
      "cell_type": "markdown",
      "metadata": {
        "id": "view-in-github",
        "colab_type": "text"
      },
      "source": [
        "<a href=\"https://colab.research.google.com/github/MinKhantKyaw5006/LLM-from-Scratch/blob/main/Practice1/Tokenization.ipynb\" target=\"_parent\"><img src=\"https://colab.research.google.com/assets/colab-badge.svg\" alt=\"Open In Colab\"/></a>"
      ]
    },
    {
      "cell_type": "markdown",
      "metadata": {
        "id": "ijRXbC73jleJ"
      },
      "source": [
        "# Reading in a short story as text sample into Python."
      ]
    },
    {
      "cell_type": "markdown",
      "metadata": {
        "id": "Y3PifXGnjHS7"
      },
      "source": [
        "## Step 1: Creating Tokens"
      ]
    },
    {
      "cell_type": "markdown",
      "source": [
        "https://colab.research.google.com/drive/1_lgiXKLwsQEg0t4ziei9cWf9Zl91HXcH#scrollTo=A8xp3vMHZ1tE"
      ],
      "metadata": {
        "id": "pB3bkp8aex1A"
      }
    },
    {
      "cell_type": "code",
      "execution_count": null,
      "metadata": {
        "colab": {
          "base_uri": "https://localhost:8080/"
        },
        "id": "wInvw0mcbibu",
        "outputId": "2b2762b9-781d-49af-e7d1-378e940065ee"
      },
      "outputs": [
        {
          "output_type": "stream",
          "name": "stdout",
          "text": [
            "total number of character: 93273\n",
            " What Is a Business Plan?\n",
            " (proverb)\n",
            " (proverb)\n",
            " A business plan is a written statement that \n",
            "describes and analyzes your business and \n",
            "gives detailed projections about its future. \n",
            "A business plan also covers the financial \n",
            "aspects of starting or expanding your \n",
            "business—how much money you need and \n",
            "how you’ll pay it back.\n",
            " Writing a business plan is a lot of work. \n",
            "So why take the time to write one? The \n",
            "best answer is the wisdom gained by \n",
            "literally millions of  business owners just \n",
            "like you. Almost without  exception, each \n",
            "business owner with a plan is pleased she \n",
            "has one, and each owner without a plan \n",
            "wishes he had written one. \n",
            "Why Write a Business Plan?\n",
            " Here are some of the specific and \n",
            "immediate  benefits you will derive from \n",
            "writing your business plan.\n",
            " Helps You Get Money\n",
            " Most lenders or investors require a written \n",
            "business plan before they will consider \n",
            "your proposal  seriously. Even some \n",
            "landlords require a sound business plan \n",
            "before they will lease you space. Before \n",
            "making a commitment to you, they want to \n",
            "see that you have thought through critical \n",
            "issues facing you as a business owner and \n",
            "that you really understand your business. \n",
            "They also want to make sure your business \n",
            "has a good chance of succeeding. \n",
            "In\tmy\texperience,\tabout\t35%\tto\t40%\t\n",
            "of the people currently in business do \n",
            "not know how money flows through their \n",
            "business. Writing a business plan with this \n",
            "book teaches you where money comes \n",
            "from and where it goes. Is it any wonder \n",
            "that your backers want to see your plan \n",
            "before they consider your financial request?\n",
            " There are as many potential lenders and \n",
            "investors as there are prospective business \n",
            "owners. If you have a thoroughly thought\n",
            "out business and financial plan that \n",
            "demonstrates a good  likelihood of success \n",
            "and you are persistent, you will find \n",
            "the money you need. Of course, it may \n",
            "take longer than you expect and require \n",
            "more work than you expect, but you will \n",
            "ultimately be  successful if you believe in \n",
            "your\n"
          ]
        }
      ],
      "source": [
        "with open(\"businessplan.txt\", \"r\", encoding = \"utf-8\") as f:\n",
        "  raw_text = f.read()\n",
        "\n",
        "print(\"total number of character:\", len(raw_text))\n",
        "print(raw_text[:2000])"
      ]
    },
    {
      "cell_type": "markdown",
      "source": [
        "### Regex for simple tokenization scheme, byte pair encoding for llm"
      ],
      "metadata": {
        "id": "Fw4yFt01jyqM"
      }
    },
    {
      "cell_type": "code",
      "source": [
        "#regex for white space\n",
        "import re\n",
        "\n",
        "text = \"Hello, world. This, is a test.\"\n",
        "result = re.split(r'(\\s)', text)\n",
        "\n",
        "print(result)"
      ],
      "metadata": {
        "colab": {
          "base_uri": "https://localhost:8080/"
        },
        "id": "67b66m7-jaq9",
        "outputId": "36e9373d-9198-450d-bf8d-889f851bf118"
      },
      "execution_count": null,
      "outputs": [
        {
          "output_type": "stream",
          "name": "stdout",
          "text": [
            "['Hello,', ' ', 'world.', ' ', 'This,', ' ', 'is', ' ', 'a', ' ', 'test.']\n"
          ]
        }
      ]
    },
    {
      "cell_type": "code",
      "source": [
        "#regex for . , and white space\n",
        "result = re.split(r'([,.]|\\s)', text)\n",
        "\n",
        "print(result)"
      ],
      "metadata": {
        "colab": {
          "base_uri": "https://localhost:8080/"
        },
        "id": "9Ma_TklLjcG0",
        "outputId": "6fcd673e-ef54-4c5f-ff50-02f5434dce39"
      },
      "execution_count": null,
      "outputs": [
        {
          "output_type": "stream",
          "name": "stdout",
          "text": [
            "['Hello', ',', '', ' ', 'world', '.', '', ' ', 'This', ',', '', ' ', 'is', ' ', 'a', ' ', 'test', '.', '']\n"
          ]
        }
      ]
    },
    {
      "cell_type": "code",
      "source": [
        "#remove the white spaces\n",
        "result = [item for item in result if item.strip()]\n",
        "print(result)"
      ],
      "metadata": {
        "colab": {
          "base_uri": "https://localhost:8080/"
        },
        "id": "7I3eOfU8jdlz",
        "outputId": "1d3099d6-16ea-40d2-ad43-613319c413cc"
      },
      "execution_count": null,
      "outputs": [
        {
          "output_type": "stream",
          "name": "stdout",
          "text": [
            "['Hello', ',', 'world', '.', 'This', ',', 'is', 'a', 'test', '.']\n"
          ]
        }
      ]
    },
    {
      "cell_type": "code",
      "source": [
        "#all character consideration\n",
        "text = \"Hello, world. Is this-- a test?\"\n",
        "result = re.split(r'([,.:;?_!\"()\\']|--|\\s)', text)\n",
        "result = [item.strip() for item in result if item.strip()]\n",
        "print(result)"
      ],
      "metadata": {
        "colab": {
          "base_uri": "https://localhost:8080/"
        },
        "id": "IazOJxlujrDd",
        "outputId": "92da976f-7ad8-438a-cb2c-e1ccc4fe5e55"
      },
      "execution_count": null,
      "outputs": [
        {
          "output_type": "stream",
          "name": "stdout",
          "text": [
            "['Hello', ',', 'world', '.', 'Is', 'this', '--', 'a', 'test', '?']\n"
          ]
        }
      ]
    },
    {
      "cell_type": "code",
      "source": [
        "#apply on entire short story\n",
        "import re\n",
        "preprocessed = re.split(r'([,.:;?_!\"()\\']|--|\\s)', raw_text)\n",
        "preprocessed = [item.strip() for item in preprocessed if item.strip()]\n",
        "\n",
        "print(preprocessed[:100])"
      ],
      "metadata": {
        "colab": {
          "base_uri": "https://localhost:8080/"
        },
        "id": "3_Ww4gf7kgE-",
        "outputId": "bd276cc9-abb4-4a2f-bf5f-9eb5836193eb"
      },
      "execution_count": null,
      "outputs": [
        {
          "output_type": "stream",
          "name": "stdout",
          "text": [
            "['What', 'Is', 'a', 'Business', 'Plan', '?', '(', 'proverb', ')', '(', 'proverb', ')', 'A', 'business', 'plan', 'is', 'a', 'written', 'statement', 'that', 'describes', 'and', 'analyzes', 'your', 'business', 'and', 'gives', 'detailed', 'projections', 'about', 'its', 'future', '.', 'A', 'business', 'plan', 'also', 'covers', 'the', 'financial', 'aspects', 'of', 'starting', 'or', 'expanding', 'your', 'business—how', 'much', 'money', 'you', 'need', 'and', 'how', 'you’ll', 'pay', 'it', 'back', '.', 'Writing', 'a', 'business', 'plan', 'is', 'a', 'lot', 'of', 'work', '.', 'So', 'why', 'take', 'the', 'time', 'to', 'write', 'one', '?', 'The', 'best', 'answer', 'is', 'the', 'wisdom', 'gained', 'by', 'literally', 'millions', 'of', 'business', 'owners', 'just', 'like', 'you', '.', 'Almost', 'without', 'exception', ',', 'each', 'business']\n"
          ]
        }
      ]
    },
    {
      "cell_type": "code",
      "source": [
        "print(len(preprocessed))"
      ],
      "metadata": {
        "colab": {
          "base_uri": "https://localhost:8080/"
        },
        "id": "OOpROwc4knvj",
        "outputId": "fde46714-db69-4fd8-b2ec-9a189034149f"
      },
      "execution_count": null,
      "outputs": [
        {
          "output_type": "stream",
          "name": "stdout",
          "text": [
            "17599\n"
          ]
        }
      ]
    },
    {
      "cell_type": "markdown",
      "source": [
        "## Step 2: Creating Token IDs"
      ],
      "metadata": {
        "id": "7RTXURP9lD1x"
      }
    },
    {
      "cell_type": "code",
      "source": [
        "#sorted and unique words\n",
        "unique_word = set(preprocessed)\n",
        "print(len(unique_word))\n",
        "sorted_word = sorted(unique_word)\n",
        "vocab_size = sorted_word\n",
        "print(vocab_size)\n",
        "print(len(vocab_size))"
      ],
      "metadata": {
        "colab": {
          "base_uri": "https://localhost:8080/"
        },
        "id": "DRy6jFNClOuo",
        "outputId": "6f5f9f69-63d8-4419-a16e-ee5dbdeb6f59"
      },
      "execution_count": null,
      "outputs": [
        {
          "output_type": "stream",
          "name": "stdout",
          "text": [
            "3028\n",
            "['!', '$', '$1', '$10', '$100', '$104', '$125', '$14', '$140', '$142', '$15', '$150', '$152', '$16', '$185', '$192', '$2', '$200', '$250', '$250-per-foot-per-year', '$26', '$3', '$30', '$300', '$31', '$33', '$4', '$40', '$400', '$401', '$45', '$5', '$50', '$500', '$504', '$53', '$550', '$6', '$600', '$650', '$800', '$950', '$99', '%', '&', '(', ')', ',', '.', '0', '00', '000', '000-square-foot', '050', '1', '10', '10%', '100', '11', '12', '124', '126', '13', '14', '140', '142', '15', '15%', '16', '17', '18', '188', '19', '192', '1950s', '1970s', '1990s', '2', '2%', '20', '20%', '200', '2001', '2008', '2010', '2011', '23', '24', '25', '250', '26', '267', '27', '28', '29', '3', '30', '30%', '300', '31', '32', '33', '33%', '333', '34', '35', '35%', '36', '37', '373', '38', '382', '385', '39', '4', '40', '40%', '400', '401', '41', '42', '43', '44', '45', '46', '47', '49', '496', '5', '5%', '50', '50%', '500', '504', '6', '6%', '60', '600', '692', '7', '7%', '700', '8', '80%', '800', '812', '850', '9', '900', ':', ';', '=', '?', 'A', 'Ability', 'Accessories', 'Accomplished', 'Accounting', 'Accounting/Legal', 'Acme', 'Add', 'Advertising', 'Aff', 'Affect', 'After', 'Agency', 'Alexander', 'All', 'Almost', 'Also', 'Although', 'Am', 'American', 'An', 'Analysis', 'And', 'Annual', 'Answers', 'Antoinette', 'Antoinette’s', 'Any', 'Anything', 'Appendix', 'Appendixes', 'April', 'Are', 'As', 'Ask', 'Ass', 'Assuming', 'At', 'Attend', 'August', 'Average', 'B', 'BENEFITS', 'BUSINESS', 'Bad', 'Bags', 'Bankers', 'Banker’s', 'Banks', 'Basics', 'Be', 'Because', 'Before', 'Beyond', 'Bookkeeping', 'Break-Even', 'Break-even', 'Business', 'Businesses', 'But', 'By', 'C', 'CAUTiON', 'CD-ROM', 'CDs', 'CHOOSING', 'CPA', 'Calculate', 'Calculation', 'California', 'Can', 'Care', 'Carefully', 'Census', 'Central', 'Central’s', 'Certain', 'ChApter', 'Chances', 'Change', 'Chapter', 'Check', 'Choosing', 'Christmas', 'Co', 'Completing', 'Concept', 'Consider', 'Cook', 'Cost', 'Costs', 'D', 'DO', 'DVDs', 'Deborah', 'December', 'Decide', 'Describe', 'Description', 'Despite', 'Developers', 'Development', 'Dislike', 'Dislikes', 'Divide', 'Dividing', 'Do', 'Does', 'Dollar', 'Don’t', 'Dress', 'Dresses', 'E-Business', 'Each', 'Edsel', 'English', 'Evaluation', 'Even', 'Everyone', 'Everything', 'Exactly', 'Excel', 'Exercises', 'Existing', 'Experienced', 'Express', 'Faithful', 'February', 'Federal', 'Feel', 'Finally', 'Find', 'Finding', 'First', 'Fixed', 'For', 'Fore', 'Forecast', 'Forecast”', 'Fortunately', 'Fred', 'Freedom', 'Freight', 'Friday', 'From', 'Fulfillment', 'Further', 'Future', 'General', 'Get', 'Ghengis', 'Goals', 'Good', 'Google', 'Gorzak', 'Gross', 'Guesses', 'HD-DVD', 'HOW', 'Hairdressers', 'Have', 'He', 'Helps', 'Her', 'Here', 'Here’s', 'How', 'However', 'I', 'Ideal', 'Identify', 'If', 'Impatience', 'Improve', 'Improves', 'In', 'Incidentally', 'Include', 'Indonesian', 'Insurance', 'Internet', 'Interview', 'Introduce', 'Introduction', 'Is', 'Issues', 'It', 'It’s', 'I’d', 'I’ll', 'I’m', 'I’ve', 'Jack', 'January', 'Japanese', 'Job', 'Johnny', 'Jones', 'July', 'June', 'Just', 'Keep', 'Khan', 'Know', 'Knowledge', 'Korean', 'Laws', 'Learn', 'Let', 'Lets', 'Let’s', 'Lifestyle', 'Like', 'Likes', 'Lists', 'Livelihood', 'Look', 'Loss', 'Make', 'Making', 'Management', 'Manufacturers', 'Manufacturing', 'Many', 'March', 'Margin', 'Math', 'May', 'Maybe', 'Measuring', 'Miscellaneous', 'Monday', 'Money', 'Money—and', 'Month', 'More', 'Most', 'Much', 'Multiply', 'Music', 'My', 'N/A', 'NASA’s', 'Naturally', 'Needs', 'Neiman-Marcus', 'New', 'Next', 'Nobody', 'Nolo', 'Normally', 'Not', 'Note', 'November', 'Now', 'OF', 'OWN', 'Obviously', 'Occasionally', 'October', 'Odds', 'Of', 'Oh', 'On', 'Once', 'One', 'Online', 'Or', 'Other', 'Otherwise', 'Our', 'PLAN', 'Patty', 'Pay', 'Paycheck', 'People', 'People’s', 'Perhaps', 'Personal', 'Personnel', 'Ph', 'Plan', 'Points', 'Pope', 'Power', 'Precisely', 'Price', 'Problem', 'Proceed', 'Professional', 'Profi', 'Profit', 'Programs', 'Project', 'Put', 'Putting', 'Questions', 'REALLY', 'RIGHT', 'Read', 'Reality', 'Reduce', 'Regular', 'Religious', 'Remember', 'Rent', 'Repeat', 'Respect', 'Retail', 'Revenue', 'Revision', 'Right', 'Risky', 'Romantic', 'Ronnie', 'Round', 'Running', 'Ryann', 'Rye', 'S', 'SWAG', 'SWAGs', 'Sale', 'Sales', 'SalesRevenue', 'Saturdays', 'Save', 'Second', 'Securities', 'See', 'Self', 'Self-Evaluation', 'Selling', 'September', 'Service', 'She', 'Shop', 'Shop’s', 'Should', 'Shove', 'Show', 'Shows', 'Silicon', 'Simply', 'Since', 'Skill', 'Skills', 'Small', 'So', 'Soft', 'Software', 'Solve', 'Some', 'Sometimes', 'Sounds', 'Specifi', 'Specific', 'Squaw', 'Start-Up', 'State', 'Statement', 'States', 'Still', 'Stop', 'Strong', 'Subtract', 'Success', 'Successful', 'Sunday', 'Supermarket', 'Supermarkets', 'Supplies', 'Sure', 'T', 'THE', 'TO', 'TVs', 'Table', 'Take', 'Talk', 'Taste', 'Taxes', 'Technology', 'Telephone', 'Tendency', 'Th', 'That', 'The', 'Then', 'There', 'Therefore', 'There’s', 'These', 'They', 'Think', 'This', 'TiP', 'To', 'Today', 'Together', 'Total', 'Toyota', 'Track', 'Treat', 'Trends', 'Type', 'U', 'Unfortunately', 'United', 'Unless', 'Up', 'Use', 'Utilities', 'Valley', 'Volume', 'WANT', 'WRITE', 'WRITING', 'Wages', 'Wasn’t', 'We', 'Weak', 'We’ll', 'What', 'When', 'Where', 'Which', 'While', 'Who', 'Whole', 'Wholesale', 'Wholesalers', 'Why', 'Wild', 'Will', 'With', 'Work', 'Write', 'Writing', 'YOU', 'Year', 'York', 'You', 'Your', 'You’ll', 'You’ve', 'a', 'abandon', 'ability', 'able', 'about', 'above', 'abreast', 'absentee', 'absolutely', 'abstract', 'accept', 'acceptance', 'acces', 'accessories', 'accommodate', 'accompanying', 'accomplish', 'accomplished', 'accomplishes', 'account', 'accountants', 'accounting', 'accounts', 'accurate', 'accurately', 'achievable', 'achieve', 'achieving', 'acquaintances', 'acquire', 'active', 'activities', 'activity', 'acts', 'actually', 'add', 'addicts', 'adding', 'additional', 'addresses', 'adequately', 'adjustments', 'admit', 'advantage', 'adventurous', 'advertise', 'advertising', 'advice', 'advisor', 'aff', 'affect', 'affected', 'affects', 'afford', 'after', 'again', 'age', 'agencies', 'agency', 'aggres', 'ago', 'agree', 'ahead', 'aimed', 'albatross', 'alert', 'all', 'allow', 'allowances', 'allows', 'almost', 'alone', 'along', 'already', 'also', 'alterations', 'alternative', 'alternatives', 'although', 'altogether', 'always', 'am', 'amount', 'amounts', 'an', 'ana', 'analyses', 'analysis', 'analyzes', 'ancillary', 'and', 'and/or', 'animals', 'annual', 'another', 'answer', 'answered', 'answering', 'answers', 'anticipate', 'anticipated', 'antique', 'any', 'anyone', 'app', 'appear', 'appearance', 'appliance', 'applica', 'applicant', 'application', 'applies', 'apply', 'appreciate', 'approach', 'approaches', 'approval', 'approximately', 'architects', 'are', 'area', 'areas', 'aren’t', 'arithmetic', 'around', 'arrive', 'arrives', 'art', 'article', 'artisan', 'as', 'ask', 'asked', 'aspect', 'aspects', 'assemble', 'assembling', 'assess', 'asso', 'associated', 'associating', 'assortment', 'assume', 'at', 'atmosphere', 'attachment', 'attempt', 'attempted', 'attention', 'attitude', 'attitudes', 'attribute', 'attributes', 'automatically', 'automobile', 'automobiles', 'available', 'average', 'averages', 'avoid', 'away', 'baby', 'back', 'backer', 'backers', 'background', 'backing', 'backlog', 'bad', 'badmouths', 'bag', 'bakeries', 'balance', 'balanced', 'bank', 'bankers’', 'banker’s', 'banking', 'banks', 'bank’s', 'bar', 'bargain', 'base', 'basic', 'basis', 'be', 'bear', 'bearing', 'beat', 'beat-up', 'because', 'become', 'been', 'beer', 'before', 'began', 'begin', 'begins', 'behind', 'being', 'belief', 'believe', 'believes', 'below', 'belt', 'belts', 'benefit', 'benefits', 'best', 'bet', 'better', 'between', 'beyond', 'bias', 'big', 'bigger', 'billable', 'bills', 'bit', 'black', 'blank', 'blessed', 'blind', 'blinded', 'bomb”', 'book', 'bookkeeping', 'books', 'bookstore', 'bookstores', 'boom', 'boot', 'born', 'borrow', 'borrowing', 'boss', 'both', 'bots', 'bound', 'brave', 'break', 'break-even', 'breast', 'brick-and-mortar', 'bright', 'bring', 'bringing', 'brings', 'broad', 'broadly', 'broke', 'broken', 'broker', 'brokers', 'broom', 'brush', 'budding', 'budgets', 'build', 'building', 'buildings', 'builds', 'built-in', 'bum', 'busi', 'business', 'businesses', 'businesspeople', 'businessperson', 'businesswomen', 'business—but', 'business—how', 'business—simply', 'busy', 'but', 'buy', 'buyer', 'buying', 'buys', 'by', 'c', 'calculate', 'calculated', 'calculates', 'calculations', 'call', 'called', 'calls', 'cameras', 'campaign', 'can', 'candidate', 'cannot', 'can’t', 'capital', 'car', 'card', 'care', 'careful', 'carefully', 'carpenters', 'carpet', 'carries', 'carry', 'cars', 'cash', 'cast', 'casts', 'catalogue', 'catches', 'categories', 'categorized', 'category', 'cater', 'cause-driven', 'cautious', 'census', 'center', 'centers', 'central', 'centuries', 'certain', 'certainly', 'chain', 'challenging', 'chance', 'chances', 'change', 'changed', 'changes', 'changing', 'chapter', 'chapters', 'characteristics', 'characterized', 'charge', 'charisma', 'chart', 'cheap', 'cheaper', 'check', 'checking', 'chef', 'children', 'choice', 'choices', 'choose', 'choosing', 'chosen', 'chunk', 'ciated', 'ciency', 'cigarettes', 'cities', 'city', 'city’s', 'clash', 'classic', 'clean', 'cleaners', 'cleaning', 'clear', 'clerk', 'clerks', 'click', 'client', 'clients', 'clock', 'close', 'closed', 'closely', 'closet', 'clothing', 'club', 'coherent', 'coincidence', 'cold', 'collateral', 'collects', 'color', 'colors', 'column', 'com', 'combina', 'combination', 'combine', 'come', 'comes', 'comfortable', 'comforts', 'commissions', 'commitment', 'commitments', 'committed', 'common', 'commonly', 'communicate', 'community', 'companies', 'company', 'comparable', 'compare', 'comparing', 'comparison', 'compe', 'compensation', 'compete', 'competing', 'competition', 'competition’s', 'competitive', 'compiled', 'complete', 'completed', 'completes', 'completing', 'completion', 'complicated', 'comply', 'component', 'components', 'compulsive', 'comput', 'computer', 'computers', 'con', 'concentrate', 'concept', 'concepts', 'concerns', 'concludes', 'concrete', 'concretely', 'conduct', 'confess', 'confidence', 'configuration', 'confl', 'connection', 'conscious', 'consciously', 'conservative', 'consider', 'consideration', 'considering', 'consistent', 'consists', 'constructive', 'consumer', 'consumers', 'consumption', 'contact', 'contained', 'containing', 'contains', 'contemporary', 'contentedly', 'continue', 'continuing', 'contract', 'contractor', 'contractors', 'convenience', 'convenient', 'convert', 'converted', 'conviction', 'convince', 'cook', 'copies', 'copy', 'corner', 'corporation', 'correct', 'correctly', 'correspondence', 'cosmetic', 'cost', 'costs', 'costs”—expenses', 'could', 'couldn’t', 'count', 'counterparts—that', 'counterweight', 'countless', 'county', 'course', 'cover', 'covered', 'covers', 'cozy', 'craft', 'create', 'creates', 'creating', 'creative', 'credentials', 'credit', 'creditworthiness', 'critical', 'crucial', 'cult', 'culty', 'cumulative', 'currency', 'current', 'currently', 'curve', 'customer', 'customers', 'customers—', 'customers’', 'customer’s', 'cutting', 'cyber', 'daily', 'daisies', 'danger', 'dangerous', 'dangerously', 'data', 'date', 'day', 'days', 'daytime', 'dead-end', 'deal', 'dealerships', 'dearly', 'death', 'debts', 'decade', 'decent', 'decide', 'decided', 'decides', 'deciding', 'decimal', 'decision', 'decision-making', 'decisions', 'decline', 'declines', 'declining', 'decrease', 'dedicated', 'dedication', 'defi', 'defined', 'definite', 'delete', 'delicatessens', 'delivery', 'delude', 'demanding', 'demographics', 'demonstrates', 'department', 'depending', 'deposited', 'derive', 'describe', 'described', 'describes', 'describing', 'descrip', 'description', 'descriptions', 'deserves', 'design', 'designed', 'desirable', 'desire', 'desk', 'desperately', 'destroy', 'detail', 'detailed', 'determination', 'determine', 'develop', 'developer', 'developers', 'developer’s', 'developing', 'development', 'developments', 'device', 'devices', 'dexterity', 'diaper', 'diapers', 'did', 'didn’t', 'die', 'difference', 'different', 'differs', 'diffi', 'difficult', 'digital', 'dilapidated', 'dilemma', 'dimwit', 'direct', 'direction', 'directions', 'directly', 'dirty', 'dirty”', 'disappear', 'disasters', 'disciples', 'discomfort', 'discouraging', 'discuss', 'discusses', 'discussion', 'dise', 'distance', 'distinguish', 'distractions', 'distributor', 'distributorships', 'divide', 'dividing', 'do', 'document', 'document—even', 'does', 'doesn’t', 'dog', 'doing', 'dollar', 'dollars', 'domain', 'done', 'don’t', 'doomed', 'door', 'doors', 'dot-com', 'double', 'double-check', 'doubling', 'doubts', 'dough', 'down', 'downside', 'downtown', 'draft', 'draw', 'dreamed', 'dress', 'dresses', 'drinks', 'drive', 'drive-by', 'driving', 'drugstores', 'dry', 'dual', 'due', 'during', 'e', 'e-commerce', 'e-tailers', 'each', 'eager', 'earlier', 'early', 'earns', 'easier', 'easily', 'easy', 'economic', 'economy', 'ecting', 'ed', 'edge', 'educated', 'effectiveness', 'effects', 'efficiently', 'efforts', 'eggs', 'ego', 'eight', 'eight-track', 'either', 'eld', 'electronic', 'elegant', 'else', 'email', 'ematical', 'embedded', 'emerged', 'emergencies', 'emotional', 'employee', 'employees', 'employees—too', 'employment', 'enable', 'enables', 'enam', 'enamored', 'end', 'endeavor', 'endeavors', 'ends', 'energy', 'engine', 'engines', 'enjoy', 'enough', 'ensure', 'entail', 'enter', 'entering', 'enters', 'entertainment', 'enthusiasm', 'entity', 'entre', 'entrepreneur', 'entrepreneurs', 'environment', 'equal', 'equipment', 'er', 'ere', 'ergonomically', 'ers', 'ese', 'especially', 'essayist', 'essential', 'essentially', 'established', 'estate', 'estate”', 'estimate', 'estimated', 'estimates', 'estimating', 'etc', 'eternal', 'evaluate', 'evaluation', 'even', 'eventually', 'ever-expanding', 'every', 'everybody’s', 'everyone', 'everyone’s', 'everything', 'exAmple', 'exact', 'exactly', 'exaggeration', 'examined', 'example', 'examples', 'exceeds', 'excellent', 'exception', 'exchange', 'exchanging', 'exclude', 'exclusive', 'executives', 'exercise', 'exercises', 'exercising', 'exhaustively', 'existing', 'exists', 'expand', 'expanding', 'expansion', 'expect', 'expected', 'expects', 'expect—not', 'expense', 'expenses', 'experience', 'experienced', 'expert', 'explain', 'exploiting', 'explosion', 'express', 'expressed', 'extension', 'extensively', 'extinguishing', 'extra', 'extras', 'extremely', 'ey', 'eyes', 'f', 'face', 'faced', 'faces', 'facilities', 'facing', 'fact', 'factors', 'facts', 'facturers', 'fad', 'fail', 'failed', 'failure', 'fairly', 'fall', 'family', 'fancy', 'fantasies', 'far', 'fare', 'farming', 'far—', 'far—but', 'fashion', 'fashionable', 'fat', 'favor', 'fears', 'feature', 'featuring', 'federal', 'fee', 'feeling', 'feelings', 'fees', 'feet', 'fellow', 'feverishly', 'few', 'fewer', 'fi', 'fiddle', 'field', 'figure', 'figures', 'filename', 'fill', 'final', 'financial', 'find', 'fine', 'fine-tune', 'finish', 'finished', 'fire', 'firms', 'first', 'first-rate', 'first-year', 'fit', 'five', 'five-figure', 'fixed', 'fixed-cost', 'fixes', 'fl', 'flattening', 'flaws', 'floor', 'florists', 'flow', 'flows', 'fluctuations', 'flying', 'focus', 'focuses', 'folks', 'follow', 'followed', 'following', 'follows', 'food', 'foods', 'foolish', 'foolproof', 'fools', 'foot', 'for', 'force', 'fore', 'forecast', 'forecasting', 'forecasts', 'foreign', 'forget', 'forgotten', 'format', 'former', 'formulas', 'forth', 'fortunes', 'found', 'foundation', 'founder', 'founders', 'four', 'franchises', 'free', 'freedom', 'french', 'french-fryers', 'fried', 'friend', 'friends', 'friends—I', 'fries', 'from', 'front', 'fudge', 'fulfilling', 'fulfillment', 'full', 'fun', 'function', 'functions', 'fundamental', 'furniture', 'future', 'gained', 'gamble', 'games', 'gas', 'gather', 'gathered', 'general', 'generate', 'generated', 'generous', 'genuinely', 'get', 'gets', 'getting', 'girlfriend', 'give', 'gives', 'giving', 'gladly', 'glance', 'glass', 'glassblowers', 'go', 'goal', 'goals', 'goes', 'going', 'gone', 'good', 'good-looking', 'goods', 'good—but', 'gram', 'grand', 'grease', 'great', 'grocery', 'groggy', 'gross', 'ground', 'group', 'grow', 'growing', 'growth', 'guarantee', 'guarantees', 'guess', 'guesses', 'guitar', 'guitars', 'gure', 'guzzlers', 'h', 'had', 'half', 'half-a', 'hamburgers', 'hand', 'handle', 'handling', 'hands', 'hangover', 'happen', 'happy', 'hard', 'harder', 'hardest', 'has', 'hasn’t', 'hate', 'have', 'haven’t', 'having', 'he', 'head', 'heard', 'heat', 'heavy', 'help', 'helpful', 'helps', 'her', 'here', 'here’s', 'herself', 'high', 'higher', 'higher-than-average', 'him', 'himself', 'hire', 'hires', 'his', 'hit', 'hobby', 'hole', 'home', 'homework', 'honest', 'honestly', 'hoods', 'hope', 'hopeless', 'hopes', 'hot', 'hour', 'hours', 'house', 'housecleaners', 'how', 'however', 'human', 'hundreds', 'hungry', 'hurry', 'i', 'icting', 'icts', 'idea', 'ideal', 'ideas', 'ideas”', 'identify', 'identifying', 'ield', 'if', 'ignore', 'illustrate', 'image', 'immediate', 'implement', 'import', 'important', 'imported', 'importing', 'impossible', 'improve', 'improves', 'in', 'inaccurate', 'inancial', 'inancially', 'include', 'included', 'including', 'income', 'inconsistencies', 'inconvenience—to', 'increase', 'increased', 'increases', 'increasing', 'increasingly', 'incur', 'ind', 'independence', 'independent', 'individual', 'industries', 'infallible—nothing', 'infant', 'inflation', 'informa', 'information', 'ingredient', 'ingredients', 'ings', 'initial', 'innovative', 'inside', 'insist', 'install', 'instance', 'instead', 'institutions', 'instruments', 'insurance', 'integrating', 'intelligent', 'intend', 'intensive', 'interest', 'interested', 'interests', 'internal', 'international', 'internationally', 'interview', 'interviewing', 'interviews', 'intimate', 'intimately', 'into', 'introduced', 'inventory', 'investment', 'investors', 'investor’s', 'inviting', 'invoice', 'involve', 'involved', 'involves', 'irms', 'irst', 'is', 'isn’t', 'issued', 'issues', 'is”', 'it', 'item', 'items', 'its', 'it’s', 'ixed', 'jackets', 'job', 'jobs', 'jot', 'journey', 'judge', 'judgment', 'just', 'justify', 'keep', 'keeping', 'kept', 'key', 'kind', 'kinds', 'kitchen', 'knew', 'know', 'knowledge', 'knowledgeable', 'known', 'knows', 'l', 'labels', 'labor', 'lack', 'lacking', 'landlords', 'large', 'large-scale', 'larger', 'larized', 'laser', 'last', 'late', 'later', 'latten', 'laundries', 'laws', 'layout', 'le', 'learn', 'learned', 'learning', 'lease', 'least', 'leather', 'leave', 'leaving', 'left', 'leisure', 'lend', 'lender', 'lenders', 'lender’s', 'less', 'lesson', 'let', 'let’s', 'level', 'lexibility', 'librarians', 'license', 'licenses', 'licensing', 'lies', 'life', 'lifetime', 'life’s', 'lighter', 'like', 'likelihood', 'likely', 'limited', 'line', 'lines', 'link', 'liquor', 'list', 'listed', 'lists', 'lists—don’t', 'literally', 'little', 'live', 'living', 'll', 'lled', 'lling', 'loan', 'loans', 'local', 'locale', 'locate', 'located', 'location', 'logical', 'logically', 'long', 'long-range', 'long-term', 'longer', 'look', 'looked', 'looking', 'looks', 'lose', 'loser', 'loss', 'lot', 'lots', 'lounges', 'lour', 'love', 'loves', 'low', 'low-rent', 'lower', 'lowering', 'lucky', 'luctuate', 'luctuations', 'lyze', 'm', 'machine', 'made', 'magazines', 'mail', 'maintain', 'maintains', 'maintenance', 'major', 'majority', 'make', 'maker', 'makes', 'making', 'mall', 'manage', 'managed', 'management', 'manager', 'managing', 'manipulate', 'manu', 'manual', 'manufacturer', 'manufacturers', 'manufacturer’s', 'manufacturing', 'many', 'margin', 'marginal', 'margins', 'mark', 'mark-downs', 'market', 'marketing', 'marketplace', 'markets', 'marts', 'massive', 'mastery', 'matches', 'mate', 'material', 'materials', 'math', 'matter', 'matters', 'matures', 'may', 'maybe', 'me', 'meal', 'mean', 'means', 'meat', 'mechanics', 'meet', 'meets', 'meltdown', 'members', 'ment', 'mentioned', 'mentions', 'menu', 'merchan', 'merchandise', 'merchant', 'merchants', 'met', 'metaphor', 'method', 'methods', 'meticulous', 'metrics', 'middle', 'midsummer', 'might', 'mighty', 'migrant', 'mileage', 'miles', 'millions', 'mind', 'minor', 'minority', 'minute', 'minutes', 'mire', 'mirror', 'miss', 'missing', 'mistake', 'mistakes', 'mistake—I', 'mixed', 'mixing', 'mobile', 'model', 'modems', 'moderate', 'modify', 'modity', 'moment', 'moments', 'money', 'money’s', 'month', 'monthly', 'months', 'more', 'mortals', 'mortgage', 'most', 'motivate', 'motivator', 'mousetrap', 'movements', 'much', 'muck', 'multiplied', 'multiplies', 'multiply', 'music', 'musical', 'must', 'my', 'myself', 'naive', 'naively', 'name', 'nancial', 'nationally', 'natural', 'nd', 'nding', 'nearby', 'nearest', 'necessarily', 'necessary', 'necessary—no', 'necessities', 'necessity', 'neck', 'need', 'needed', 'needs', 'negative', 'neglecting', 'neighborhood', 'nervous', 'ness', 'nesses', 'network', 'never', 'new', 'news', 'newsletter', 'newsstand', 'next', 'nice', 'night', 'nights’', 'no', 'nonbillable', 'nonsmoking', 'normal', 'normally', 'not', 'note', 'nothing', 'now', 'number', 'numbers', 'objective', 'objectives', 'obtain', 'obtaining', 'obvious', 'obviously', 'occasionally', 'occur', 'occurs', 'odds', 'of', 'off', 'offer', 'office', 'offices', 'offline', 'often', 'okay', 'old', 'older', 'on', 'once', 'one', 'one-half', 'one-quarter', 'one-time', 'ones', 'ongoing', 'online', 'only', 'open', 'opened', 'opening', 'openings', 'operate', 'operates', 'operating', 'operation', 'operations', 'operations—all', 'opinions', 'opportunities', 'optimism', 'option', 'options', 'or', 'order', 'ordering', 'orderly', 'orders', 'ordinary', 'ored', 'original', 'other', 'others', 'otherwise', 'our', 'out', 'outlay', 'outside', 'over', 'overage', 'overhead', 'overkill', 'overlook', 'overlooked', 'overly', 'overview', 'ow', 'owe', 'own', 'owner', 'owners', 'ownership', 'owner’s', 'owning', 'p', 'pace', 'packaging', 'pages', 'paid', 'panic', 'pantsuits', 'paper', 'part', 'part-time', 'participate', 'particular', 'partner', 'partners', 'partnership', 'parts', 'pass', 'passes', 'pasta', 'paste-up', 'patents', 'patience', 'patients', 'patronizing', 'paving', 'pay', 'paycheck', 'paying', 'payments', 'payroll', 'pays', 'peak', 'peers', 'people', 'people’s', 'per', 'percentage', 'perfect', 'perform', 'perhaps', 'period', 'permits', 'persistent', 'person', 'personal', 'personalities', 'personality', 'personalized', 'perspec', 'perspective', 'pertain', 'philosophy', 'phone', 'physical', 'piano', 'picking', 'piece', 'piece-rate', 'pitch', 'pizza-by-the-slice', 'place', 'plan', 'planned', 'planning', 'plans', 'plans—on', 'players', 'pleased', 'pleasure', 'plenty', 'poet', 'point', 'points', 'polishing', 'polluting', 'ponder', 'pool', 'popu', 'popular', 'population', 'portions', 'positive', 'positively', 'possess', 'possible', 'post', 'postage', 'postpone', 'potential', 'power', 'practical', 'pre-2001', 'precious', 'predict', 'predicting', 'prefer', 'preferably', 'preferences', 'preneur', 'preneurs', 'prepare', 'prepared', 'prepares', 'preparing', 'preprinted', 'present', 'presentable', 'presented', 'presently', 'presses', 'pretty', 'previously', 'price', 'priced', 'prices', 'primary', 'principles', 'print', 'prior', 'private', 'pro', 'probably', 'problem', 'problems', 'procedure', 'proceed', 'proceeding', 'proceeds', 'process', 'produced', 'produces', 'product', 'production', 'products', 'professional', 'profi', 'profit', 'profitability', 'profitable', 'profitably', 'profitably—lots', 'profits', 'program', 'programming', 'programs', 'project', 'projected', 'projections', 'projects', 'project’s', 'promise', 'promote', 'promotion', 'prompt', 'properly', 'proposal', 'proposed', 'proposes', 'proprietor', 'prospective', 'prospects', 'prosper', 'prosperity', 'protect', 'protected', 'prove', 'proverb', 'proverbial', 'provide', 'provided', 'providing', 'prudent', 'psycho', 'public', 'publish', 'publishing', 'pull', 'puller', 'purchase', 'purchases', 'purchasing', 'purpose', 'purses', 'pursuing', 'put', 'puts', 'qualifi', 'qualified', 'qualify', 'quality', 'question', 'questions', 'quick', 'quickly', 'quite', 'railroad', 'raise', 'raising', 'ran', 'range', 'ranges', 'rapidly', 'rate', 'rates', 'rather', 'ratio', 'raw', 'reach', 'reaction', 'read', 'readily', 'reading', 'ready', 'real', 'realistic', 'realistically', 'realities', 'realize', 'realized', 'realizes', 'really', 'reason', 'reasonable', 'reasonably', 'rebound', 'recent', 'recognize', 'record', 'records', 'reduce', 'reduced', 'reduces', 'reduction', 'reexamines', 'refer', 'reference', 'referrals', 'referring', 'refined', 'reflect', 'reflection', 'refresher', 'regardless', 'regula', 'regular', 'regularly', 'regulations', 'related', 'relates', 'relationship', 'relationships', 'relatively', 'relaxed', 'relentless', 'reliable', 'rely', 'remember', 'remind', 'rent', 'rents', 'repair', 'repairs', 'repayments', 'repeat', 'repeats', 'repetitive', 'represent', 'request', 'requested', 'require', 'required', 'requirements', 'requires', 'research', 'resell', 'resells', 'reserves', 'resolutions', 'resort', 'resources', 'respect', 'respected', 'responsibility', 'restaurant', 'restaurants', 'restores', 'restrictions', 'rests', 'result', 'resulting', 'results', 'retail', 'retailer', 'retailers', 'retired', 'revenue', 'revenues', 'review', 'revised', 'rewrite', 'rich', 'rid', 'ride', 'rides', 'riding', 'right', 'rights', 'risk', 'risks', 'roll', 'room', 'roses', 'rough', 'round', 'rst', 'rude', 'rule', 'run', 'running', 'runs', 's', 'sacrifice', 'sacrifices', 'sad', 'sadly—it', 'said', 'salaries', 'salary', 'sale', 'saleable', 'saler', 'salers', 'saler’s', 'sales', 'salesperson', 'same', 'same—start', 'sample', 'save', 'savvy', 'saw', 'say', 'saying', 'says', 'scale', 'scary', 'schedule', 'school', 'science', 'scope', 'scrap', 'screening', 'screens', 'search', 'season', 'seasonal', 'seasons', 'second', 'section', 'sections', 'secures', 'securities', 'security', 'see', 'seeing', 'seem', 'seemingly', 'seems', 'seen', 'seldom', 'select', 'selection', 'self', 'self-evaluation', 'sell', 'selling', 'sells', 'send', 'sense', 'sent', 'separate', 'series', 'serious', 'seriously', 'serve', 'serves', 'service', 'services', 'serving', 'set', 'setting', 'settle', 'settles', 'several', 'sewer', 'sexual', 'shadow', 'share', 'shares', 'sharply', 'she', 'sheet', 'she’ll', 'ship', 'shipments', 'shipping', 'shipping”', 'shop', 'shoppers', 'shopping', 'shops', 'short', 'short-term', 'shots', 'should', 'shouldn’t', 'show', 'showing', 'shown', 'shows', 'side', 'sign', 'similar', 'simple', 'simplest', 'simplicity', 'simply', 'since', 'single', 'sink', 'situation', 'sive', 'six', 'six-month', 'size', 'skeptical', 'ski', 'skiing', 'skill', 'skilled', 'skills', 'skip', 'sleep', 'sleeves', 'slicing', 'slightly', 'slip', 'sloppy', 'slow', 'slow-paying', 'slowdown', 'slump', 'small', 'smaller', 'smaller—', 'smart', 'smell', 'smitten', 'smokers', 'snapshot', 'so', 'sober', 'society', 'soft', 'software', 'solar', 'sold', 'sole', 'solution', 'solve', 'solves', 'some', 'someone', 'something', 'sometimes', 'somewhere', 'song', 'sories', 'sort', 'sorts', 'sound', 'soundness', 'sounds', 'source', 'sources', 'space', 'spacecraft', 'spare', 'special', 'specialize', 'specifi', 'specific', 'specifics', 'specify', 'speculation', 'speed', 'speeds', 'spend', 'spending', 'spends', 'spin', 'sponsored', 'sporting', 'sportswear', 'spot', 'spreadsheet', 'spring', 'springs', 'square', 'stage', 'stand', 'start', 'start-up', 'started', 'starting', 'starts', 'state', 'statement', 'states', 'stations', 'statistics', 'stay', 'steadily', 'steady', 'steel', 'step', 'steps', 'still', 'stop', 'store', 'storefront', 'stores', 'store’s', 'story', 'strategies', 'strengths', 'strips', 'strive', 'strong', 'stronger', 'students', 'study', 'stump', 'style', 'styles', 'subsequent', 'substantial', 'substitute', 'subtract', 'subtracting', 'subtracts', 'succeed', 'succeeding', 'success', 'successful', 'successfully', 'such', 'suffer', 'sufficient', 'sufficiently', 'suggest', 'suggestion', 'suggestions', 'suitable', 'suited', 'suits', 'sultants', 'summer', 'supermarket', 'supermarkets', 'supervise', 'supplier', 'suppliers', 'support', 'suppose', 'sure', 'surely', 'surpass', 'surprise', 'surprised', 'surrounding', 'survey', 'survive', 'survivors', 'swell', 'system', 'systems', 't', 'tail', 'take', 'takes', 'talents', 'talk', 'talking', 'tape', 'tapes', 'target', 'task', 'tasks', 'taste', 'tastes', 'tax', 'taxes', 'teach', 'teacher', 'teaches', 'technique', 'technological', 'technologies', 'technology', 'telephone', 'tell', 'tells', 'temperament', 'template', 'ten', 'tendency', 'tender', 'terms', 'terrific', 'tests', 'than', 'that', 'that’s', 'the', 'their', 'them', 'theme', 'themselves', 'then', 'there', 'there”', 'these', 'they', 'they’re', 'thing', 'things', 'think', 'thinking', 'thinks', 'this', 'thorough', 'thoroughly', 'those', 'though', 'thought', 'thought-out', 'thought-stimulating', 'thoughts', 'threatens', 'three', 'through', 'throughout', 'throw', 'throws', 'ti', 'time', 'times', 'tinker', 'tion', 'tions', 'tips', 'tired', 'title', 'tive', 'to', 'today', 'today’s', 'together', 'told', 'too', 'took', 'tool', 'toothbrushes', 'tory', 'total', 'totals', 'touch', 'tough', 'tour', 'toward', 'town', 'toxic', 'track', 'tracks', 'tract', 'trade', 'traditional', 'traffi', 'traffic', 'train', 'traits', 'translate', 'traps', 'travel', 'trends', 'trips', 'trouble', 'truck', 'trucking', 'true', 'trusting', 'try', 'trying', 'tting-room', 'tune-up', 'turned', 'twice', 'twin', 'two', 'type', 'types', 'typical', 'typically', 'ultimate', 'ultimately', 'unable', 'unavailable', 'unavoidable', 'unconnected', 'unconscious', 'uncover', 'under', 'understand', 'understanding', 'undoubtedly', 'uneasy', 'unemployed', 'unexpected', 'unfortunately', 'unhappy', 'unique', 'unless', 'unlikely', 'unlimited', 'until', 'up', 'us', 'usable', 'use', 'used', 'useful', 'user', 'users', 'using', 'usually', 'utilities', 'value', 'variable', 'varieties', 'variety', 'vary', 'varying', 'vast', 've', 'venture', 'ventures', 'verify', 'very', 'via', 'viable', 'video', 'videos', 'view', 'vigilance', 'virtually', 'visiting', 'volume', 'volumes', 'wade', 'wage', 'waking', 'walk-by', 'wallet', 'want', 'wanting', 'wants', 'want—today', 'ware', 'warehouse', 'was', 'washes', 'washing', 'wasn’t', 'watch', 'watches', 'way', 'ways', 'we', 'weak', 'weaknesses', 'wealthy', 'wear', 'website', 'week', 'weeks', 'well', 'well-built', 'well-thought', 'well-thought-out', 'went', 'were', 'what', 'whatever', 'when', 'where', 'whether', 'which', 'while', 'white', 'who', 'whole', 'wholesale', 'wholesaler', 'wholesalers', 'whose', 'why', 'wide', 'wider', 'will', 'willing', 'window', 'windows', 'wine', 'winner', 'wisdom', 'wish', 'wishes', 'with', 'without', 'woman', 'women', 'women’s', 'wonder', 'wonderfully', 'wonders', 'won’t', 'work', 'worked', 'workers', 'workforce', 'working', 'workroom', 'works', 'world', 'worry', 'worth', 'worthwhile', 'would', 'wrap', 'wrist', 'write', 'writing', 'written', 'wrong', 'wrote', 'xed', 'xls', 'year', 'years', 'year—or', 'year’s', 'yet', 'you', 'younger', 'your', 'yours', 'yourself', 'you—one', 'you’d', 'you’ll', 'you’re', 'you’ve', '|', '×', '÷', '“Hope', '“I', '“I’m', '“Production', '“Retail', '“Scientific', '“Service', '“Take', '“Yes', '“Yes”', '“apps”', '“as', '“brilliant', '“constant', '“constant”', '“discretionary', '“dot', '“drop', '“fixed', '“hot”', '“just', '“nut', '“overhead', '“quick', '“raising', '“real', '“right”', '”', '•', '−']\n",
            "3028\n"
          ]
        }
      ]
    },
    {
      "cell_type": "code",
      "source": [
        "vocab = {token: integer for integer, token in enumerate(vocab_size)}\n",
        "print(vocab)\n"
      ],
      "metadata": {
        "id": "hcYQG5dxnrah",
        "colab": {
          "base_uri": "https://localhost:8080/"
        },
        "outputId": "957ba2e8-2cb5-492a-a762-74f31932a1ba"
      },
      "execution_count": null,
      "outputs": [
        {
          "output_type": "stream",
          "name": "stdout",
          "text": [
            "{'!': 0, '$': 1, '$1': 2, '$10': 3, '$100': 4, '$104': 5, '$125': 6, '$14': 7, '$140': 8, '$142': 9, '$15': 10, '$150': 11, '$152': 12, '$16': 13, '$185': 14, '$192': 15, '$2': 16, '$200': 17, '$250': 18, '$250-per-foot-per-year': 19, '$26': 20, '$3': 21, '$30': 22, '$300': 23, '$31': 24, '$33': 25, '$4': 26, '$40': 27, '$400': 28, '$401': 29, '$45': 30, '$5': 31, '$50': 32, '$500': 33, '$504': 34, '$53': 35, '$550': 36, '$6': 37, '$600': 38, '$650': 39, '$800': 40, '$950': 41, '$99': 42, '%': 43, '&': 44, '(': 45, ')': 46, ',': 47, '.': 48, '0': 49, '00': 50, '000': 51, '000-square-foot': 52, '050': 53, '1': 54, '10': 55, '10%': 56, '100': 57, '11': 58, '12': 59, '124': 60, '126': 61, '13': 62, '14': 63, '140': 64, '142': 65, '15': 66, '15%': 67, '16': 68, '17': 69, '18': 70, '188': 71, '19': 72, '192': 73, '1950s': 74, '1970s': 75, '1990s': 76, '2': 77, '2%': 78, '20': 79, '20%': 80, '200': 81, '2001': 82, '2008': 83, '2010': 84, '2011': 85, '23': 86, '24': 87, '25': 88, '250': 89, '26': 90, '267': 91, '27': 92, '28': 93, '29': 94, '3': 95, '30': 96, '30%': 97, '300': 98, '31': 99, '32': 100, '33': 101, '33%': 102, '333': 103, '34': 104, '35': 105, '35%': 106, '36': 107, '37': 108, '373': 109, '38': 110, '382': 111, '385': 112, '39': 113, '4': 114, '40': 115, '40%': 116, '400': 117, '401': 118, '41': 119, '42': 120, '43': 121, '44': 122, '45': 123, '46': 124, '47': 125, '49': 126, '496': 127, '5': 128, '5%': 129, '50': 130, '50%': 131, '500': 132, '504': 133, '6': 134, '6%': 135, '60': 136, '600': 137, '692': 138, '7': 139, '7%': 140, '700': 141, '8': 142, '80%': 143, '800': 144, '812': 145, '850': 146, '9': 147, '900': 148, ':': 149, ';': 150, '=': 151, '?': 152, 'A': 153, 'Ability': 154, 'Accessories': 155, 'Accomplished': 156, 'Accounting': 157, 'Accounting/Legal': 158, 'Acme': 159, 'Add': 160, 'Advertising': 161, 'Aff': 162, 'Affect': 163, 'After': 164, 'Agency': 165, 'Alexander': 166, 'All': 167, 'Almost': 168, 'Also': 169, 'Although': 170, 'Am': 171, 'American': 172, 'An': 173, 'Analysis': 174, 'And': 175, 'Annual': 176, 'Answers': 177, 'Antoinette': 178, 'Antoinette’s': 179, 'Any': 180, 'Anything': 181, 'Appendix': 182, 'Appendixes': 183, 'April': 184, 'Are': 185, 'As': 186, 'Ask': 187, 'Ass': 188, 'Assuming': 189, 'At': 190, 'Attend': 191, 'August': 192, 'Average': 193, 'B': 194, 'BENEFITS': 195, 'BUSINESS': 196, 'Bad': 197, 'Bags': 198, 'Bankers': 199, 'Banker’s': 200, 'Banks': 201, 'Basics': 202, 'Be': 203, 'Because': 204, 'Before': 205, 'Beyond': 206, 'Bookkeeping': 207, 'Break-Even': 208, 'Break-even': 209, 'Business': 210, 'Businesses': 211, 'But': 212, 'By': 213, 'C': 214, 'CAUTiON': 215, 'CD-ROM': 216, 'CDs': 217, 'CHOOSING': 218, 'CPA': 219, 'Calculate': 220, 'Calculation': 221, 'California': 222, 'Can': 223, 'Care': 224, 'Carefully': 225, 'Census': 226, 'Central': 227, 'Central’s': 228, 'Certain': 229, 'ChApter': 230, 'Chances': 231, 'Change': 232, 'Chapter': 233, 'Check': 234, 'Choosing': 235, 'Christmas': 236, 'Co': 237, 'Completing': 238, 'Concept': 239, 'Consider': 240, 'Cook': 241, 'Cost': 242, 'Costs': 243, 'D': 244, 'DO': 245, 'DVDs': 246, 'Deborah': 247, 'December': 248, 'Decide': 249, 'Describe': 250, 'Description': 251, 'Despite': 252, 'Developers': 253, 'Development': 254, 'Dislike': 255, 'Dislikes': 256, 'Divide': 257, 'Dividing': 258, 'Do': 259, 'Does': 260, 'Dollar': 261, 'Don’t': 262, 'Dress': 263, 'Dresses': 264, 'E-Business': 265, 'Each': 266, 'Edsel': 267, 'English': 268, 'Evaluation': 269, 'Even': 270, 'Everyone': 271, 'Everything': 272, 'Exactly': 273, 'Excel': 274, 'Exercises': 275, 'Existing': 276, 'Experienced': 277, 'Express': 278, 'Faithful': 279, 'February': 280, 'Federal': 281, 'Feel': 282, 'Finally': 283, 'Find': 284, 'Finding': 285, 'First': 286, 'Fixed': 287, 'For': 288, 'Fore': 289, 'Forecast': 290, 'Forecast”': 291, 'Fortunately': 292, 'Fred': 293, 'Freedom': 294, 'Freight': 295, 'Friday': 296, 'From': 297, 'Fulfillment': 298, 'Further': 299, 'Future': 300, 'General': 301, 'Get': 302, 'Ghengis': 303, 'Goals': 304, 'Good': 305, 'Google': 306, 'Gorzak': 307, 'Gross': 308, 'Guesses': 309, 'HD-DVD': 310, 'HOW': 311, 'Hairdressers': 312, 'Have': 313, 'He': 314, 'Helps': 315, 'Her': 316, 'Here': 317, 'Here’s': 318, 'How': 319, 'However': 320, 'I': 321, 'Ideal': 322, 'Identify': 323, 'If': 324, 'Impatience': 325, 'Improve': 326, 'Improves': 327, 'In': 328, 'Incidentally': 329, 'Include': 330, 'Indonesian': 331, 'Insurance': 332, 'Internet': 333, 'Interview': 334, 'Introduce': 335, 'Introduction': 336, 'Is': 337, 'Issues': 338, 'It': 339, 'It’s': 340, 'I’d': 341, 'I’ll': 342, 'I’m': 343, 'I’ve': 344, 'Jack': 345, 'January': 346, 'Japanese': 347, 'Job': 348, 'Johnny': 349, 'Jones': 350, 'July': 351, 'June': 352, 'Just': 353, 'Keep': 354, 'Khan': 355, 'Know': 356, 'Knowledge': 357, 'Korean': 358, 'Laws': 359, 'Learn': 360, 'Let': 361, 'Lets': 362, 'Let’s': 363, 'Lifestyle': 364, 'Like': 365, 'Likes': 366, 'Lists': 367, 'Livelihood': 368, 'Look': 369, 'Loss': 370, 'Make': 371, 'Making': 372, 'Management': 373, 'Manufacturers': 374, 'Manufacturing': 375, 'Many': 376, 'March': 377, 'Margin': 378, 'Math': 379, 'May': 380, 'Maybe': 381, 'Measuring': 382, 'Miscellaneous': 383, 'Monday': 384, 'Money': 385, 'Money—and': 386, 'Month': 387, 'More': 388, 'Most': 389, 'Much': 390, 'Multiply': 391, 'Music': 392, 'My': 393, 'N/A': 394, 'NASA’s': 395, 'Naturally': 396, 'Needs': 397, 'Neiman-Marcus': 398, 'New': 399, 'Next': 400, 'Nobody': 401, 'Nolo': 402, 'Normally': 403, 'Not': 404, 'Note': 405, 'November': 406, 'Now': 407, 'OF': 408, 'OWN': 409, 'Obviously': 410, 'Occasionally': 411, 'October': 412, 'Odds': 413, 'Of': 414, 'Oh': 415, 'On': 416, 'Once': 417, 'One': 418, 'Online': 419, 'Or': 420, 'Other': 421, 'Otherwise': 422, 'Our': 423, 'PLAN': 424, 'Patty': 425, 'Pay': 426, 'Paycheck': 427, 'People': 428, 'People’s': 429, 'Perhaps': 430, 'Personal': 431, 'Personnel': 432, 'Ph': 433, 'Plan': 434, 'Points': 435, 'Pope': 436, 'Power': 437, 'Precisely': 438, 'Price': 439, 'Problem': 440, 'Proceed': 441, 'Professional': 442, 'Profi': 443, 'Profit': 444, 'Programs': 445, 'Project': 446, 'Put': 447, 'Putting': 448, 'Questions': 449, 'REALLY': 450, 'RIGHT': 451, 'Read': 452, 'Reality': 453, 'Reduce': 454, 'Regular': 455, 'Religious': 456, 'Remember': 457, 'Rent': 458, 'Repeat': 459, 'Respect': 460, 'Retail': 461, 'Revenue': 462, 'Revision': 463, 'Right': 464, 'Risky': 465, 'Romantic': 466, 'Ronnie': 467, 'Round': 468, 'Running': 469, 'Ryann': 470, 'Rye': 471, 'S': 472, 'SWAG': 473, 'SWAGs': 474, 'Sale': 475, 'Sales': 476, 'SalesRevenue': 477, 'Saturdays': 478, 'Save': 479, 'Second': 480, 'Securities': 481, 'See': 482, 'Self': 483, 'Self-Evaluation': 484, 'Selling': 485, 'September': 486, 'Service': 487, 'She': 488, 'Shop': 489, 'Shop’s': 490, 'Should': 491, 'Shove': 492, 'Show': 493, 'Shows': 494, 'Silicon': 495, 'Simply': 496, 'Since': 497, 'Skill': 498, 'Skills': 499, 'Small': 500, 'So': 501, 'Soft': 502, 'Software': 503, 'Solve': 504, 'Some': 505, 'Sometimes': 506, 'Sounds': 507, 'Specifi': 508, 'Specific': 509, 'Squaw': 510, 'Start-Up': 511, 'State': 512, 'Statement': 513, 'States': 514, 'Still': 515, 'Stop': 516, 'Strong': 517, 'Subtract': 518, 'Success': 519, 'Successful': 520, 'Sunday': 521, 'Supermarket': 522, 'Supermarkets': 523, 'Supplies': 524, 'Sure': 525, 'T': 526, 'THE': 527, 'TO': 528, 'TVs': 529, 'Table': 530, 'Take': 531, 'Talk': 532, 'Taste': 533, 'Taxes': 534, 'Technology': 535, 'Telephone': 536, 'Tendency': 537, 'Th': 538, 'That': 539, 'The': 540, 'Then': 541, 'There': 542, 'Therefore': 543, 'There’s': 544, 'These': 545, 'They': 546, 'Think': 547, 'This': 548, 'TiP': 549, 'To': 550, 'Today': 551, 'Together': 552, 'Total': 553, 'Toyota': 554, 'Track': 555, 'Treat': 556, 'Trends': 557, 'Type': 558, 'U': 559, 'Unfortunately': 560, 'United': 561, 'Unless': 562, 'Up': 563, 'Use': 564, 'Utilities': 565, 'Valley': 566, 'Volume': 567, 'WANT': 568, 'WRITE': 569, 'WRITING': 570, 'Wages': 571, 'Wasn’t': 572, 'We': 573, 'Weak': 574, 'We’ll': 575, 'What': 576, 'When': 577, 'Where': 578, 'Which': 579, 'While': 580, 'Who': 581, 'Whole': 582, 'Wholesale': 583, 'Wholesalers': 584, 'Why': 585, 'Wild': 586, 'Will': 587, 'With': 588, 'Work': 589, 'Write': 590, 'Writing': 591, 'YOU': 592, 'Year': 593, 'York': 594, 'You': 595, 'Your': 596, 'You’ll': 597, 'You’ve': 598, 'a': 599, 'abandon': 600, 'ability': 601, 'able': 602, 'about': 603, 'above': 604, 'abreast': 605, 'absentee': 606, 'absolutely': 607, 'abstract': 608, 'accept': 609, 'acceptance': 610, 'acces': 611, 'accessories': 612, 'accommodate': 613, 'accompanying': 614, 'accomplish': 615, 'accomplished': 616, 'accomplishes': 617, 'account': 618, 'accountants': 619, 'accounting': 620, 'accounts': 621, 'accurate': 622, 'accurately': 623, 'achievable': 624, 'achieve': 625, 'achieving': 626, 'acquaintances': 627, 'acquire': 628, 'active': 629, 'activities': 630, 'activity': 631, 'acts': 632, 'actually': 633, 'add': 634, 'addicts': 635, 'adding': 636, 'additional': 637, 'addresses': 638, 'adequately': 639, 'adjustments': 640, 'admit': 641, 'advantage': 642, 'adventurous': 643, 'advertise': 644, 'advertising': 645, 'advice': 646, 'advisor': 647, 'aff': 648, 'affect': 649, 'affected': 650, 'affects': 651, 'afford': 652, 'after': 653, 'again': 654, 'age': 655, 'agencies': 656, 'agency': 657, 'aggres': 658, 'ago': 659, 'agree': 660, 'ahead': 661, 'aimed': 662, 'albatross': 663, 'alert': 664, 'all': 665, 'allow': 666, 'allowances': 667, 'allows': 668, 'almost': 669, 'alone': 670, 'along': 671, 'already': 672, 'also': 673, 'alterations': 674, 'alternative': 675, 'alternatives': 676, 'although': 677, 'altogether': 678, 'always': 679, 'am': 680, 'amount': 681, 'amounts': 682, 'an': 683, 'ana': 684, 'analyses': 685, 'analysis': 686, 'analyzes': 687, 'ancillary': 688, 'and': 689, 'and/or': 690, 'animals': 691, 'annual': 692, 'another': 693, 'answer': 694, 'answered': 695, 'answering': 696, 'answers': 697, 'anticipate': 698, 'anticipated': 699, 'antique': 700, 'any': 701, 'anyone': 702, 'app': 703, 'appear': 704, 'appearance': 705, 'appliance': 706, 'applica': 707, 'applicant': 708, 'application': 709, 'applies': 710, 'apply': 711, 'appreciate': 712, 'approach': 713, 'approaches': 714, 'approval': 715, 'approximately': 716, 'architects': 717, 'are': 718, 'area': 719, 'areas': 720, 'aren’t': 721, 'arithmetic': 722, 'around': 723, 'arrive': 724, 'arrives': 725, 'art': 726, 'article': 727, 'artisan': 728, 'as': 729, 'ask': 730, 'asked': 731, 'aspect': 732, 'aspects': 733, 'assemble': 734, 'assembling': 735, 'assess': 736, 'asso': 737, 'associated': 738, 'associating': 739, 'assortment': 740, 'assume': 741, 'at': 742, 'atmosphere': 743, 'attachment': 744, 'attempt': 745, 'attempted': 746, 'attention': 747, 'attitude': 748, 'attitudes': 749, 'attribute': 750, 'attributes': 751, 'automatically': 752, 'automobile': 753, 'automobiles': 754, 'available': 755, 'average': 756, 'averages': 757, 'avoid': 758, 'away': 759, 'baby': 760, 'back': 761, 'backer': 762, 'backers': 763, 'background': 764, 'backing': 765, 'backlog': 766, 'bad': 767, 'badmouths': 768, 'bag': 769, 'bakeries': 770, 'balance': 771, 'balanced': 772, 'bank': 773, 'bankers’': 774, 'banker’s': 775, 'banking': 776, 'banks': 777, 'bank’s': 778, 'bar': 779, 'bargain': 780, 'base': 781, 'basic': 782, 'basis': 783, 'be': 784, 'bear': 785, 'bearing': 786, 'beat': 787, 'beat-up': 788, 'because': 789, 'become': 790, 'been': 791, 'beer': 792, 'before': 793, 'began': 794, 'begin': 795, 'begins': 796, 'behind': 797, 'being': 798, 'belief': 799, 'believe': 800, 'believes': 801, 'below': 802, 'belt': 803, 'belts': 804, 'benefit': 805, 'benefits': 806, 'best': 807, 'bet': 808, 'better': 809, 'between': 810, 'beyond': 811, 'bias': 812, 'big': 813, 'bigger': 814, 'billable': 815, 'bills': 816, 'bit': 817, 'black': 818, 'blank': 819, 'blessed': 820, 'blind': 821, 'blinded': 822, 'bomb”': 823, 'book': 824, 'bookkeeping': 825, 'books': 826, 'bookstore': 827, 'bookstores': 828, 'boom': 829, 'boot': 830, 'born': 831, 'borrow': 832, 'borrowing': 833, 'boss': 834, 'both': 835, 'bots': 836, 'bound': 837, 'brave': 838, 'break': 839, 'break-even': 840, 'breast': 841, 'brick-and-mortar': 842, 'bright': 843, 'bring': 844, 'bringing': 845, 'brings': 846, 'broad': 847, 'broadly': 848, 'broke': 849, 'broken': 850, 'broker': 851, 'brokers': 852, 'broom': 853, 'brush': 854, 'budding': 855, 'budgets': 856, 'build': 857, 'building': 858, 'buildings': 859, 'builds': 860, 'built-in': 861, 'bum': 862, 'busi': 863, 'business': 864, 'businesses': 865, 'businesspeople': 866, 'businessperson': 867, 'businesswomen': 868, 'business—but': 869, 'business—how': 870, 'business—simply': 871, 'busy': 872, 'but': 873, 'buy': 874, 'buyer': 875, 'buying': 876, 'buys': 877, 'by': 878, 'c': 879, 'calculate': 880, 'calculated': 881, 'calculates': 882, 'calculations': 883, 'call': 884, 'called': 885, 'calls': 886, 'cameras': 887, 'campaign': 888, 'can': 889, 'candidate': 890, 'cannot': 891, 'can’t': 892, 'capital': 893, 'car': 894, 'card': 895, 'care': 896, 'careful': 897, 'carefully': 898, 'carpenters': 899, 'carpet': 900, 'carries': 901, 'carry': 902, 'cars': 903, 'cash': 904, 'cast': 905, 'casts': 906, 'catalogue': 907, 'catches': 908, 'categories': 909, 'categorized': 910, 'category': 911, 'cater': 912, 'cause-driven': 913, 'cautious': 914, 'census': 915, 'center': 916, 'centers': 917, 'central': 918, 'centuries': 919, 'certain': 920, 'certainly': 921, 'chain': 922, 'challenging': 923, 'chance': 924, 'chances': 925, 'change': 926, 'changed': 927, 'changes': 928, 'changing': 929, 'chapter': 930, 'chapters': 931, 'characteristics': 932, 'characterized': 933, 'charge': 934, 'charisma': 935, 'chart': 936, 'cheap': 937, 'cheaper': 938, 'check': 939, 'checking': 940, 'chef': 941, 'children': 942, 'choice': 943, 'choices': 944, 'choose': 945, 'choosing': 946, 'chosen': 947, 'chunk': 948, 'ciated': 949, 'ciency': 950, 'cigarettes': 951, 'cities': 952, 'city': 953, 'city’s': 954, 'clash': 955, 'classic': 956, 'clean': 957, 'cleaners': 958, 'cleaning': 959, 'clear': 960, 'clerk': 961, 'clerks': 962, 'click': 963, 'client': 964, 'clients': 965, 'clock': 966, 'close': 967, 'closed': 968, 'closely': 969, 'closet': 970, 'clothing': 971, 'club': 972, 'coherent': 973, 'coincidence': 974, 'cold': 975, 'collateral': 976, 'collects': 977, 'color': 978, 'colors': 979, 'column': 980, 'com': 981, 'combina': 982, 'combination': 983, 'combine': 984, 'come': 985, 'comes': 986, 'comfortable': 987, 'comforts': 988, 'commissions': 989, 'commitment': 990, 'commitments': 991, 'committed': 992, 'common': 993, 'commonly': 994, 'communicate': 995, 'community': 996, 'companies': 997, 'company': 998, 'comparable': 999, 'compare': 1000, 'comparing': 1001, 'comparison': 1002, 'compe': 1003, 'compensation': 1004, 'compete': 1005, 'competing': 1006, 'competition': 1007, 'competition’s': 1008, 'competitive': 1009, 'compiled': 1010, 'complete': 1011, 'completed': 1012, 'completes': 1013, 'completing': 1014, 'completion': 1015, 'complicated': 1016, 'comply': 1017, 'component': 1018, 'components': 1019, 'compulsive': 1020, 'comput': 1021, 'computer': 1022, 'computers': 1023, 'con': 1024, 'concentrate': 1025, 'concept': 1026, 'concepts': 1027, 'concerns': 1028, 'concludes': 1029, 'concrete': 1030, 'concretely': 1031, 'conduct': 1032, 'confess': 1033, 'confidence': 1034, 'configuration': 1035, 'confl': 1036, 'connection': 1037, 'conscious': 1038, 'consciously': 1039, 'conservative': 1040, 'consider': 1041, 'consideration': 1042, 'considering': 1043, 'consistent': 1044, 'consists': 1045, 'constructive': 1046, 'consumer': 1047, 'consumers': 1048, 'consumption': 1049, 'contact': 1050, 'contained': 1051, 'containing': 1052, 'contains': 1053, 'contemporary': 1054, 'contentedly': 1055, 'continue': 1056, 'continuing': 1057, 'contract': 1058, 'contractor': 1059, 'contractors': 1060, 'convenience': 1061, 'convenient': 1062, 'convert': 1063, 'converted': 1064, 'conviction': 1065, 'convince': 1066, 'cook': 1067, 'copies': 1068, 'copy': 1069, 'corner': 1070, 'corporation': 1071, 'correct': 1072, 'correctly': 1073, 'correspondence': 1074, 'cosmetic': 1075, 'cost': 1076, 'costs': 1077, 'costs”—expenses': 1078, 'could': 1079, 'couldn’t': 1080, 'count': 1081, 'counterparts—that': 1082, 'counterweight': 1083, 'countless': 1084, 'county': 1085, 'course': 1086, 'cover': 1087, 'covered': 1088, 'covers': 1089, 'cozy': 1090, 'craft': 1091, 'create': 1092, 'creates': 1093, 'creating': 1094, 'creative': 1095, 'credentials': 1096, 'credit': 1097, 'creditworthiness': 1098, 'critical': 1099, 'crucial': 1100, 'cult': 1101, 'culty': 1102, 'cumulative': 1103, 'currency': 1104, 'current': 1105, 'currently': 1106, 'curve': 1107, 'customer': 1108, 'customers': 1109, 'customers—': 1110, 'customers’': 1111, 'customer’s': 1112, 'cutting': 1113, 'cyber': 1114, 'daily': 1115, 'daisies': 1116, 'danger': 1117, 'dangerous': 1118, 'dangerously': 1119, 'data': 1120, 'date': 1121, 'day': 1122, 'days': 1123, 'daytime': 1124, 'dead-end': 1125, 'deal': 1126, 'dealerships': 1127, 'dearly': 1128, 'death': 1129, 'debts': 1130, 'decade': 1131, 'decent': 1132, 'decide': 1133, 'decided': 1134, 'decides': 1135, 'deciding': 1136, 'decimal': 1137, 'decision': 1138, 'decision-making': 1139, 'decisions': 1140, 'decline': 1141, 'declines': 1142, 'declining': 1143, 'decrease': 1144, 'dedicated': 1145, 'dedication': 1146, 'defi': 1147, 'defined': 1148, 'definite': 1149, 'delete': 1150, 'delicatessens': 1151, 'delivery': 1152, 'delude': 1153, 'demanding': 1154, 'demographics': 1155, 'demonstrates': 1156, 'department': 1157, 'depending': 1158, 'deposited': 1159, 'derive': 1160, 'describe': 1161, 'described': 1162, 'describes': 1163, 'describing': 1164, 'descrip': 1165, 'description': 1166, 'descriptions': 1167, 'deserves': 1168, 'design': 1169, 'designed': 1170, 'desirable': 1171, 'desire': 1172, 'desk': 1173, 'desperately': 1174, 'destroy': 1175, 'detail': 1176, 'detailed': 1177, 'determination': 1178, 'determine': 1179, 'develop': 1180, 'developer': 1181, 'developers': 1182, 'developer’s': 1183, 'developing': 1184, 'development': 1185, 'developments': 1186, 'device': 1187, 'devices': 1188, 'dexterity': 1189, 'diaper': 1190, 'diapers': 1191, 'did': 1192, 'didn’t': 1193, 'die': 1194, 'difference': 1195, 'different': 1196, 'differs': 1197, 'diffi': 1198, 'difficult': 1199, 'digital': 1200, 'dilapidated': 1201, 'dilemma': 1202, 'dimwit': 1203, 'direct': 1204, 'direction': 1205, 'directions': 1206, 'directly': 1207, 'dirty': 1208, 'dirty”': 1209, 'disappear': 1210, 'disasters': 1211, 'disciples': 1212, 'discomfort': 1213, 'discouraging': 1214, 'discuss': 1215, 'discusses': 1216, 'discussion': 1217, 'dise': 1218, 'distance': 1219, 'distinguish': 1220, 'distractions': 1221, 'distributor': 1222, 'distributorships': 1223, 'divide': 1224, 'dividing': 1225, 'do': 1226, 'document': 1227, 'document—even': 1228, 'does': 1229, 'doesn’t': 1230, 'dog': 1231, 'doing': 1232, 'dollar': 1233, 'dollars': 1234, 'domain': 1235, 'done': 1236, 'don’t': 1237, 'doomed': 1238, 'door': 1239, 'doors': 1240, 'dot-com': 1241, 'double': 1242, 'double-check': 1243, 'doubling': 1244, 'doubts': 1245, 'dough': 1246, 'down': 1247, 'downside': 1248, 'downtown': 1249, 'draft': 1250, 'draw': 1251, 'dreamed': 1252, 'dress': 1253, 'dresses': 1254, 'drinks': 1255, 'drive': 1256, 'drive-by': 1257, 'driving': 1258, 'drugstores': 1259, 'dry': 1260, 'dual': 1261, 'due': 1262, 'during': 1263, 'e': 1264, 'e-commerce': 1265, 'e-tailers': 1266, 'each': 1267, 'eager': 1268, 'earlier': 1269, 'early': 1270, 'earns': 1271, 'easier': 1272, 'easily': 1273, 'easy': 1274, 'economic': 1275, 'economy': 1276, 'ecting': 1277, 'ed': 1278, 'edge': 1279, 'educated': 1280, 'effectiveness': 1281, 'effects': 1282, 'efficiently': 1283, 'efforts': 1284, 'eggs': 1285, 'ego': 1286, 'eight': 1287, 'eight-track': 1288, 'either': 1289, 'eld': 1290, 'electronic': 1291, 'elegant': 1292, 'else': 1293, 'email': 1294, 'ematical': 1295, 'embedded': 1296, 'emerged': 1297, 'emergencies': 1298, 'emotional': 1299, 'employee': 1300, 'employees': 1301, 'employees—too': 1302, 'employment': 1303, 'enable': 1304, 'enables': 1305, 'enam': 1306, 'enamored': 1307, 'end': 1308, 'endeavor': 1309, 'endeavors': 1310, 'ends': 1311, 'energy': 1312, 'engine': 1313, 'engines': 1314, 'enjoy': 1315, 'enough': 1316, 'ensure': 1317, 'entail': 1318, 'enter': 1319, 'entering': 1320, 'enters': 1321, 'entertainment': 1322, 'enthusiasm': 1323, 'entity': 1324, 'entre': 1325, 'entrepreneur': 1326, 'entrepreneurs': 1327, 'environment': 1328, 'equal': 1329, 'equipment': 1330, 'er': 1331, 'ere': 1332, 'ergonomically': 1333, 'ers': 1334, 'ese': 1335, 'especially': 1336, 'essayist': 1337, 'essential': 1338, 'essentially': 1339, 'established': 1340, 'estate': 1341, 'estate”': 1342, 'estimate': 1343, 'estimated': 1344, 'estimates': 1345, 'estimating': 1346, 'etc': 1347, 'eternal': 1348, 'evaluate': 1349, 'evaluation': 1350, 'even': 1351, 'eventually': 1352, 'ever-expanding': 1353, 'every': 1354, 'everybody’s': 1355, 'everyone': 1356, 'everyone’s': 1357, 'everything': 1358, 'exAmple': 1359, 'exact': 1360, 'exactly': 1361, 'exaggeration': 1362, 'examined': 1363, 'example': 1364, 'examples': 1365, 'exceeds': 1366, 'excellent': 1367, 'exception': 1368, 'exchange': 1369, 'exchanging': 1370, 'exclude': 1371, 'exclusive': 1372, 'executives': 1373, 'exercise': 1374, 'exercises': 1375, 'exercising': 1376, 'exhaustively': 1377, 'existing': 1378, 'exists': 1379, 'expand': 1380, 'expanding': 1381, 'expansion': 1382, 'expect': 1383, 'expected': 1384, 'expects': 1385, 'expect—not': 1386, 'expense': 1387, 'expenses': 1388, 'experience': 1389, 'experienced': 1390, 'expert': 1391, 'explain': 1392, 'exploiting': 1393, 'explosion': 1394, 'express': 1395, 'expressed': 1396, 'extension': 1397, 'extensively': 1398, 'extinguishing': 1399, 'extra': 1400, 'extras': 1401, 'extremely': 1402, 'ey': 1403, 'eyes': 1404, 'f': 1405, 'face': 1406, 'faced': 1407, 'faces': 1408, 'facilities': 1409, 'facing': 1410, 'fact': 1411, 'factors': 1412, 'facts': 1413, 'facturers': 1414, 'fad': 1415, 'fail': 1416, 'failed': 1417, 'failure': 1418, 'fairly': 1419, 'fall': 1420, 'family': 1421, 'fancy': 1422, 'fantasies': 1423, 'far': 1424, 'fare': 1425, 'farming': 1426, 'far—': 1427, 'far—but': 1428, 'fashion': 1429, 'fashionable': 1430, 'fat': 1431, 'favor': 1432, 'fears': 1433, 'feature': 1434, 'featuring': 1435, 'federal': 1436, 'fee': 1437, 'feeling': 1438, 'feelings': 1439, 'fees': 1440, 'feet': 1441, 'fellow': 1442, 'feverishly': 1443, 'few': 1444, 'fewer': 1445, 'fi': 1446, 'fiddle': 1447, 'field': 1448, 'figure': 1449, 'figures': 1450, 'filename': 1451, 'fill': 1452, 'final': 1453, 'financial': 1454, 'find': 1455, 'fine': 1456, 'fine-tune': 1457, 'finish': 1458, 'finished': 1459, 'fire': 1460, 'firms': 1461, 'first': 1462, 'first-rate': 1463, 'first-year': 1464, 'fit': 1465, 'five': 1466, 'five-figure': 1467, 'fixed': 1468, 'fixed-cost': 1469, 'fixes': 1470, 'fl': 1471, 'flattening': 1472, 'flaws': 1473, 'floor': 1474, 'florists': 1475, 'flow': 1476, 'flows': 1477, 'fluctuations': 1478, 'flying': 1479, 'focus': 1480, 'focuses': 1481, 'folks': 1482, 'follow': 1483, 'followed': 1484, 'following': 1485, 'follows': 1486, 'food': 1487, 'foods': 1488, 'foolish': 1489, 'foolproof': 1490, 'fools': 1491, 'foot': 1492, 'for': 1493, 'force': 1494, 'fore': 1495, 'forecast': 1496, 'forecasting': 1497, 'forecasts': 1498, 'foreign': 1499, 'forget': 1500, 'forgotten': 1501, 'format': 1502, 'former': 1503, 'formulas': 1504, 'forth': 1505, 'fortunes': 1506, 'found': 1507, 'foundation': 1508, 'founder': 1509, 'founders': 1510, 'four': 1511, 'franchises': 1512, 'free': 1513, 'freedom': 1514, 'french': 1515, 'french-fryers': 1516, 'fried': 1517, 'friend': 1518, 'friends': 1519, 'friends—I': 1520, 'fries': 1521, 'from': 1522, 'front': 1523, 'fudge': 1524, 'fulfilling': 1525, 'fulfillment': 1526, 'full': 1527, 'fun': 1528, 'function': 1529, 'functions': 1530, 'fundamental': 1531, 'furniture': 1532, 'future': 1533, 'gained': 1534, 'gamble': 1535, 'games': 1536, 'gas': 1537, 'gather': 1538, 'gathered': 1539, 'general': 1540, 'generate': 1541, 'generated': 1542, 'generous': 1543, 'genuinely': 1544, 'get': 1545, 'gets': 1546, 'getting': 1547, 'girlfriend': 1548, 'give': 1549, 'gives': 1550, 'giving': 1551, 'gladly': 1552, 'glance': 1553, 'glass': 1554, 'glassblowers': 1555, 'go': 1556, 'goal': 1557, 'goals': 1558, 'goes': 1559, 'going': 1560, 'gone': 1561, 'good': 1562, 'good-looking': 1563, 'goods': 1564, 'good—but': 1565, 'gram': 1566, 'grand': 1567, 'grease': 1568, 'great': 1569, 'grocery': 1570, 'groggy': 1571, 'gross': 1572, 'ground': 1573, 'group': 1574, 'grow': 1575, 'growing': 1576, 'growth': 1577, 'guarantee': 1578, 'guarantees': 1579, 'guess': 1580, 'guesses': 1581, 'guitar': 1582, 'guitars': 1583, 'gure': 1584, 'guzzlers': 1585, 'h': 1586, 'had': 1587, 'half': 1588, 'half-a': 1589, 'hamburgers': 1590, 'hand': 1591, 'handle': 1592, 'handling': 1593, 'hands': 1594, 'hangover': 1595, 'happen': 1596, 'happy': 1597, 'hard': 1598, 'harder': 1599, 'hardest': 1600, 'has': 1601, 'hasn’t': 1602, 'hate': 1603, 'have': 1604, 'haven’t': 1605, 'having': 1606, 'he': 1607, 'head': 1608, 'heard': 1609, 'heat': 1610, 'heavy': 1611, 'help': 1612, 'helpful': 1613, 'helps': 1614, 'her': 1615, 'here': 1616, 'here’s': 1617, 'herself': 1618, 'high': 1619, 'higher': 1620, 'higher-than-average': 1621, 'him': 1622, 'himself': 1623, 'hire': 1624, 'hires': 1625, 'his': 1626, 'hit': 1627, 'hobby': 1628, 'hole': 1629, 'home': 1630, 'homework': 1631, 'honest': 1632, 'honestly': 1633, 'hoods': 1634, 'hope': 1635, 'hopeless': 1636, 'hopes': 1637, 'hot': 1638, 'hour': 1639, 'hours': 1640, 'house': 1641, 'housecleaners': 1642, 'how': 1643, 'however': 1644, 'human': 1645, 'hundreds': 1646, 'hungry': 1647, 'hurry': 1648, 'i': 1649, 'icting': 1650, 'icts': 1651, 'idea': 1652, 'ideal': 1653, 'ideas': 1654, 'ideas”': 1655, 'identify': 1656, 'identifying': 1657, 'ield': 1658, 'if': 1659, 'ignore': 1660, 'illustrate': 1661, 'image': 1662, 'immediate': 1663, 'implement': 1664, 'import': 1665, 'important': 1666, 'imported': 1667, 'importing': 1668, 'impossible': 1669, 'improve': 1670, 'improves': 1671, 'in': 1672, 'inaccurate': 1673, 'inancial': 1674, 'inancially': 1675, 'include': 1676, 'included': 1677, 'including': 1678, 'income': 1679, 'inconsistencies': 1680, 'inconvenience—to': 1681, 'increase': 1682, 'increased': 1683, 'increases': 1684, 'increasing': 1685, 'increasingly': 1686, 'incur': 1687, 'ind': 1688, 'independence': 1689, 'independent': 1690, 'individual': 1691, 'industries': 1692, 'infallible—nothing': 1693, 'infant': 1694, 'inflation': 1695, 'informa': 1696, 'information': 1697, 'ingredient': 1698, 'ingredients': 1699, 'ings': 1700, 'initial': 1701, 'innovative': 1702, 'inside': 1703, 'insist': 1704, 'install': 1705, 'instance': 1706, 'instead': 1707, 'institutions': 1708, 'instruments': 1709, 'insurance': 1710, 'integrating': 1711, 'intelligent': 1712, 'intend': 1713, 'intensive': 1714, 'interest': 1715, 'interested': 1716, 'interests': 1717, 'internal': 1718, 'international': 1719, 'internationally': 1720, 'interview': 1721, 'interviewing': 1722, 'interviews': 1723, 'intimate': 1724, 'intimately': 1725, 'into': 1726, 'introduced': 1727, 'inventory': 1728, 'investment': 1729, 'investors': 1730, 'investor’s': 1731, 'inviting': 1732, 'invoice': 1733, 'involve': 1734, 'involved': 1735, 'involves': 1736, 'irms': 1737, 'irst': 1738, 'is': 1739, 'isn’t': 1740, 'issued': 1741, 'issues': 1742, 'is”': 1743, 'it': 1744, 'item': 1745, 'items': 1746, 'its': 1747, 'it’s': 1748, 'ixed': 1749, 'jackets': 1750, 'job': 1751, 'jobs': 1752, 'jot': 1753, 'journey': 1754, 'judge': 1755, 'judgment': 1756, 'just': 1757, 'justify': 1758, 'keep': 1759, 'keeping': 1760, 'kept': 1761, 'key': 1762, 'kind': 1763, 'kinds': 1764, 'kitchen': 1765, 'knew': 1766, 'know': 1767, 'knowledge': 1768, 'knowledgeable': 1769, 'known': 1770, 'knows': 1771, 'l': 1772, 'labels': 1773, 'labor': 1774, 'lack': 1775, 'lacking': 1776, 'landlords': 1777, 'large': 1778, 'large-scale': 1779, 'larger': 1780, 'larized': 1781, 'laser': 1782, 'last': 1783, 'late': 1784, 'later': 1785, 'latten': 1786, 'laundries': 1787, 'laws': 1788, 'layout': 1789, 'le': 1790, 'learn': 1791, 'learned': 1792, 'learning': 1793, 'lease': 1794, 'least': 1795, 'leather': 1796, 'leave': 1797, 'leaving': 1798, 'left': 1799, 'leisure': 1800, 'lend': 1801, 'lender': 1802, 'lenders': 1803, 'lender’s': 1804, 'less': 1805, 'lesson': 1806, 'let': 1807, 'let’s': 1808, 'level': 1809, 'lexibility': 1810, 'librarians': 1811, 'license': 1812, 'licenses': 1813, 'licensing': 1814, 'lies': 1815, 'life': 1816, 'lifetime': 1817, 'life’s': 1818, 'lighter': 1819, 'like': 1820, 'likelihood': 1821, 'likely': 1822, 'limited': 1823, 'line': 1824, 'lines': 1825, 'link': 1826, 'liquor': 1827, 'list': 1828, 'listed': 1829, 'lists': 1830, 'lists—don’t': 1831, 'literally': 1832, 'little': 1833, 'live': 1834, 'living': 1835, 'll': 1836, 'lled': 1837, 'lling': 1838, 'loan': 1839, 'loans': 1840, 'local': 1841, 'locale': 1842, 'locate': 1843, 'located': 1844, 'location': 1845, 'logical': 1846, 'logically': 1847, 'long': 1848, 'long-range': 1849, 'long-term': 1850, 'longer': 1851, 'look': 1852, 'looked': 1853, 'looking': 1854, 'looks': 1855, 'lose': 1856, 'loser': 1857, 'loss': 1858, 'lot': 1859, 'lots': 1860, 'lounges': 1861, 'lour': 1862, 'love': 1863, 'loves': 1864, 'low': 1865, 'low-rent': 1866, 'lower': 1867, 'lowering': 1868, 'lucky': 1869, 'luctuate': 1870, 'luctuations': 1871, 'lyze': 1872, 'm': 1873, 'machine': 1874, 'made': 1875, 'magazines': 1876, 'mail': 1877, 'maintain': 1878, 'maintains': 1879, 'maintenance': 1880, 'major': 1881, 'majority': 1882, 'make': 1883, 'maker': 1884, 'makes': 1885, 'making': 1886, 'mall': 1887, 'manage': 1888, 'managed': 1889, 'management': 1890, 'manager': 1891, 'managing': 1892, 'manipulate': 1893, 'manu': 1894, 'manual': 1895, 'manufacturer': 1896, 'manufacturers': 1897, 'manufacturer’s': 1898, 'manufacturing': 1899, 'many': 1900, 'margin': 1901, 'marginal': 1902, 'margins': 1903, 'mark': 1904, 'mark-downs': 1905, 'market': 1906, 'marketing': 1907, 'marketplace': 1908, 'markets': 1909, 'marts': 1910, 'massive': 1911, 'mastery': 1912, 'matches': 1913, 'mate': 1914, 'material': 1915, 'materials': 1916, 'math': 1917, 'matter': 1918, 'matters': 1919, 'matures': 1920, 'may': 1921, 'maybe': 1922, 'me': 1923, 'meal': 1924, 'mean': 1925, 'means': 1926, 'meat': 1927, 'mechanics': 1928, 'meet': 1929, 'meets': 1930, 'meltdown': 1931, 'members': 1932, 'ment': 1933, 'mentioned': 1934, 'mentions': 1935, 'menu': 1936, 'merchan': 1937, 'merchandise': 1938, 'merchant': 1939, 'merchants': 1940, 'met': 1941, 'metaphor': 1942, 'method': 1943, 'methods': 1944, 'meticulous': 1945, 'metrics': 1946, 'middle': 1947, 'midsummer': 1948, 'might': 1949, 'mighty': 1950, 'migrant': 1951, 'mileage': 1952, 'miles': 1953, 'millions': 1954, 'mind': 1955, 'minor': 1956, 'minority': 1957, 'minute': 1958, 'minutes': 1959, 'mire': 1960, 'mirror': 1961, 'miss': 1962, 'missing': 1963, 'mistake': 1964, 'mistakes': 1965, 'mistake—I': 1966, 'mixed': 1967, 'mixing': 1968, 'mobile': 1969, 'model': 1970, 'modems': 1971, 'moderate': 1972, 'modify': 1973, 'modity': 1974, 'moment': 1975, 'moments': 1976, 'money': 1977, 'money’s': 1978, 'month': 1979, 'monthly': 1980, 'months': 1981, 'more': 1982, 'mortals': 1983, 'mortgage': 1984, 'most': 1985, 'motivate': 1986, 'motivator': 1987, 'mousetrap': 1988, 'movements': 1989, 'much': 1990, 'muck': 1991, 'multiplied': 1992, 'multiplies': 1993, 'multiply': 1994, 'music': 1995, 'musical': 1996, 'must': 1997, 'my': 1998, 'myself': 1999, 'naive': 2000, 'naively': 2001, 'name': 2002, 'nancial': 2003, 'nationally': 2004, 'natural': 2005, 'nd': 2006, 'nding': 2007, 'nearby': 2008, 'nearest': 2009, 'necessarily': 2010, 'necessary': 2011, 'necessary—no': 2012, 'necessities': 2013, 'necessity': 2014, 'neck': 2015, 'need': 2016, 'needed': 2017, 'needs': 2018, 'negative': 2019, 'neglecting': 2020, 'neighborhood': 2021, 'nervous': 2022, 'ness': 2023, 'nesses': 2024, 'network': 2025, 'never': 2026, 'new': 2027, 'news': 2028, 'newsletter': 2029, 'newsstand': 2030, 'next': 2031, 'nice': 2032, 'night': 2033, 'nights’': 2034, 'no': 2035, 'nonbillable': 2036, 'nonsmoking': 2037, 'normal': 2038, 'normally': 2039, 'not': 2040, 'note': 2041, 'nothing': 2042, 'now': 2043, 'number': 2044, 'numbers': 2045, 'objective': 2046, 'objectives': 2047, 'obtain': 2048, 'obtaining': 2049, 'obvious': 2050, 'obviously': 2051, 'occasionally': 2052, 'occur': 2053, 'occurs': 2054, 'odds': 2055, 'of': 2056, 'off': 2057, 'offer': 2058, 'office': 2059, 'offices': 2060, 'offline': 2061, 'often': 2062, 'okay': 2063, 'old': 2064, 'older': 2065, 'on': 2066, 'once': 2067, 'one': 2068, 'one-half': 2069, 'one-quarter': 2070, 'one-time': 2071, 'ones': 2072, 'ongoing': 2073, 'online': 2074, 'only': 2075, 'open': 2076, 'opened': 2077, 'opening': 2078, 'openings': 2079, 'operate': 2080, 'operates': 2081, 'operating': 2082, 'operation': 2083, 'operations': 2084, 'operations—all': 2085, 'opinions': 2086, 'opportunities': 2087, 'optimism': 2088, 'option': 2089, 'options': 2090, 'or': 2091, 'order': 2092, 'ordering': 2093, 'orderly': 2094, 'orders': 2095, 'ordinary': 2096, 'ored': 2097, 'original': 2098, 'other': 2099, 'others': 2100, 'otherwise': 2101, 'our': 2102, 'out': 2103, 'outlay': 2104, 'outside': 2105, 'over': 2106, 'overage': 2107, 'overhead': 2108, 'overkill': 2109, 'overlook': 2110, 'overlooked': 2111, 'overly': 2112, 'overview': 2113, 'ow': 2114, 'owe': 2115, 'own': 2116, 'owner': 2117, 'owners': 2118, 'ownership': 2119, 'owner’s': 2120, 'owning': 2121, 'p': 2122, 'pace': 2123, 'packaging': 2124, 'pages': 2125, 'paid': 2126, 'panic': 2127, 'pantsuits': 2128, 'paper': 2129, 'part': 2130, 'part-time': 2131, 'participate': 2132, 'particular': 2133, 'partner': 2134, 'partners': 2135, 'partnership': 2136, 'parts': 2137, 'pass': 2138, 'passes': 2139, 'pasta': 2140, 'paste-up': 2141, 'patents': 2142, 'patience': 2143, 'patients': 2144, 'patronizing': 2145, 'paving': 2146, 'pay': 2147, 'paycheck': 2148, 'paying': 2149, 'payments': 2150, 'payroll': 2151, 'pays': 2152, 'peak': 2153, 'peers': 2154, 'people': 2155, 'people’s': 2156, 'per': 2157, 'percentage': 2158, 'perfect': 2159, 'perform': 2160, 'perhaps': 2161, 'period': 2162, 'permits': 2163, 'persistent': 2164, 'person': 2165, 'personal': 2166, 'personalities': 2167, 'personality': 2168, 'personalized': 2169, 'perspec': 2170, 'perspective': 2171, 'pertain': 2172, 'philosophy': 2173, 'phone': 2174, 'physical': 2175, 'piano': 2176, 'picking': 2177, 'piece': 2178, 'piece-rate': 2179, 'pitch': 2180, 'pizza-by-the-slice': 2181, 'place': 2182, 'plan': 2183, 'planned': 2184, 'planning': 2185, 'plans': 2186, 'plans—on': 2187, 'players': 2188, 'pleased': 2189, 'pleasure': 2190, 'plenty': 2191, 'poet': 2192, 'point': 2193, 'points': 2194, 'polishing': 2195, 'polluting': 2196, 'ponder': 2197, 'pool': 2198, 'popu': 2199, 'popular': 2200, 'population': 2201, 'portions': 2202, 'positive': 2203, 'positively': 2204, 'possess': 2205, 'possible': 2206, 'post': 2207, 'postage': 2208, 'postpone': 2209, 'potential': 2210, 'power': 2211, 'practical': 2212, 'pre-2001': 2213, 'precious': 2214, 'predict': 2215, 'predicting': 2216, 'prefer': 2217, 'preferably': 2218, 'preferences': 2219, 'preneur': 2220, 'preneurs': 2221, 'prepare': 2222, 'prepared': 2223, 'prepares': 2224, 'preparing': 2225, 'preprinted': 2226, 'present': 2227, 'presentable': 2228, 'presented': 2229, 'presently': 2230, 'presses': 2231, 'pretty': 2232, 'previously': 2233, 'price': 2234, 'priced': 2235, 'prices': 2236, 'primary': 2237, 'principles': 2238, 'print': 2239, 'prior': 2240, 'private': 2241, 'pro': 2242, 'probably': 2243, 'problem': 2244, 'problems': 2245, 'procedure': 2246, 'proceed': 2247, 'proceeding': 2248, 'proceeds': 2249, 'process': 2250, 'produced': 2251, 'produces': 2252, 'product': 2253, 'production': 2254, 'products': 2255, 'professional': 2256, 'profi': 2257, 'profit': 2258, 'profitability': 2259, 'profitable': 2260, 'profitably': 2261, 'profitably—lots': 2262, 'profits': 2263, 'program': 2264, 'programming': 2265, 'programs': 2266, 'project': 2267, 'projected': 2268, 'projections': 2269, 'projects': 2270, 'project’s': 2271, 'promise': 2272, 'promote': 2273, 'promotion': 2274, 'prompt': 2275, 'properly': 2276, 'proposal': 2277, 'proposed': 2278, 'proposes': 2279, 'proprietor': 2280, 'prospective': 2281, 'prospects': 2282, 'prosper': 2283, 'prosperity': 2284, 'protect': 2285, 'protected': 2286, 'prove': 2287, 'proverb': 2288, 'proverbial': 2289, 'provide': 2290, 'provided': 2291, 'providing': 2292, 'prudent': 2293, 'psycho': 2294, 'public': 2295, 'publish': 2296, 'publishing': 2297, 'pull': 2298, 'puller': 2299, 'purchase': 2300, 'purchases': 2301, 'purchasing': 2302, 'purpose': 2303, 'purses': 2304, 'pursuing': 2305, 'put': 2306, 'puts': 2307, 'qualifi': 2308, 'qualified': 2309, 'qualify': 2310, 'quality': 2311, 'question': 2312, 'questions': 2313, 'quick': 2314, 'quickly': 2315, 'quite': 2316, 'railroad': 2317, 'raise': 2318, 'raising': 2319, 'ran': 2320, 'range': 2321, 'ranges': 2322, 'rapidly': 2323, 'rate': 2324, 'rates': 2325, 'rather': 2326, 'ratio': 2327, 'raw': 2328, 'reach': 2329, 'reaction': 2330, 'read': 2331, 'readily': 2332, 'reading': 2333, 'ready': 2334, 'real': 2335, 'realistic': 2336, 'realistically': 2337, 'realities': 2338, 'realize': 2339, 'realized': 2340, 'realizes': 2341, 'really': 2342, 'reason': 2343, 'reasonable': 2344, 'reasonably': 2345, 'rebound': 2346, 'recent': 2347, 'recognize': 2348, 'record': 2349, 'records': 2350, 'reduce': 2351, 'reduced': 2352, 'reduces': 2353, 'reduction': 2354, 'reexamines': 2355, 'refer': 2356, 'reference': 2357, 'referrals': 2358, 'referring': 2359, 'refined': 2360, 'reflect': 2361, 'reflection': 2362, 'refresher': 2363, 'regardless': 2364, 'regula': 2365, 'regular': 2366, 'regularly': 2367, 'regulations': 2368, 'related': 2369, 'relates': 2370, 'relationship': 2371, 'relationships': 2372, 'relatively': 2373, 'relaxed': 2374, 'relentless': 2375, 'reliable': 2376, 'rely': 2377, 'remember': 2378, 'remind': 2379, 'rent': 2380, 'rents': 2381, 'repair': 2382, 'repairs': 2383, 'repayments': 2384, 'repeat': 2385, 'repeats': 2386, 'repetitive': 2387, 'represent': 2388, 'request': 2389, 'requested': 2390, 'require': 2391, 'required': 2392, 'requirements': 2393, 'requires': 2394, 'research': 2395, 'resell': 2396, 'resells': 2397, 'reserves': 2398, 'resolutions': 2399, 'resort': 2400, 'resources': 2401, 'respect': 2402, 'respected': 2403, 'responsibility': 2404, 'restaurant': 2405, 'restaurants': 2406, 'restores': 2407, 'restrictions': 2408, 'rests': 2409, 'result': 2410, 'resulting': 2411, 'results': 2412, 'retail': 2413, 'retailer': 2414, 'retailers': 2415, 'retired': 2416, 'revenue': 2417, 'revenues': 2418, 'review': 2419, 'revised': 2420, 'rewrite': 2421, 'rich': 2422, 'rid': 2423, 'ride': 2424, 'rides': 2425, 'riding': 2426, 'right': 2427, 'rights': 2428, 'risk': 2429, 'risks': 2430, 'roll': 2431, 'room': 2432, 'roses': 2433, 'rough': 2434, 'round': 2435, 'rst': 2436, 'rude': 2437, 'rule': 2438, 'run': 2439, 'running': 2440, 'runs': 2441, 's': 2442, 'sacrifice': 2443, 'sacrifices': 2444, 'sad': 2445, 'sadly—it': 2446, 'said': 2447, 'salaries': 2448, 'salary': 2449, 'sale': 2450, 'saleable': 2451, 'saler': 2452, 'salers': 2453, 'saler’s': 2454, 'sales': 2455, 'salesperson': 2456, 'same': 2457, 'same—start': 2458, 'sample': 2459, 'save': 2460, 'savvy': 2461, 'saw': 2462, 'say': 2463, 'saying': 2464, 'says': 2465, 'scale': 2466, 'scary': 2467, 'schedule': 2468, 'school': 2469, 'science': 2470, 'scope': 2471, 'scrap': 2472, 'screening': 2473, 'screens': 2474, 'search': 2475, 'season': 2476, 'seasonal': 2477, 'seasons': 2478, 'second': 2479, 'section': 2480, 'sections': 2481, 'secures': 2482, 'securities': 2483, 'security': 2484, 'see': 2485, 'seeing': 2486, 'seem': 2487, 'seemingly': 2488, 'seems': 2489, 'seen': 2490, 'seldom': 2491, 'select': 2492, 'selection': 2493, 'self': 2494, 'self-evaluation': 2495, 'sell': 2496, 'selling': 2497, 'sells': 2498, 'send': 2499, 'sense': 2500, 'sent': 2501, 'separate': 2502, 'series': 2503, 'serious': 2504, 'seriously': 2505, 'serve': 2506, 'serves': 2507, 'service': 2508, 'services': 2509, 'serving': 2510, 'set': 2511, 'setting': 2512, 'settle': 2513, 'settles': 2514, 'several': 2515, 'sewer': 2516, 'sexual': 2517, 'shadow': 2518, 'share': 2519, 'shares': 2520, 'sharply': 2521, 'she': 2522, 'sheet': 2523, 'she’ll': 2524, 'ship': 2525, 'shipments': 2526, 'shipping': 2527, 'shipping”': 2528, 'shop': 2529, 'shoppers': 2530, 'shopping': 2531, 'shops': 2532, 'short': 2533, 'short-term': 2534, 'shots': 2535, 'should': 2536, 'shouldn’t': 2537, 'show': 2538, 'showing': 2539, 'shown': 2540, 'shows': 2541, 'side': 2542, 'sign': 2543, 'similar': 2544, 'simple': 2545, 'simplest': 2546, 'simplicity': 2547, 'simply': 2548, 'since': 2549, 'single': 2550, 'sink': 2551, 'situation': 2552, 'sive': 2553, 'six': 2554, 'six-month': 2555, 'size': 2556, 'skeptical': 2557, 'ski': 2558, 'skiing': 2559, 'skill': 2560, 'skilled': 2561, 'skills': 2562, 'skip': 2563, 'sleep': 2564, 'sleeves': 2565, 'slicing': 2566, 'slightly': 2567, 'slip': 2568, 'sloppy': 2569, 'slow': 2570, 'slow-paying': 2571, 'slowdown': 2572, 'slump': 2573, 'small': 2574, 'smaller': 2575, 'smaller—': 2576, 'smart': 2577, 'smell': 2578, 'smitten': 2579, 'smokers': 2580, 'snapshot': 2581, 'so': 2582, 'sober': 2583, 'society': 2584, 'soft': 2585, 'software': 2586, 'solar': 2587, 'sold': 2588, 'sole': 2589, 'solution': 2590, 'solve': 2591, 'solves': 2592, 'some': 2593, 'someone': 2594, 'something': 2595, 'sometimes': 2596, 'somewhere': 2597, 'song': 2598, 'sories': 2599, 'sort': 2600, 'sorts': 2601, 'sound': 2602, 'soundness': 2603, 'sounds': 2604, 'source': 2605, 'sources': 2606, 'space': 2607, 'spacecraft': 2608, 'spare': 2609, 'special': 2610, 'specialize': 2611, 'specifi': 2612, 'specific': 2613, 'specifics': 2614, 'specify': 2615, 'speculation': 2616, 'speed': 2617, 'speeds': 2618, 'spend': 2619, 'spending': 2620, 'spends': 2621, 'spin': 2622, 'sponsored': 2623, 'sporting': 2624, 'sportswear': 2625, 'spot': 2626, 'spreadsheet': 2627, 'spring': 2628, 'springs': 2629, 'square': 2630, 'stage': 2631, 'stand': 2632, 'start': 2633, 'start-up': 2634, 'started': 2635, 'starting': 2636, 'starts': 2637, 'state': 2638, 'statement': 2639, 'states': 2640, 'stations': 2641, 'statistics': 2642, 'stay': 2643, 'steadily': 2644, 'steady': 2645, 'steel': 2646, 'step': 2647, 'steps': 2648, 'still': 2649, 'stop': 2650, 'store': 2651, 'storefront': 2652, 'stores': 2653, 'store’s': 2654, 'story': 2655, 'strategies': 2656, 'strengths': 2657, 'strips': 2658, 'strive': 2659, 'strong': 2660, 'stronger': 2661, 'students': 2662, 'study': 2663, 'stump': 2664, 'style': 2665, 'styles': 2666, 'subsequent': 2667, 'substantial': 2668, 'substitute': 2669, 'subtract': 2670, 'subtracting': 2671, 'subtracts': 2672, 'succeed': 2673, 'succeeding': 2674, 'success': 2675, 'successful': 2676, 'successfully': 2677, 'such': 2678, 'suffer': 2679, 'sufficient': 2680, 'sufficiently': 2681, 'suggest': 2682, 'suggestion': 2683, 'suggestions': 2684, 'suitable': 2685, 'suited': 2686, 'suits': 2687, 'sultants': 2688, 'summer': 2689, 'supermarket': 2690, 'supermarkets': 2691, 'supervise': 2692, 'supplier': 2693, 'suppliers': 2694, 'support': 2695, 'suppose': 2696, 'sure': 2697, 'surely': 2698, 'surpass': 2699, 'surprise': 2700, 'surprised': 2701, 'surrounding': 2702, 'survey': 2703, 'survive': 2704, 'survivors': 2705, 'swell': 2706, 'system': 2707, 'systems': 2708, 't': 2709, 'tail': 2710, 'take': 2711, 'takes': 2712, 'talents': 2713, 'talk': 2714, 'talking': 2715, 'tape': 2716, 'tapes': 2717, 'target': 2718, 'task': 2719, 'tasks': 2720, 'taste': 2721, 'tastes': 2722, 'tax': 2723, 'taxes': 2724, 'teach': 2725, 'teacher': 2726, 'teaches': 2727, 'technique': 2728, 'technological': 2729, 'technologies': 2730, 'technology': 2731, 'telephone': 2732, 'tell': 2733, 'tells': 2734, 'temperament': 2735, 'template': 2736, 'ten': 2737, 'tendency': 2738, 'tender': 2739, 'terms': 2740, 'terrific': 2741, 'tests': 2742, 'than': 2743, 'that': 2744, 'that’s': 2745, 'the': 2746, 'their': 2747, 'them': 2748, 'theme': 2749, 'themselves': 2750, 'then': 2751, 'there': 2752, 'there”': 2753, 'these': 2754, 'they': 2755, 'they’re': 2756, 'thing': 2757, 'things': 2758, 'think': 2759, 'thinking': 2760, 'thinks': 2761, 'this': 2762, 'thorough': 2763, 'thoroughly': 2764, 'those': 2765, 'though': 2766, 'thought': 2767, 'thought-out': 2768, 'thought-stimulating': 2769, 'thoughts': 2770, 'threatens': 2771, 'three': 2772, 'through': 2773, 'throughout': 2774, 'throw': 2775, 'throws': 2776, 'ti': 2777, 'time': 2778, 'times': 2779, 'tinker': 2780, 'tion': 2781, 'tions': 2782, 'tips': 2783, 'tired': 2784, 'title': 2785, 'tive': 2786, 'to': 2787, 'today': 2788, 'today’s': 2789, 'together': 2790, 'told': 2791, 'too': 2792, 'took': 2793, 'tool': 2794, 'toothbrushes': 2795, 'tory': 2796, 'total': 2797, 'totals': 2798, 'touch': 2799, 'tough': 2800, 'tour': 2801, 'toward': 2802, 'town': 2803, 'toxic': 2804, 'track': 2805, 'tracks': 2806, 'tract': 2807, 'trade': 2808, 'traditional': 2809, 'traffi': 2810, 'traffic': 2811, 'train': 2812, 'traits': 2813, 'translate': 2814, 'traps': 2815, 'travel': 2816, 'trends': 2817, 'trips': 2818, 'trouble': 2819, 'truck': 2820, 'trucking': 2821, 'true': 2822, 'trusting': 2823, 'try': 2824, 'trying': 2825, 'tting-room': 2826, 'tune-up': 2827, 'turned': 2828, 'twice': 2829, 'twin': 2830, 'two': 2831, 'type': 2832, 'types': 2833, 'typical': 2834, 'typically': 2835, 'ultimate': 2836, 'ultimately': 2837, 'unable': 2838, 'unavailable': 2839, 'unavoidable': 2840, 'unconnected': 2841, 'unconscious': 2842, 'uncover': 2843, 'under': 2844, 'understand': 2845, 'understanding': 2846, 'undoubtedly': 2847, 'uneasy': 2848, 'unemployed': 2849, 'unexpected': 2850, 'unfortunately': 2851, 'unhappy': 2852, 'unique': 2853, 'unless': 2854, 'unlikely': 2855, 'unlimited': 2856, 'until': 2857, 'up': 2858, 'us': 2859, 'usable': 2860, 'use': 2861, 'used': 2862, 'useful': 2863, 'user': 2864, 'users': 2865, 'using': 2866, 'usually': 2867, 'utilities': 2868, 'value': 2869, 'variable': 2870, 'varieties': 2871, 'variety': 2872, 'vary': 2873, 'varying': 2874, 'vast': 2875, 've': 2876, 'venture': 2877, 'ventures': 2878, 'verify': 2879, 'very': 2880, 'via': 2881, 'viable': 2882, 'video': 2883, 'videos': 2884, 'view': 2885, 'vigilance': 2886, 'virtually': 2887, 'visiting': 2888, 'volume': 2889, 'volumes': 2890, 'wade': 2891, 'wage': 2892, 'waking': 2893, 'walk-by': 2894, 'wallet': 2895, 'want': 2896, 'wanting': 2897, 'wants': 2898, 'want—today': 2899, 'ware': 2900, 'warehouse': 2901, 'was': 2902, 'washes': 2903, 'washing': 2904, 'wasn’t': 2905, 'watch': 2906, 'watches': 2907, 'way': 2908, 'ways': 2909, 'we': 2910, 'weak': 2911, 'weaknesses': 2912, 'wealthy': 2913, 'wear': 2914, 'website': 2915, 'week': 2916, 'weeks': 2917, 'well': 2918, 'well-built': 2919, 'well-thought': 2920, 'well-thought-out': 2921, 'went': 2922, 'were': 2923, 'what': 2924, 'whatever': 2925, 'when': 2926, 'where': 2927, 'whether': 2928, 'which': 2929, 'while': 2930, 'white': 2931, 'who': 2932, 'whole': 2933, 'wholesale': 2934, 'wholesaler': 2935, 'wholesalers': 2936, 'whose': 2937, 'why': 2938, 'wide': 2939, 'wider': 2940, 'will': 2941, 'willing': 2942, 'window': 2943, 'windows': 2944, 'wine': 2945, 'winner': 2946, 'wisdom': 2947, 'wish': 2948, 'wishes': 2949, 'with': 2950, 'without': 2951, 'woman': 2952, 'women': 2953, 'women’s': 2954, 'wonder': 2955, 'wonderfully': 2956, 'wonders': 2957, 'won’t': 2958, 'work': 2959, 'worked': 2960, 'workers': 2961, 'workforce': 2962, 'working': 2963, 'workroom': 2964, 'works': 2965, 'world': 2966, 'worry': 2967, 'worth': 2968, 'worthwhile': 2969, 'would': 2970, 'wrap': 2971, 'wrist': 2972, 'write': 2973, 'writing': 2974, 'written': 2975, 'wrong': 2976, 'wrote': 2977, 'xed': 2978, 'xls': 2979, 'year': 2980, 'years': 2981, 'year—or': 2982, 'year’s': 2983, 'yet': 2984, 'you': 2985, 'younger': 2986, 'your': 2987, 'yours': 2988, 'yourself': 2989, 'you—one': 2990, 'you’d': 2991, 'you’ll': 2992, 'you’re': 2993, 'you’ve': 2994, '|': 2995, '×': 2996, '÷': 2997, '“Hope': 2998, '“I': 2999, '“I’m': 3000, '“Production': 3001, '“Retail': 3002, '“Scientific': 3003, '“Service': 3004, '“Take': 3005, '“Yes': 3006, '“Yes”': 3007, '“apps”': 3008, '“as': 3009, '“brilliant': 3010, '“constant': 3011, '“constant”': 3012, '“discretionary': 3013, '“dot': 3014, '“drop': 3015, '“fixed': 3016, '“hot”': 3017, '“just': 3018, '“nut': 3019, '“overhead': 3020, '“quick': 3021, '“raising': 3022, '“real': 3023, '“right”': 3024, '”': 3025, '•': 3026, '−': 3027}\n"
          ]
        }
      ]
    },
    {
      "cell_type": "code",
      "source": [
        "for i,item in enumerate(vocab):\n",
        "  print(i,item)\n",
        "  if i == 50:\n",
        "    break;"
      ],
      "metadata": {
        "id": "Fbxx2yVfntQI",
        "outputId": "e4e44a2c-0408-4846-a938-dd0ea1fccbf8",
        "colab": {
          "base_uri": "https://localhost:8080/"
        }
      },
      "execution_count": null,
      "outputs": [
        {
          "output_type": "stream",
          "name": "stdout",
          "text": [
            "0 !\n",
            "1 $\n",
            "2 $1\n",
            "3 $10\n",
            "4 $100\n",
            "5 $104\n",
            "6 $125\n",
            "7 $14\n",
            "8 $140\n",
            "9 $142\n",
            "10 $15\n",
            "11 $150\n",
            "12 $152\n",
            "13 $16\n",
            "14 $185\n",
            "15 $192\n",
            "16 $2\n",
            "17 $200\n",
            "18 $250\n",
            "19 $250-per-foot-per-year\n",
            "20 $26\n",
            "21 $3\n",
            "22 $30\n",
            "23 $300\n",
            "24 $31\n",
            "25 $33\n",
            "26 $4\n",
            "27 $40\n",
            "28 $400\n",
            "29 $401\n",
            "30 $45\n",
            "31 $5\n",
            "32 $50\n",
            "33 $500\n",
            "34 $504\n",
            "35 $53\n",
            "36 $550\n",
            "37 $6\n",
            "38 $600\n",
            "39 $650\n",
            "40 $800\n",
            "41 $950\n",
            "42 $99\n",
            "43 %\n",
            "44 &\n",
            "45 (\n",
            "46 )\n",
            "47 ,\n",
            "48 .\n",
            "49 0\n",
            "50 00\n"
          ]
        }
      ]
    },
    {
      "cell_type": "markdown",
      "source": [
        "<div class=\"alert alert-block alert-info\">\n",
        "    \n",
        "Step 1: Store the vocabulary as a class attribute for access in the encode and decode methods\n",
        "    \n",
        "Step 2: Create an inverse vocabulary that maps token IDs back to the original text tokens\n",
        "\n",
        "Step 3: Process input text into token IDs\n",
        "\n",
        "Step 4: Convert token IDs back into text\n",
        "\n",
        "Step 5: Replace spaces before the specified punctuation\n",
        "\n",
        "</div>\n",
        "\n"
      ],
      "metadata": {
        "id": "Byxu_wEWpVsA"
      }
    },
    {
      "cell_type": "code",
      "source": [
        "class SimpleTokenizerV1:\n",
        "    def __init__(self, vocab):\n",
        "        self.str_to_int = vocab\n",
        "        self.int_to_str = {i:s for s,i in vocab.items()}\n",
        "\n",
        "    def encode(self, text):\n",
        "        preprocessed = re.split(r'([,.:;?_!\"()\\']|--|\\s)', text)\n",
        "\n",
        "        preprocessed = [\n",
        "            item.strip() for item in preprocessed if item.strip()\n",
        "        ]\n",
        "        ids = [self.str_to_int[s] for s in preprocessed]\n",
        "        return ids\n",
        "\n",
        "    def decode(self, ids):\n",
        "        text = \" \".join([self.int_to_str[i] for i in ids])\n",
        "        # Replace spaces before the specified punctuations\n",
        "        text = re.sub(r'\\s+([,.?!\"()\\'])', r'\\1', text)\n",
        "        return text"
      ],
      "metadata": {
        "id": "1i9cjdqwpWjF"
      },
      "execution_count": null,
      "outputs": []
    },
    {
      "cell_type": "code",
      "source": [
        "tokenizer = SimpleTokenizerV1(vocab)\n",
        "\n",
        "text = \"\"\"What You Have Accomplished\n",
        "          We’ll follow Antoinette throughout her\n",
        "          journey later in the book and see what\n",
        "          combination of figures she settles on.\"\"\"\n",
        "ids = tokenizer.encode(text)\n",
        "print(ids)"
      ],
      "metadata": {
        "id": "xZaXBO2uqI3W",
        "outputId": "658712ae-2dcf-4489-c961-3ed0a34b4e5d",
        "colab": {
          "base_uri": "https://localhost:8080/"
        }
      },
      "execution_count": null,
      "outputs": [
        {
          "output_type": "stream",
          "name": "stdout",
          "text": [
            "[576, 595, 313, 156, 575, 1483, 178, 2774, 1615, 1754, 1785, 1672, 2746, 824, 689, 2485, 2924, 983, 2056, 1450, 2522, 2514, 2066, 48]\n"
          ]
        }
      ]
    },
    {
      "cell_type": "code",
      "source": [
        "tokenizer.decode(ids)"
      ],
      "metadata": {
        "id": "MQiuLC67qO3y",
        "outputId": "9879680a-041f-4a4c-c0d0-a574637b7f15",
        "colab": {
          "base_uri": "https://localhost:8080/",
          "height": 35
        }
      },
      "execution_count": null,
      "outputs": [
        {
          "output_type": "execute_result",
          "data": {
            "text/plain": [
              "'What You Have Accomplished We’ll follow Antoinette throughout her journey later in the book and see what combination of figures she settles on.'"
            ],
            "application/vnd.google.colaboratory.intrinsic+json": {
              "type": "string"
            }
          },
          "metadata": {},
          "execution_count": 59
        }
      ]
    },
    {
      "cell_type": "code",
      "source": [
        "#passing tokens that doesnt exist in dictionary\n",
        "text = \"Hello, do you like tea?\"\n",
        "print(tokenizer.encode(text))"
      ],
      "metadata": {
        "id": "RtRsFxRHq-TK",
        "outputId": "79b886e2-62bc-4d57-ec3d-b9787a5e1834",
        "colab": {
          "base_uri": "https://localhost:8080/",
          "height": 321
        }
      },
      "execution_count": null,
      "outputs": [
        {
          "output_type": "error",
          "ename": "KeyError",
          "evalue": "'Hello'",
          "traceback": [
            "\u001b[0;31m---------------------------------------------------------------------------\u001b[0m",
            "\u001b[0;31mKeyError\u001b[0m                                  Traceback (most recent call last)",
            "\u001b[0;32m<ipython-input-60-beac05d9da00>\u001b[0m in \u001b[0;36m<cell line: 0>\u001b[0;34m()\u001b[0m\n\u001b[1;32m      1\u001b[0m \u001b[0;31m#passing tokens that doesnt exist in dictionary\u001b[0m\u001b[0;34m\u001b[0m\u001b[0;34m\u001b[0m\u001b[0m\n\u001b[1;32m      2\u001b[0m \u001b[0mtext\u001b[0m \u001b[0;34m=\u001b[0m \u001b[0;34m\"Hello, do you like tea?\"\u001b[0m\u001b[0;34m\u001b[0m\u001b[0;34m\u001b[0m\u001b[0m\n\u001b[0;32m----> 3\u001b[0;31m \u001b[0mprint\u001b[0m\u001b[0;34m(\u001b[0m\u001b[0mtokenizer\u001b[0m\u001b[0;34m.\u001b[0m\u001b[0mencode\u001b[0m\u001b[0;34m(\u001b[0m\u001b[0mtext\u001b[0m\u001b[0;34m)\u001b[0m\u001b[0;34m)\u001b[0m\u001b[0;34m\u001b[0m\u001b[0;34m\u001b[0m\u001b[0m\n\u001b[0m",
            "\u001b[0;32m<ipython-input-57-ce18d2cbde5a>\u001b[0m in \u001b[0;36mencode\u001b[0;34m(self, text)\u001b[0m\n\u001b[1;32m     10\u001b[0m             \u001b[0mitem\u001b[0m\u001b[0;34m.\u001b[0m\u001b[0mstrip\u001b[0m\u001b[0;34m(\u001b[0m\u001b[0;34m)\u001b[0m \u001b[0;32mfor\u001b[0m \u001b[0mitem\u001b[0m \u001b[0;32min\u001b[0m \u001b[0mpreprocessed\u001b[0m \u001b[0;32mif\u001b[0m \u001b[0mitem\u001b[0m\u001b[0;34m.\u001b[0m\u001b[0mstrip\u001b[0m\u001b[0;34m(\u001b[0m\u001b[0;34m)\u001b[0m\u001b[0;34m\u001b[0m\u001b[0;34m\u001b[0m\u001b[0m\n\u001b[1;32m     11\u001b[0m         ]\n\u001b[0;32m---> 12\u001b[0;31m         \u001b[0mids\u001b[0m \u001b[0;34m=\u001b[0m \u001b[0;34m[\u001b[0m\u001b[0mself\u001b[0m\u001b[0;34m.\u001b[0m\u001b[0mstr_to_int\u001b[0m\u001b[0;34m[\u001b[0m\u001b[0ms\u001b[0m\u001b[0;34m]\u001b[0m \u001b[0;32mfor\u001b[0m \u001b[0ms\u001b[0m \u001b[0;32min\u001b[0m \u001b[0mpreprocessed\u001b[0m\u001b[0;34m]\u001b[0m\u001b[0;34m\u001b[0m\u001b[0;34m\u001b[0m\u001b[0m\n\u001b[0m\u001b[1;32m     13\u001b[0m         \u001b[0;32mreturn\u001b[0m \u001b[0mids\u001b[0m\u001b[0;34m\u001b[0m\u001b[0;34m\u001b[0m\u001b[0m\n\u001b[1;32m     14\u001b[0m \u001b[0;34m\u001b[0m\u001b[0m\n",
            "\u001b[0;32m<ipython-input-57-ce18d2cbde5a>\u001b[0m in \u001b[0;36m<listcomp>\u001b[0;34m(.0)\u001b[0m\n\u001b[1;32m     10\u001b[0m             \u001b[0mitem\u001b[0m\u001b[0;34m.\u001b[0m\u001b[0mstrip\u001b[0m\u001b[0;34m(\u001b[0m\u001b[0;34m)\u001b[0m \u001b[0;32mfor\u001b[0m \u001b[0mitem\u001b[0m \u001b[0;32min\u001b[0m \u001b[0mpreprocessed\u001b[0m \u001b[0;32mif\u001b[0m \u001b[0mitem\u001b[0m\u001b[0;34m.\u001b[0m\u001b[0mstrip\u001b[0m\u001b[0;34m(\u001b[0m\u001b[0;34m)\u001b[0m\u001b[0;34m\u001b[0m\u001b[0;34m\u001b[0m\u001b[0m\n\u001b[1;32m     11\u001b[0m         ]\n\u001b[0;32m---> 12\u001b[0;31m         \u001b[0mids\u001b[0m \u001b[0;34m=\u001b[0m \u001b[0;34m[\u001b[0m\u001b[0mself\u001b[0m\u001b[0;34m.\u001b[0m\u001b[0mstr_to_int\u001b[0m\u001b[0;34m[\u001b[0m\u001b[0ms\u001b[0m\u001b[0;34m]\u001b[0m \u001b[0;32mfor\u001b[0m \u001b[0ms\u001b[0m \u001b[0;32min\u001b[0m \u001b[0mpreprocessed\u001b[0m\u001b[0;34m]\u001b[0m\u001b[0;34m\u001b[0m\u001b[0;34m\u001b[0m\u001b[0m\n\u001b[0m\u001b[1;32m     13\u001b[0m         \u001b[0;32mreturn\u001b[0m \u001b[0mids\u001b[0m\u001b[0;34m\u001b[0m\u001b[0;34m\u001b[0m\u001b[0m\n\u001b[1;32m     14\u001b[0m \u001b[0;34m\u001b[0m\u001b[0m\n",
            "\u001b[0;31mKeyError\u001b[0m: 'Hello'"
          ]
        }
      ]
    },
    {
      "cell_type": "code",
      "source": [
        "#set unknown token rule\n",
        "all_tokens = sorted(list(set(preprocessed)))\n",
        "all_tokens.extend([\"<|endoftext|>\", \"<|unk|>\"])\n",
        "\n",
        "vocab = {token:integer for integer,token in enumerate(all_tokens)}"
      ],
      "metadata": {
        "id": "V2QSUgGjrTGx"
      },
      "execution_count": null,
      "outputs": []
    },
    {
      "cell_type": "code",
      "source": [
        "len(vocab.items())\n",
        "#two more item endofttext and unk were added to original 1130"
      ],
      "metadata": {
        "id": "0ii2RirLrYgG",
        "outputId": "d26c49cb-d05f-49a5-d6a6-ed7afb0e2ffe",
        "colab": {
          "base_uri": "https://localhost:8080/"
        }
      },
      "execution_count": null,
      "outputs": [
        {
          "output_type": "execute_result",
          "data": {
            "text/plain": [
              "3030"
            ]
          },
          "metadata": {},
          "execution_count": 63
        }
      ]
    },
    {
      "cell_type": "code",
      "source": [
        "class SimpleTokenizerV2:\n",
        "    def __init__(self, vocab):\n",
        "        self.str_to_int = vocab\n",
        "        self.int_to_str = { i:s for s,i in vocab.items()}\n",
        "\n",
        "    def encode(self, text):\n",
        "        preprocessed = re.split(r'([,.:;?_!\"()\\']|--|\\s)', text)\n",
        "        preprocessed = [item.strip() for item in preprocessed if item.strip()]\n",
        "        preprocessed = [\n",
        "            item if item in self.str_to_int\n",
        "            else \"<|unk|>\" for item in preprocessed\n",
        "        ]\n",
        "\n",
        "        ids = [self.str_to_int[s] for s in preprocessed]\n",
        "        return ids\n",
        "\n",
        "    def decode(self, ids):\n",
        "        text = \" \".join([self.int_to_str[i] for i in ids])\n",
        "        # Replace spaces before the specified punctuations\n",
        "        text = re.sub(r'\\s+([,.:;?!\"()\\'])', r'\\1', text)\n",
        "        return text"
      ],
      "metadata": {
        "id": "B7veKwo7ZO7m"
      },
      "execution_count": null,
      "outputs": []
    },
    {
      "cell_type": "code",
      "source": [
        "tokenizer = SimpleTokenizerV2(vocab)\n",
        "\n",
        "text1 = \"Hello, do you like tea?\"\n",
        "text2 = \"In the sunlit terraces of the palace.\"\n",
        "\n",
        "text = \" <|endoftext|> \".join((text1, text2))\n",
        "\n",
        "print(text)"
      ],
      "metadata": {
        "id": "qAtCqRgmZvod",
        "outputId": "f8855bb1-5656-4728-f6fb-a67cabc59500",
        "colab": {
          "base_uri": "https://localhost:8080/"
        }
      },
      "execution_count": null,
      "outputs": [
        {
          "output_type": "stream",
          "name": "stdout",
          "text": [
            "Hello, do you like tea? <|endoftext|> In the sunlit terraces of the palace.\n"
          ]
        }
      ]
    },
    {
      "cell_type": "code",
      "source": [
        "tokenizer.encode(text)"
      ],
      "metadata": {
        "id": "cGDoM9qgZ16J",
        "outputId": "1c90713b-c9de-4fe3-a3ff-5fae7f6d16bf",
        "colab": {
          "base_uri": "https://localhost:8080/"
        }
      },
      "execution_count": null,
      "outputs": [
        {
          "output_type": "execute_result",
          "data": {
            "text/plain": [
              "[3029,\n",
              " 47,\n",
              " 1226,\n",
              " 2985,\n",
              " 1820,\n",
              " 3029,\n",
              " 152,\n",
              " 3028,\n",
              " 328,\n",
              " 2746,\n",
              " 3029,\n",
              " 3029,\n",
              " 2056,\n",
              " 2746,\n",
              " 3029,\n",
              " 48]"
            ]
          },
          "metadata": {},
          "execution_count": 66
        }
      ]
    },
    {
      "cell_type": "code",
      "source": [
        "# for i in range(256):\n",
        "#     print(i, chr(i))\n"
      ],
      "metadata": {
        "id": "bfmPFeBgOFlC"
      },
      "execution_count": null,
      "outputs": []
    },
    {
      "cell_type": "markdown",
      "source": [
        "# BYTE PAIR ENCODING (using library titoken)"
      ],
      "metadata": {
        "id": "C-mqm87ci7-k"
      }
    },
    {
      "cell_type": "code",
      "source": [
        "! pip3 install tiktoken"
      ],
      "metadata": {
        "colab": {
          "base_uri": "https://localhost:8080/"
        },
        "id": "w1nxu0q0jAPb",
        "outputId": "ba8c3959-0830-4536-942e-d54a9e9d63e8"
      },
      "execution_count": null,
      "outputs": [
        {
          "output_type": "stream",
          "name": "stdout",
          "text": [
            "Requirement already satisfied: tiktoken in /usr/local/lib/python3.11/dist-packages (0.9.0)\n",
            "Requirement already satisfied: regex>=2022.1.18 in /usr/local/lib/python3.11/dist-packages (from tiktoken) (2024.11.6)\n",
            "Requirement already satisfied: requests>=2.26.0 in /usr/local/lib/python3.11/dist-packages (from tiktoken) (2.32.3)\n",
            "Requirement already satisfied: charset-normalizer<4,>=2 in /usr/local/lib/python3.11/dist-packages (from requests>=2.26.0->tiktoken) (3.4.1)\n",
            "Requirement already satisfied: idna<4,>=2.5 in /usr/local/lib/python3.11/dist-packages (from requests>=2.26.0->tiktoken) (3.10)\n",
            "Requirement already satisfied: urllib3<3,>=1.21.1 in /usr/local/lib/python3.11/dist-packages (from requests>=2.26.0->tiktoken) (2.3.0)\n",
            "Requirement already satisfied: certifi>=2017.4.17 in /usr/local/lib/python3.11/dist-packages (from requests>=2.26.0->tiktoken) (2025.1.31)\n"
          ]
        }
      ]
    },
    {
      "cell_type": "code",
      "source": [
        "import importlib\n",
        "import tiktoken\n",
        "\n",
        "print(\"tiktoken version:\", importlib.metadata.version(\"tiktoken\"))"
      ],
      "metadata": {
        "colab": {
          "base_uri": "https://localhost:8080/"
        },
        "id": "0FZQ2etNjXhk",
        "outputId": "2e2027fe-c8f6-4665-e995-870b57f69e5e"
      },
      "execution_count": null,
      "outputs": [
        {
          "output_type": "stream",
          "name": "stdout",
          "text": [
            "tiktoken version: 0.9.0\n"
          ]
        }
      ]
    },
    {
      "cell_type": "code",
      "source": [
        "tokenizer = tiktoken.get_encoding(\"cl100k_base\")"
      ],
      "metadata": {
        "id": "kVopiSv4jPDe"
      },
      "execution_count": null,
      "outputs": []
    },
    {
      "cell_type": "code",
      "source": [
        "text = (\n",
        "    \"Hello, do you like tea? <|endoftext|> In the sunlit terraces\"\n",
        "     \"of someunknownPlace.\"\n",
        ")\n",
        "\n",
        "integers = tokenizer.encode(text, allowed_special={\"<|endoftext|>\"})\n",
        "\n",
        "print(integers)"
      ],
      "metadata": {
        "colab": {
          "base_uri": "https://localhost:8080/"
        },
        "id": "kSIT7kFAjaLz",
        "outputId": "5dcf8091-907a-4d0f-a35f-eefec723e7c3"
      },
      "execution_count": null,
      "outputs": [
        {
          "output_type": "stream",
          "name": "stdout",
          "text": [
            "[9906, 11, 656, 499, 1093, 15600, 30, 220, 100257, 763, 279, 7160, 32735, 7317, 2492, 1073, 1063, 16476, 17826, 13]\n"
          ]
        }
      ]
    },
    {
      "cell_type": "code",
      "source": [
        "strings = tokenizer.decode(integers)\n",
        "\n",
        "print(strings)"
      ],
      "metadata": {
        "colab": {
          "base_uri": "https://localhost:8080/"
        },
        "id": "i2gK_zF-j4P8",
        "outputId": "b4a14be3-d98d-4e0c-a3a1-af5fe336edbb"
      },
      "execution_count": null,
      "outputs": [
        {
          "output_type": "stream",
          "name": "stdout",
          "text": [
            "Hello, do you like tea? <|endoftext|> In the sunlit terracesof someunknownPlace.\n"
          ]
        }
      ]
    },
    {
      "cell_type": "code",
      "source": [
        "integers = tokenizer.encode(\"Akwirw ier\")\n",
        "print(integers)\n",
        "\n",
        "strings = tokenizer.decode(integers)\n",
        "print(strings)"
      ],
      "metadata": {
        "colab": {
          "base_uri": "https://localhost:8080/"
        },
        "id": "EA3Moqf7j6Ta",
        "outputId": "bd0a5f2d-9997-46be-ba8d-7d50e3b0fb04"
      },
      "execution_count": null,
      "outputs": [
        {
          "output_type": "stream",
          "name": "stdout",
          "text": [
            "[32, 29700, 404, 86, 602, 261]\n",
            "Akwirw ier\n"
          ]
        }
      ]
    }
  ]
}