{
  "nbformat": 4,
  "nbformat_minor": 0,
  "metadata": {
    "colab": {
      "provenance": [],
      "authorship_tag": "ABX9TyPPSMJm9JkQVO+zI/U2+5k7",
      "include_colab_link": true
    },
    "kernelspec": {
      "name": "python3",
      "display_name": "Python 3"
    },
    "language_info": {
      "name": "python"
    }
  },
  "cells": [
    {
      "cell_type": "markdown",
      "metadata": {
        "id": "view-in-github",
        "colab_type": "text"
      },
      "source": [
        "<a href=\"https://colab.research.google.com/github/MinKhantKyaw5006/LLM-from-Scratch/blob/main/Practice1/Tokenization.ipynb\" target=\"_parent\"><img src=\"https://colab.research.google.com/assets/colab-badge.svg\" alt=\"Open In Colab\"/></a>"
      ]
    },
    {
      "cell_type": "markdown",
      "metadata": {
        "id": "ijRXbC73jleJ"
      },
      "source": [
        "# Reading in a short story as text sample into Python."
      ]
    },
    {
      "cell_type": "markdown",
      "metadata": {
        "id": "Y3PifXGnjHS7"
      },
      "source": [
        "## Step 1: Creating Tokens"
      ]
    },
    {
      "cell_type": "markdown",
      "source": [
        "https://colab.research.google.com/drive/1_lgiXKLwsQEg0t4ziei9cWf9Zl91HXcH#scrollTo=A8xp3vMHZ1tE"
      ],
      "metadata": {
        "id": "pB3bkp8aex1A"
      }
    },
    {
      "cell_type": "code",
      "execution_count": 8,
      "metadata": {
        "colab": {
          "base_uri": "https://localhost:8080/"
        },
        "id": "wInvw0mcbibu",
        "outputId": "4b611439-62c3-4fd4-e2fb-9e10bc94667e"
      },
      "outputs": [
        {
          "output_type": "stream",
          "name": "stdout",
          "text": [
            "total number of character: 93273\n",
            " What Is a Business Plan?\n",
            " (proverb)\n",
            " (proverb)\n",
            " A business plan is a written statement that \n",
            "describes and analyzes your business and \n",
            "gives detailed projections about its future. \n",
            "A business plan also covers the financial \n",
            "aspects of starting or expanding your \n",
            "business—how much money you need and \n",
            "how you’ll pay it back.\n",
            " Writing a business plan is a lot of work. \n",
            "So why take the time to write one? The \n",
            "best answer is the wisdom gained by \n",
            "literally millions of  business owners just \n",
            "like you. Almost without  exception, each \n",
            "business owner with a plan is pleased she \n",
            "has one, and each owner without a plan \n",
            "wishes he had written one. \n",
            "Why Write a Business Plan?\n",
            " Here are some of the specific and \n",
            "immediate  benefits you will derive from \n",
            "writing your business plan.\n",
            " Helps You Get Money\n",
            " Most lenders or investors require a written \n",
            "business plan before they will consider \n",
            "your proposal  seriously. Even some \n",
            "landlords require a sound business plan \n",
            "before they will lease you space. Before \n",
            "making a commitment to you, they want to \n",
            "see that you have thought through critical \n",
            "issues facing you as a business owner and \n",
            "that you really understand your business. \n",
            "They also want to make sure your business \n",
            "has a good chance of succeeding. \n",
            "In\tmy\texperience,\tabout\t35%\tto\t40%\t\n",
            "of the people currently in business do \n",
            "not know how money flows through their \n",
            "business. Writing a business plan with this \n",
            "book teaches you where money comes \n",
            "from and where it goes. Is it any wonder \n",
            "that your backers want to see your plan \n",
            "before they consider your financial request?\n",
            " There are as many potential lenders and \n",
            "investors as there are prospective business \n",
            "owners. If you have a thoroughly thought\n",
            "out business and financial plan that \n",
            "demonstrates a good  likelihood of success \n",
            "and you are persistent, you will find \n",
            "the money you need. Of course, it may \n",
            "take longer than you expect and require \n",
            "more work than you expect, but you will \n",
            "ultimately be  successful if you believe in \n",
            "your\n"
          ]
        }
      ],
      "source": [
        "with open(\"businessplan.txt\", \"r\", encoding = \"utf-8\") as f:\n",
        "  raw_text = f.read()\n",
        "\n",
        "print(\"total number of character:\", len(raw_text))\n",
        "print(raw_text[:2000])"
      ]
    },
    {
      "cell_type": "markdown",
      "source": [
        "### Regex for simple tokenization scheme, byte pair encoding for llm"
      ],
      "metadata": {
        "id": "Fw4yFt01jyqM"
      }
    },
    {
      "cell_type": "code",
      "source": [
        "#regex for white space\n",
        "import re\n",
        "\n",
        "text = \"Hello, world. This, is a test.\"\n",
        "result = re.split(r'(\\s)', text)\n",
        "\n",
        "print(result)"
      ],
      "metadata": {
        "colab": {
          "base_uri": "https://localhost:8080/"
        },
        "id": "67b66m7-jaq9",
        "outputId": "35e2798b-d25d-40b2-bd5c-fdaa4d9781f1"
      },
      "execution_count": null,
      "outputs": [
        {
          "output_type": "stream",
          "name": "stdout",
          "text": [
            "['Hello,', ' ', 'world.', ' ', 'This,', ' ', 'is', ' ', 'a', ' ', 'test.']\n"
          ]
        }
      ]
    },
    {
      "cell_type": "code",
      "source": [
        "#regex for . , and white space\n",
        "result = re.split(r'([,.]|\\s)', text)\n",
        "\n",
        "print(result)"
      ],
      "metadata": {
        "colab": {
          "base_uri": "https://localhost:8080/"
        },
        "id": "9Ma_TklLjcG0",
        "outputId": "4475d654-00bb-461f-9da1-1a3d2205ad93"
      },
      "execution_count": null,
      "outputs": [
        {
          "output_type": "stream",
          "name": "stdout",
          "text": [
            "['Hello', ',', '', ' ', 'world', '.', '', ' ', 'This', ',', '', ' ', 'is', ' ', 'a', ' ', 'test', '.', '']\n"
          ]
        }
      ]
    },
    {
      "cell_type": "code",
      "source": [
        "#remove the white spaces\n",
        "result = [item for item in result if item.strip()]\n",
        "print(result)"
      ],
      "metadata": {
        "colab": {
          "base_uri": "https://localhost:8080/"
        },
        "id": "7I3eOfU8jdlz",
        "outputId": "036c2cc2-456a-4e33-a883-038f9edc483b"
      },
      "execution_count": null,
      "outputs": [
        {
          "output_type": "stream",
          "name": "stdout",
          "text": [
            "['Hello', ',', 'world', '.', 'This', ',', 'is', 'a', 'test', '.']\n"
          ]
        }
      ]
    },
    {
      "cell_type": "code",
      "source": [
        "#all character consideration\n",
        "text = \"Hello, world. Is this-- a test?\"\n",
        "result = re.split(r'([,.:;?_!\"()\\']|--|\\s)', text)\n",
        "result = [item.strip() for item in result if item.strip()]\n",
        "print(result)"
      ],
      "metadata": {
        "colab": {
          "base_uri": "https://localhost:8080/"
        },
        "id": "IazOJxlujrDd",
        "outputId": "fed84745-bf43-403b-85df-ceabd15a3281"
      },
      "execution_count": null,
      "outputs": [
        {
          "output_type": "stream",
          "name": "stdout",
          "text": [
            "['Hello', ',', 'world', '.', 'Is', 'this', '--', 'a', 'test', '?']\n"
          ]
        }
      ]
    },
    {
      "cell_type": "code",
      "source": [
        "#apply on entire short story\n",
        "import re\n",
        "preprocessed = re.split(r'([,.:;?_!\"()\\']|--|\\s)', raw_text)\n",
        "preprocessed = [item.strip() for item in preprocessed if item.strip()]\n",
        "\n",
        "print(preprocessed[:100])"
      ],
      "metadata": {
        "colab": {
          "base_uri": "https://localhost:8080/"
        },
        "id": "3_Ww4gf7kgE-",
        "outputId": "fecf193c-946b-40a4-f230-1ad64401cf47"
      },
      "execution_count": 9,
      "outputs": [
        {
          "output_type": "stream",
          "name": "stdout",
          "text": [
            "['What', 'Is', 'a', 'Business', 'Plan', '?', '(', 'proverb', ')', '(', 'proverb', ')', 'A', 'business', 'plan', 'is', 'a', 'written', 'statement', 'that', 'describes', 'and', 'analyzes', 'your', 'business', 'and', 'gives', 'detailed', 'projections', 'about', 'its', 'future', '.', 'A', 'business', 'plan', 'also', 'covers', 'the', 'financial', 'aspects', 'of', 'starting', 'or', 'expanding', 'your', 'business—how', 'much', 'money', 'you', 'need', 'and', 'how', 'you’ll', 'pay', 'it', 'back', '.', 'Writing', 'a', 'business', 'plan', 'is', 'a', 'lot', 'of', 'work', '.', 'So', 'why', 'take', 'the', 'time', 'to', 'write', 'one', '?', 'The', 'best', 'answer', 'is', 'the', 'wisdom', 'gained', 'by', 'literally', 'millions', 'of', 'business', 'owners', 'just', 'like', 'you', '.', 'Almost', 'without', 'exception', ',', 'each', 'business']\n"
          ]
        }
      ]
    },
    {
      "cell_type": "code",
      "source": [
        "print(len(preprocessed))"
      ],
      "metadata": {
        "colab": {
          "base_uri": "https://localhost:8080/"
        },
        "id": "OOpROwc4knvj",
        "outputId": "31b270fe-01e0-4c77-9b98-e6620e269b49"
      },
      "execution_count": null,
      "outputs": [
        {
          "output_type": "stream",
          "name": "stdout",
          "text": [
            "17599\n"
          ]
        }
      ]
    },
    {
      "cell_type": "markdown",
      "source": [
        "## Step 2: Creating Token IDs"
      ],
      "metadata": {
        "id": "7RTXURP9lD1x"
      }
    },
    {
      "cell_type": "code",
      "source": [
        "#sorted and unique words\n",
        "unique_word = set(preprocessed)\n",
        "print(len(unique_word))\n",
        "sorted_word = sorted(unique_word)\n",
        "vocab_size = sorted_word\n",
        "print(vocab_size)\n",
        "print(len(vocab_size))"
      ],
      "metadata": {
        "colab": {
          "base_uri": "https://localhost:8080/"
        },
        "id": "DRy6jFNClOuo",
        "outputId": "9e640c1e-529c-4931-9923-a517c88229d5"
      },
      "execution_count": 18,
      "outputs": [
        {
          "output_type": "stream",
          "name": "stdout",
          "text": [
            "{'October', 'expansion', 'minor', 'inventory', 'quality', '15%', 'watches', 'method', 'whole', 'comparing', 'lyze', 'little', 'see', 'manager', 'no', 'Sunday', 'cater', 'waking', 'energy', 'how', 'orderly', 'follows', 'category', '43', 'descriptions', 'From', 'dealerships', 'Take', 'draw', '39', 'wonder', 'campaign', 'same—start', 'Telephone', 'attributes', 'completion', 'daily', 'scale', 'builds', 'endeavor', 'whose', 'reach', 'forget', 'attachment', 'device', 'writing', 'Improves', 'However', 'makes', 'Reduce', 'factors', 'employees', 'currency', 'For', '“constant', 'may', 'customer', 'low', 'constructive', 'patience', 'round', '4', 'information', 'repeat', 'single', 'want', 'merchandise', 'analyses', 'being', 'concretely', 'partnership', '20', 'challenging', 'children', 'enamored', 'concerns', 'wisdom', 'option', 'tape', 'link', 'methods', 'entail', 'unless', 'still', 'ematical', 'We’ll', 'provided', 'maintain', 'That', 'sive', 'start', 'There', 'doing', 'train', 'suppose', 'ongoing', 'hire', 'multiplied', 'After', 'figure', 'cause-driven', 'locale', 'brings', 'chain', 'candidate', '385', 'Johnny', 'must', 'restaurants', 'laundries', 'ends', 'should', 'hangover', 'shopping', 'answers', 'shots', 'containing', 'forecasting', '$16', 'fancy', 'Other', 'compiled', 'maker', 'If', 'hires', 'ness', 'Appendix', 'Price', 'developments', 'customers’', 'Describe', 'workers', 'something', 'figures', 'cult', 'distributor', 'modify', 'myself', 'soft', 'growth', 'antique', 'she’ll', 'importing', 'concentrate', 'records', 'solves', 'e-commerce', 'format', 'Work', 'respected', 'larger', 'five-figure', 'you’ll', 'why', 'lighter', 'Table', 'curve', 'lots', 'matters', 'because', 'CPA', 'location', 'dead-end', 'former', 'bringing', 'specifics', 'style', 'wrap', 'blank', 'technologies', 'paving', 'CD-ROM', 'balanced', 'savvy', 'business—how', '000-square-foot', 'course', 'Strong', 'attempt', 'downside', 'flaws', 'gas', 'attempted', 'environment', 'hundreds', 'formulas', '5', '37', 'leaving', 'convince', 'correct', 'ciency', 'ship', 'nothing', 'learning', 'tough', 'Exercises', 'Specifi', 'requires', 'bankers’', 'managing', 'pro', 'woman', 'protected', 'moderate', 'produced', 'Gross', 'Nolo', 'favor', 'shipping”', 'puller', 'necessary—no', 'song', 'Reality', 'cautious', 'as', 'hungry', 'ana', 'extinguishing', 'publish', 'source', 'fellow', 'appliance', 'relentless', 'week', 'Interview', 'well', 'looked', 'decide', 'date', 'trouble', 'gather', 'anyone', 'Making', 'overlook', 'knowledge', 'survey', 'feature', 'Google', 'ride', 'study', 'comfortable', 'bound', 'pay', 'started', 'feet', 'fortunes', 'substantial', 'lease', 'Wholesalers', 'Sounds', 'cameras', 'Many', 'Small', 'customers—', 'relationships', 'slip', 'carry', 'centuries', 'Precisely', 'artisan', 'paid', 'characteristics', 'justify', 'least', 'business', 'dot-com', 'mate', 'boom', 'subtracting', 'assembling', 'Skills', 'Dislikes', 'local', 'winner', 'foreign', 'force', 'ers', 'permits', 'create', 'automobiles', 'Dividing', 'users', 'lour', 'precious', 'chunk', 'amounts', '50%', 'corporation', 'in', '15', 'Advertising', 'portions', 'wide', 'manual', 'understanding', 'actually', 'about', 'job', 'fail', '40%', '“as', 'naive', 'goals', 'decisions', 'statement', '“Yes', 'delicatessens', 'three', 'positively', '188', 'fine', 'slow', 'cumulative', 'promotion', 'suited', 'product', 'evaluation', 'future', 'hamburgers', 'suppliers', 'planning', '$125', 'Romantic', 'ideas”', 'followed', 'sleeves', 'between', 'touch', 'consumers', '“Yes”', 'Unless', 'charge', 'who', 'throughout', 'risks', 'equal', 'competitive', 'promote', 'revenues', 'cost', 'support', 'vast', 'shoppers', 'prices', 'protect', '1950s', 'smokers', '35%', 'prudent', 'tting-room', 'acceptance', 'contractor', 'honest', 'WANT', 'neglecting', 'Volume', 'Hairdressers', 'undoubtedly', 'having', 'Ghengis', 'Her', 'cigarettes', 'also', 'all', 'chance', 'destroy', 'Faithful', 'show', 'results', 'compe', 'plans', 'specifi', 'unhappy', 'communicate', 'perspec', 'employee', 'help', 'year', 'Choosing', 'everyone', 'yours', 'Learn', 'club', 'imported', 'his', 'decade', 'demographics', 'less', 'predicting', 'bomb”', 'can', 'turned', 'bad', 'successful', 'item', 'culty', 'restrictions', '$', 'unconscious', 'labor', 'Accounting', 'count', 'er', 'good—but', 'RIGHT', 'friends', 'same', 'HOW', 'refer', 'predict', 'surpass', 'Multiply', 'elegant', 'variety', 'lounges', 'wrote', 'six', 'start-up', 'truck', 'achieve', 'choices', 'priced', 'what', 'fore', 'home', 'ski', 'fixed-cost', 'choosing', 'dollars', 'buys', 'realistically', 'heard', 'stay', 'driving', 'agree', 'double', 'beat', '13', 'says', 'Profit', 'detail', '!', 'She', 'windows', 'census', 'tendency', 'takes', '41', 'requested', 'send', 'chef', 'one-half', 'necessity', 'exaggeration', 'con', 'mortgage', 'Weak', 'This', 'charisma', 'starting', 'Find', 'Software', 'pantsuits', '0', 'tender', 'filename', 'down', 'affects', 'Rye', 'fat', 'exception', '32', 'close', 'tinker', 'news', 'catalogue', 'marts', 'migrant', 'Risky', 'defined', 'banking', 'several', 'exact', 'first-year', 'these', 'Where', 'door', 'longer', 'profits', 'scope', 'realized', 'Fred', 'Look', 'smitten', 'they’re', 'discusses', 'showing', 'bet', 'yourself', 'avoid', '7%', 'agencies', 'drive-by', 'PLAN', 'concepts', 'think', 'honestly', 'profi', 'matter', 'supervise', 'emerged', 'older', 'fried', 'kept', 'analysis', 'mark', 'patronizing', 'reserves', 'accessories', 'roll', 'heavy', 'decent', 'not', 'cozy', '504', 'accomplishes', '“just', 'repairs', 'typically', 'Second', 'trips', 'head', 'So', 'special', 'Ph', 'nervous', 'wade', 'exercise', 'heat', 'express', 'own', 'boot', 'expected', 'Shop', 'inflation', 'acts', 'styles', 'estimate', 'guarantees', 'hopeless', 'hardest', 'gathered', 'Costs', 'thought-stimulating', 'paste-up', 'desk', 'flows', 'Jones', 'Internet', 'begin', 'Co', 'set', 'wrong', 'Programs', 'settle', '(', 'pizza-by-the-slice', 'insurance', 'currently', 'company', 'front', 'function', 'Consider', 'would', 'gone', '$45', 'educated', 'principles', 'Keep', 'decrease', 'compare', 'Round', 'Neiman-Marcus', 'project', 'person', 'under', 'kinds', 'ratio', 'Professional', 'Sales', 'sportswear', 'slump', 'Calculation', 'literally', 'Future', 'aimed', 'intimate', 'potential', '2011', 'county', 'he', 'effects', 'mind', '850', 'broom', 'scrap', 'glance', 'Add', 'unable', 'consciously', 'some', 'accompanying', '=', 'presentable', 'dresses', 'floor', 'lists—don’t', 'ti', '10', 'convert', 'delude', 'declines', 'coincidence', 'search', 'our', 'ingredient', 'wine', 'In', 'unavoidable', 'him', 'unconnected', 'they', 'window', 'develop', 'guitars', 'accurately', 'profitable', 'note', 'psycho', 'bookstores', 'eggs', 'story', 'Tendency', 'broad', 'backers', 'wanting', 'basic', 'built-in', 'lower', 'car', 'Dress', 'getting', 'failure', 'informa', '40', 'popu', 'break', 'trends', 'live', 'seen', 'building', 'math', 'larized', 'businesspeople', 'grow', 'accept', 'Regular', 'ego', 'solar', 'optimism', 'terms', 'Show', 'ideas', 'marketplace', 'Wholesale', 'relates', 'generate', 'buy', 'Up', 'Plan', 'catches', 'survive', 'prospects', 'slicing', 'purpose', 'Alexander', 'students', 'commitment', '250', 'delete', 'generated', 'TiP', 'broker', 'overage', 'Guesses', 'customer’s', 'gure', 'jot', 'traps', 'offer', 'system', 'solution', 'network', 'busi', 'rewrite', 'explain', 'preparing', 'look', 'State', 'insist', 'cold', 'black', 'Securities', 'asked', 'feeling', 'computer', 'desperately', 'via', 'sales', 'labels', 'dollar', 'unemployed', 'gets', 'bag', 'customers', 'logical', 'schedule', 'Dresses', 'handling', 'Specific', 'give', 'combine', 'adequately', 'expressed', 'facturers', 'Introduce', 'wholesale', 'experience', 'Use', 'exactly', 'deposited', 'anticipated', 'prompt', 'September', 'haven’t', 'correspondence', 'consists', 'accurate', 'identifying', 'abandon', 'Project', 'Identify', 'serving', 'bias', 'rate', 'we', 'half-a', 'planned', 'proverb', 'fixes', '$14', '700', 'tive', 'Since', 'nationally', 'refresher', 'cheap', 'known', 'fine-tune', 'independent', 'Once', 'saler', 'a', 'although', 'counterweight', 'cosmetic', 'openings', 'Each', 'select', 'people’s', 'shows', 'profitability', 'separate', 'thing', 'self', 'line', 'provide', 'companies', 'season', 'e-tailers', 'calculates', 'took', 'evaluate', 'here', 'functions', '333', 'Break-Even', 'confl', 'logically', 'point', 'skeptical', 'contract', 'reasonably', 'allowances', 'matches', 'out', 'newsstand', 'backer', 'Ryann', 'debts', 'gladly', 'license', 'employees—too', 'aren’t', '38', 'restaurant', 'short-term', 'Save', 'manufacturer', 'Why', 'merchants', 'buying', 'hope', 'creditworthiness', '$152', 'utilities', 'crucial', 'suffer', 'Therefore', 'early', 'almost', 'existing', 'direct', 'intimately', 'intend', 'Federal', '$2', '31', '“nut', 'get', 'jackets', 'ingredients', 'toothbrushes', 'you’ve', 'exercises', 'arrives', 'Proceed', '18', '33', 'Jack', 'proceeds', '900', 'but', 'creates', 'nice', 'integrating', 'learned', '11', 'farming', 'overview', 'strips', 'print', 'automatically', 'Central', 'living', '•', 'benefit', 'user', 'shipments', 'raw', 'proceeding', 'employment', 'You’ve', 'result', 'pleased', 'derive', 'real', 'perhaps', 'willing', 'away', 'Antoinette', 'year’s', 'aspect', 'mileage', 'tests', 'thought', 'described', 'long-range', 'place', 'passes', 'keeping', 'others', '17', 'friends—I', 'management', 'luctuate', 'exclude', 'inconsistencies', '500', 'description', 'difficult', 'could', 'Accomplished', 'different', 'Chapter', 'days', 'Deborah', '45', 'become', 'involved', 'There’s', 'Everything', 'doomed', 'there”', 'Th', 'ultimate', 'occur', 'obtain', '$40', '050', 'bright', 'dog', 'springs', 'just', 'discussion', 'N/A', 'Anything', 'belts', '46', 'instruments', 'reduction', 'worry', 'call', 'applicant', 'participate', 'activity', 'thinking', 'designed', 'Silicon', 'converted', 'classic', 'Sale', '$185', 'Toyota', 'Perhaps', 'each', '20%', 'picking', 'rests', 'General', 'one', 'sections', 'accounts', 'know', 'newsletter', 'deciding', 'developing', 'kind', 'twice', 'purchasing', 'foolish', '$950', 'connection', 'Naturally', 'necessarily', 'regularly', 'entrepreneur', 'best', '126', 'TVs', 'before', 'discomfort', 'United', 'allows', 'else', 'program', 'estimates', 'November', 'Accounting/Legal', 'Even', '$400', 'four', 've', 'covered', 'varying', 'I’d', 'prior', 'Taxes', 'readily', 'often', 'initial', 'seasons', 'e', 'suggest', '80%', 'calculate', 'disasters', 'regulations', 'easily', 'prospective', 'Our', '2001', 'operating', '“Scientific', 'forgotten', 'women’s', 'seeing', 'addicts', 'usually', 'life’s', 'listed', 'sample', 'likelihood', 'tired', 'check', 'SWAGs', 'BUSINESS', 'done', 'grand', 'nearest', 'write', 'Profi', 'describes', 'sources', 'ored', 'ask', 'Everyone', 'below', 'Valley', '23', 'Helps', 'cities', 'tell', '$250', 'Decide', 'costs', 'blessed', 'ere', 'tells', 'website', 'screens', 'bear', 'characterized', 'giving', 'level', 'combination', 'stage', 'overly', 'house', 'washing', 'lled', 'purses', 'an', 'trade', '28', 'unfortunately', 'cleaning', 'divide', 'm', 'useful', 'compensation', 'be', 'February', 'active', 'aff', 'businesswomen', 'minutes', '382', 'resort', 'store', 'settles', 'statistics', 'its', 'ordering', 'five', 'daisies', 'commissions', 'Next', 'consumer', 'consideration', 'Businesses', 'judge', 'Supermarkets', 'referrals', 'consumption', 'Don’t', 'knows', 'talents', 'sloppy', 'describe', 'succeeding', 'true', 'June', 'risk', 'half', 'section', 'major', 'chart', 'salary', 'runs', 'Korean', '9', 'did', '$30', 'Check', 'broke', 'excellent', 'efforts', 'reliable', 'buildings', 'Am', 'dearly', 'completing', 'maintenance', 'judgment', 'resources', 'p', 'opportunities', 'railroad', 'telephone', 'everything', 'stump', 'today', 'hours', 'groggy', 'stations', 'engines', 'doors', 'faced', 'Here’s', 'Friday', 'modems', 'affected', 'that’s', 'back', 'saw', 'exAmple', 'bargain', 'client', 'combina', 'worth', 'Which', 'template', 'gram', '1990s', 'miles', 'wasn’t', 'Issues', 'accountants', 'projections', 'related', 'belief', 'developers', 'Talk', 'higher-than-average', 'parts', 'far', 'helpful', 'hit', 'Insurance', 'piece', 'usable', 'inancially', 'irms', '$100', 'enam', 'variable', 'closed', 'descrip', 'puts', 'life', 'bills', 'meet', 'midsummer', 'HD-DVD', 'setting', 'self-evaluation', 'clash', 'sober', 'speeds', 'convenient', 'tapes', 'Incidentally', 'I’ve', 'dexterity', 'xls', 'Likes', 'brave', 'software', 'need', 'At', 'understand', 'embedded', 'death', 'maybe', 'uncover', 'possess', 'associated', 'dividing', 'realize', 'off', 'postage', 'eventually', 'Freight', 'space', 'interest', 'Putting', 'configuration', 'dise', 'Start-Up', 'looking', 'left', 'qualify', '19', 'addresses', 'seem', 'firms', 'Personnel', 'missing', 'previously', 'Existing', 'raise', 'was', 'Online', 'compulsive', 'service', 'Religious', ')', 'repetitive', 'approximately', 'dilemma', 'categories', 'Forecast', 'estimating', 'sufficiently', 'desire', 'Respect', 'speed', '26', 'too', 'directions', 'substitute', 'analyzes', 'CAUTiON', 'material', 'assortment', 'opinions', 'screening', 'strive', 'prepare', 'of', 'happen', 'neck', 'Basics', 'few', 'has', 'Pope', 'along', 'lacking', '“overhead', 'dreamed', 'visiting', '600', 'thoughts', 'range', 'income', '“dot', 'won’t', 'spot', 'Accessories', 'belt', 'Problem', 'comput', 'occasionally', 'security', 'Before', 'walk-by', 'easy', 'Whole', '692', 'manage', '60', 'task', 'uneasy', 'does', 'such', '401', 'first', 'chapter', 'Fore', 'industries', 'gives', 'starts', 'total', 'thinks', 'prefer', 'spend', 'etc', 'First', 'foot', 'May', 'age', 'Occasionally', 'you’re', 'Type', 'human', 'qualified', 'trusting', 'Self', 'perspective', 'flow', 'paying', 'subtract', 'pages', '12', 'population', 'overkill', 'To', 'virtually', 'great', 'Are', 'You’ll', 'exploiting', 'toward', 'ciated', 'vigilance', 'weeks', 'WRITING', 'D', 'discuss', 'accomplish', 'their', 'is”', 'over', 'comply', 'lender', 'smaller', 'implement', 'copy', 'personalities', 'yet', 'concept', 'calculated', 'applies', 'clients', 'owe', 'You', 'thought-out', 'dimwit', 'S', 'question', 'series', '”', 'international', 'make', 'reduces', '“Production', 'double-check', 'another', 'Soft', 'Repeat', 'fees', 'mistake', 'Obviously', 'carpenters', 'Otherwise', 'sell', 'Success', 'document—even', 'focus', 'Let’s', 'alone', 'Agency', 'bakeries', 'Service', 'eight', 'Answers', '$50', 'temperament', 'model', 'Stop', 'These', 'Break-even', 'data', 'serious', 'pool', 'Manufacturing', 'illustrate', '$401', 'goods', 'Appendixes', 'Margin', 'it', 'i', '140', 'DVDs', 'Aff', 'next', 'learn', 'continue', 'everyone’s', 'things', 'popular', 'forecasts', 'counterparts—that', 'Retail', 'fun', 'wage', 'Personal', 'extras', 'work', 'meal', 'regula', 'foolproof', 'Month', 'Analysis', 'Selling', 'cars', 'here’s', 'ignore', 'am', 'preferably', 'resulting', 'accounting', 'correctly', 'adding', 'without', 'T', 'fears', 'broadly', 'surprise', 'speculation', 'CDs', 'mark-downs', 'increased', 'acces', 'pleasure', 'Questions', 'ese', 'dangerously', 'attribute', 'accomplished', 'Change', 'infallible—nothing', 'suggestion', 'sure', 'budding', 'liquor', 'fries', 'easier', 'ed', 'expect', 'marketing', 'presently', 'enables', 'guitar', 'dirty”', 'categorized', 'after', 'quick', 'online', 'mobile', 'retailers', 'expenses', 'however', 'money', 'examples', 'billable', ',', 'partner', 'rude', 'women', 'answering', 'owning', 'Attend', 'middle', 'entertainment', 'exercising', 'glassblowers', 'ey', 'backlog', 'lucky', 'arrive', 'wonders', 'dedicated', 'Cost', 'she', 'application', 'mastery', 'old', 'pertain', 'stand', '|', 'background', 'include', 'family', 'books', 'conscious', 'independence', 'taxes', 'convenience', 'harder', 'hoods', 'enters', 'internationally', 'institutions', 'merchan', 'pays', 'break-even', 'sad', 'resell', 'owner', 'proprietor', 'interviews', 'dirty', 'spin', 'summer', 'her', 'issued', 'development', 'title', 'guzzlers', 'low-rent', 'intensive', 'exchange', 'entity', 'new', 'postpone', 'dual', 'going', 'distinguish', 'Put', 'downtown', 'remind', 'varieties', 'featuring', 'Patty', 'steady', 'Shove', 'otherwise', 'Total', 'seems', 'born', 'document', '?', 'Oh', 'respect', 'Carefully', 'inancial', 'sign', 'Banks', 'already', 'furniture', 'mistake—I', 'draft', 'When', 'Ability', 'mixing', 'well-built', 'borrow', 'promise', 'cleaners', '$104', 'fewer', 'making', 'Pay', 'outside', 'involve', 'preferences', 'fee', 'request', '30', 'choose', 'B', 'lies', 'throws', 'ventures', 'preneur', 'December', 'Measuring', 'projects', 'fad', 'lose', 'ever-expanding', 'quite', 'brick-and-mortar', 'part-time', 'better', '2008', 'snapshot', 'clothing', 'lenders', 'conduct', 'attitudes', 'rely', 'certain', 'worked', 'abreast', 'bigger', 'either', 'needed', 'concrete', 'Much', 'subtracts', 'manipulate', 'stores', 'carries', 'me', 'reflect', 'colors', 'somewhere', 'Year', 'mistakes', '35', 'month', 'lowering', 'bum', 'column', 'time', 'eternal', 'technique', 'scary', 'entre', 'unlimited', 'facilities', 'bar', 'small', 'on', 'baby', 'discouraging', 'typical', 'Manufacturers', 'feelings', 'collects', 'wholesaler', 'entrepreneurs', 'sold', 'fashion', 'boss', 'expect—not', 'explosion', 'Today', 'relatively', 'strategies', '1', 'teach', 'steadily', 'Nobody', 'purchases', '$10', 'soundness', 'Ronnie', 'contractors', 'determination', 'Knowledge', 'tory', 'venture', 'answer', 'polishing', 'thorough', 'sole', '×', 'period', 'plan', 'at', 'Management', 'if', 'products', 'difference', 'sexual', 'seldom', 'technology', 'A', 'hole', 'bookkeeping', 'into', 'rst', 'afford', 'Evaluation', 'components', 'sale', 'drugstores', '30%', 'school', 'essentially', 'Writing', 'movements', 'fl', 'finished', '142', 'metrics', 'ones', 'rough', 'emergencies', 'save', 'seriously', 'for', 'distributorships', 'made', 'describing', 'needs', 'sense', 'repeats', 'mortals', 'dress', 'themselves', 'securities', 'owners', 'shipping', 'plans—on', 'purchase', 'conservative', 'focuses', 'solve', 'Utilities', '6%', 'mechanics', 'equipment', 'rights', '7', 'regardless', 'rich', 'color', '$600', 'Not', 'proceed', 'even', '300', 'experienced', 'import', 'wish', 'read', 'earlier', 'spare', 'likely', 'determine', 'Cook', 'comparison', 'though', 'die', 'internal', 'relationship', 'average', 'ponder', 'People', 'REALLY', 'New', 'say', 'multiply', 'guesses', 'appearance', 'times', 'More', 'selling', 'Annual', 'ahead', 'keep', '$500', 'arithmetic', 'Exactly', 'Further', '“quick', 'interested', 'lack', 'perform', 'specialize', ':', 'competing', 'Census', 'day', 'leisure', 'July', 'personal', 'email', 'eager', 'recognize', 'teacher', 'digital', 'daytime', 'doubts', 'Beyond', 't', 'two', 'loans', 'tax', 'll', 'borrowing', 'cash', 'disciples', 'seemingly', 'Assuming', 'issues', 'ixed', 'hot', 'roses', 'advertise', 'don’t', 'Sometimes', 'general', '496', 'never', 'absolutely', 'open', 'Forecast”', 'good-looking', 'enthusiasm', 'videos', 'simply', 'white', 'square', 'nearby', 'California', 'Bags', 'direction', '800', 'thoroughly', 'music', 'talk', 'C', 'Loss', 'last', 'matures', 'Know', 'alternatives', 'carpet', '124', '200', 'journey', 'normal', 'meat', 'refined', 'totals', 'type', 'later', 'talking', 'homework', 'washes', 'innovative', 'once', 'amount', 'weak', 'centers', 'procedure', 'atmosphere', 'Central’s', 'add', 'order', 'goes', 'due', 'associating', 'science', 'strong', 'knew', 'realistic', 'store’s', 'By', 'whether', 'Ideal', 'works', 'operations—all', 'confidence', 'Include', ';', 'BENEFITS', 'proposed', 'Let', 'Edsel', 'motivator', 'wrist', 'THE', 'bank’s', 'coherent', 'skip', 'sponsored', 'written', 'nesses', 'than', 'Finally', 'theme', 'costs”—expenses', 'big', 'persistent', 'collateral', 'payments', 'expects', 'private', 'mean', 'attention', 'normally', 'fi', 'proposes', '$3', 'presses', 'realities', 'Money—and', 'complete', 'perfect', 'size', 'appear', 'sharply', 'ordinary', 'desirable', 'operation', 'brush', 'contemporary', 'them', 'distractions', 'Odds', 'fixed', 'minority', 'track', 'ability', 'landlords', 'like', 'sadly—it', 'foundation', 'hobby', 'plenty', 'players', 'install', 'nding', 'menu', '$15', 'Shows', 'every', 'Does', 'brokers', 'investor’s', 'means', 'peers', 'current', 'dangerous', 'founder', 'proposal', 'fire', 'Lists', 'markets', 'Goals', 'tion', '“fixed', 'Treat', 'chapters', 'group', '000', 'remember', 'odds', 'Livelihood', 'nancial', 'more', 'failed', 'large-scale', 'reading', 'lesson', 'short', 'rides', 'c', '$31', 'loan', 'careful', 'Note', 'We', 'broken', 'smell', 'lender’s', 'vary', 'options', 'As', 'included', 'Remember', 'estate', 'most', 'Normally', 'domain', 'Of', 'Revenue', 'casts', 'Gorzak', 'generous', 'high', '“Service', 'Revision', 'able', 'common', 'choice', 'approaches', 'prove', 'any', 'referring', 'Right', 'ment', 'business—but', 'kitchen', 'okay', 'ownership', 'annual', 'le', 'food', 'swell', 'step', 'housecleaners', 'doubling', 'limited', 'abstract', 'around', 'prepared', 'surrounding', 'beat-up', 'storefront', 'presented', 'Impatience', 'muck', 'blind', 'ware', '2%', 'Freedom', 'Taste', 'Fixed', 'One', 'mirror', 'Dislike', 'doesn’t', 'financial', 'to', 'achievable', 'basis', 'creative', '36', 'post', 'ranges', 'where', 'inside', 'altogether', 'let', 'grease', 'efficiently', 'comes', 'requirements', 'increasingly', 'do', 'long-term', 'sleep', 'defi', 'ideal', 'well-thought-out', 'eld', 'automobile', 'art', 'licensing', 'many', '8', 'good', 'french-fryers', 'sometimes', 'subsequent', 'States', 'profit', 'extremely', 'key', '5%', '$99', 'change', '%', 'pre-2001', 'card', 'which', 'They', 'millions', 'Wages', 'expand', 'laws', 'bots', 'exclusive', 'contentedly', 'Fortunately', 'expanding', 'tract', 'unique', 'saying', 'Khan', 'field', 'Wild', 'Good', 'Successful', 'rebound', 'obviously', 'office', 'technological', 'use', 'central', 'center', 'city’s', '“constant”', 'expense', 'sounds', 'us', 'programming', 'problem', 'Trends', 'other', 'merchant', 'design', 'operates', 'games', 'Calculate', 'magazines', 'sorts', 'shown', 'I’m', '373', 'decided', 'danger', 'exceeds', 'federal', 'freedom', 'clean', 'affect', 'review', '$550', 'questions', 'process', 'prosperity', 'diapers', 'eight-track', 'it’s', 'Will', 'ten', 'probably', 'sink', 'blinded', 'fulfillment', 'latten', 'volumes', 'believes', 'glass', 'retail', 'Most', 'verify', 'individual', 'exchanging', 'money’s', 'both', 'let’s', '$504', 'lifetime', 'ergonomically', 'warehouse', 'established', 'couldn’t', 'Wasn’t', 'necessary', 'side', 'above', 'capital', 'particular', 'travel', 'emotional', '$1', 'icts', 'minute', 'dry', 'beyond', 'state', 'properly', 'very', 'benefits', 'lend', 'metaphor', 'Experienced', 'materials', 'resells', 'skills', 'wishes', 'changes', 'loves', 'projected', 'tasks', 'ground', 'skilled', 'fall', 'available', 'Care', 'complicated', 'executives', 'Chances', 'Simply', 'told', 'allow', 'quickly', 'ings', 'recent', 'through', 'cutting', '1970s', 'April', 'Subtract', 'helps', 'Completing', 'bring', '&', 'reasonable', 'survivors', '25', 'manufacturer’s', 'been', 'bearing', 'rapidly', 'riding', 'An', '400', 'supplier', 'slow-paying', 'wider', 'introduced', 'reaction', 'exists', 'selection', 'Improve', 'suggestions', 'ind', 'preneurs', 'present', 'workroom', 'Do', 'Can', 'traffi', 'wonderfully', '14', 'happy', 'have', 'foods', 'and/or', 'committed', 'translate', 'reduce', 'rates', 'mentions', '$800', 'Paycheck', 'smart', 'earns', 'begins', 'personalized', 'It', '2', 'repair', 'impossible', '÷', 'operations', 'decision-making', 'Laws', 'hasn’t', 'SalesRevenue', 'approach', 'suits', 'image', 'electronic', 'Bad', 'admit', 'overhead', 'cheaper', 'negative', 'might', 'wallet', '$6', 'busy', 'succeed', 'businessperson', 'grocery', 'himself', 'town', 'identify', 'with', 'developer', 'fashionable', 'additional', 'orders', 'occurs', 'professional', 'incur', 'clock', 'strengths', '47', 'outlay', 'throw', '“Take', 'Math', 'original', 'Also', 'looks', 'fiddle', '“real', 'Make', 'modity', 'aspects', 'beer', 'It’s', 'members', 'meets', 'Almost', 'record', 'terrific', 'name', 'increase', 'share', 'used', 'packaging', 'project’s', 'ultimately', 'devices', 'lling', 'together', 'alternative', 'surprised', 'founders', 'cover', 'far—', 'instead', '$142', 'changing', 'six-month', 'is', 'city', 'Together', 'involves', 'Bankers', 'found', 'market', 'chances', 'final', 'specify', 'genuinely', 'always', 'only', 'isn’t', 'investment', 'investors', 'enter', '$140', 'immediate', 'sheet', 'everybody’s', 'English', 'achieving', 'consistent', 'Unfortunately', 'society', 'late', 'developer’s', 'spacecraft', 'someone', 'your', '“discretionary', 'so', 'want—today', 'raising', 'advertising', 'way', 'this', 'delivery', 'volume', 'commonly', 'leave', 'Solve', 'feverishly', 'since', '“hot”', 'positive', 'world', 'community', 'alert', 'seasonal', 'number', 'activities', 'decimal', 'Should', 'rather', 'managed', 'now', 'contained', 'nonsmoking', 'mighty', 'retired', 'What', 'base', 'piece-rate', 'ecting', 'types', 'rule', 'While', '$4', 'numbers', 'public', 'behind', 'motivate', 'trying', '00', 'entering', '.', 'dough', 'try', 'forecast', 'Be', 'adventurous', 'acquaintances', 'OF', 'SWAG', 'polluting', 'shadow', 'repayments', 'right', 'clerk', 'wealthy', 'Think', 'whatever', 'agency', 'Any', 'natural', '$300', 'salaries', 'cannot', '267', 'much', 'copies', 'article', 'viable', 'teaches', 'musical', 'flattening', 'during', 'Technology', 'Power', 'traditional', 'Ask', 'said', 'following', 'Now', 'philosophy', 'retailer', 'necessities', 'programs', 'younger', 'Is', 'pasta', 'hour', 'will', 'spends', 'credit', 'click', 'enjoy', 'economic', 'TO', 'compete', 'marginal', 'Get', 'percentage', 'when', 'items', 'tour', 'averages', 'unavailable', 'economy', 'cast', 'August', 'U', 'bank', 'secures', 'interview', 'computers', 'Have', 'phone', 'including', 'realizes', 'enable', 'irst', 'until', 'ran', 'up', 'mire', 'banker’s', 'January', 'increasing', 'And', 'differs', 'ago', 'instance', 'primary', 'require', 'breast', 'absentee', 'Express', '“drop', 'distance', 'But', 'ways', 'NASA’s', 'nonbillable', 'Maybe', 'corner', 'Who', 'reference', 'opened', 'l', 'reason', 'guarantee', '“apps”', 'Points', 'fluctuations', 'love', 'Banker’s', 'edge', '“Hope', 'night', 'first-rate', '42', 'threatens', 'I', '“right”', 'My', 'directly', 'folks', 'build', 'slightly', 'majority', 'approval', 'providing', 'knowledgeable', 'view', 'completes', 'ChApter', 'facing', 'shouldn’t', 'target', 'my', 'Skill', 'fulfilling', 'layout', 'Self-Evaluation', 'mousetrap', 'xed', 'wholesalers', 'Ass', 'skill', '49', 'manufacturing', 'interests', 'restores', 'balance', 'improves', 'inviting', 'working', 'reflection', 'higher', 'months', 'face', 'closet', 'paycheck', 'Sure', 'attitude', 'area', 'Development', 'had', 'wants', 'business—simply', 'Read', 'inaccurate', 'People’s', 'app', 'important', 'idea', 'panic', '24', 'decides', 'Because', '$192', '$5', 'cook', 'Supplies', 'sories', '812', 'come', 'advice', 'serves', 'icting', 'publishing', 'well-thought', 'saleable', 'produces', 'list', 'services', 'Monday', 'buyer', 'effectiveness', 'enough', 'or', 'suitable', 'Some', 'laser', 'calls', 'lexibility', 'advantage', 'Acme', 'eyes', 'sound', 'tail', 'manufacturers', 'Introduction', 'closely', 'price', 'mentioned', 'fill', 'sent', 'problems', 'credentials', 'extensively', 'manu', 'personality', 'growing', 'mail', 'disappear', 'inconvenience—to', 'leather', 'consider', 'piano', 'tool', 'steps', 'lists', '$200', 'extra', 'estimated', 'See', 'proverbial', 'Music', 'fairly', 'Write', 'How', 'Your', 'went', 'called', 'Affect', 'lot', 'while', 'similar', 'exhaustively', 'Description', 'answered', 'competition’s', 'York', 'facts', 'continuing', 'pursuing', 'you’d', 'traffic', 'you—one', '100', 'rid', 'revised', 'are', 'spreadsheet', 'revenue', 'successfully', 'toxic', 'objectives', 'Concept', 'mixed', 'albatross', 'decline', 'began', 'considering', 'infant', 'assess', 'year—or', 'skiing', 'offices', 'bit', '10%', 'creating', 'loser', '“raising', 'situation', 'hands', 'long', 'sultants', 'hand', 'poet', 'pull', 'rent', 'located', 'critical', 'I’ll', 'moments', 'craft', 'opening', '“I', 'clear', 'dilapidated', 'states', 'partners', 'guess', 'Like', 'drive', 'sacrifices', 'fare', '192', 'run', 'Still', 'The', 'preprinted', 'systems', '16', 'clerks', 'spending', 'contains', 'demanding', 'ready', 'slowdown', 'follow', '$250-per-foot-per-year', 'surely', 'finish', 'Statement', 'hopes', 'Needs', 'regular', 'end', '$33', 'DO', 'jobs', 'dedication', 'cyber', '2010', 'hate', 'saler’s', 'Bookkeeping', '$26', 'WRITE', 'Shop’s', 'full', 'hurry', 'then', 'flying', 'salers', 'alterations', 'examined', 'again', 'supermarket', 'profitably—lots', 'payroll', 'ow', 'Average', 'pass', 'herself', 'Or', 'completed', 'Job', 'carefully', 'Money', 'goal', 'wear', 'locate', 'those', '3', 'fundamental', 'assume', 'shop', 'Running', 'patents', 'miss', 'Indonesian', 'using', 'spring', 'essential', 'diffi', 'can’t', 'areas', 'girlfriend', 'acquire', 'confess', 'Japanese', 'large', 'obvious', 'budgets', '$53', 'required', 'luctuations', 'massive', 'neighborhood', 'success', 'nd', 'responsibility', 'research', 'He', 'licenses', 'overlooked', 'March', '“I’m', 'specific', 'adjustments', 'multiplies', 'ield', 'points', '33%', 'sells', 'deserves', 'fit', 'tips', 'sacrifice', 'declining', 'sewer', 'essayist', 'prosper', 'running', 'shares', 'com', 'weaknesses', 'reduced', 'CHOOSING', 'tracks', 'mall', 'h', 'by', 'drinks', 'trucking', '29', 'machine', 'aggres', 'increases', 'forth', 'bookstore', 'sporting', 'worthwhile', 'go', 'detailed', 'expert', 'years', 'from', 'Here', 'On', 'french', 'anticipate', 'Developers', 'Although', 'production', 'friend', 'Saturdays', 'Lifestyle', 'fools', 'Feel', 'franchises', 'accommodate', 'believe', 'physical', 'Rent', 'reexamines', 'fudge', 'really', 'per', 'Divide', 'OWN', 'apply', 'gained', 'Squaw', 'unexpected', 'meticulous', 'checking', 'take', 'covers', 'conviction', 'tions', 'Track', 'endeavors', 'supermarkets', 'depending', 'part', 'pretty', 'power', 'engine', 's', 'put', 'rents', 'interviewing', 'Finding', 'workforce', 'decision', 'sufficient', 'Certain', 'patients', 'hard', 'qualifi', 'operate', 'paper', 'Miscellaneous', 'margins', 'and', 'second', '$150', 'chosen', 'badmouths', 'component', 'today’s', 'pace', 'Lets', 'improve', 'stop', 'stronger', 'account', 'extension', 'certainly', 'tastes', '−', 'you', 'tune-up', 'room', 'prepares', 'monthly', 'comforts', 'there', '34', 'Fulfillment', 'ensure', 'find', 'profitably', '44', 'didn’t', 'margin', '$650', 'represent', 'With', '“brilliant', 'salesperson', 'book', 'businesses', 'owner’s', 'All', 'librarians', 'pitch', 'E-Business', 'fact', 'moment', 'contact', 'definite', 'loss', 'florists', 'intelligent', 'Despite', 'faces', 'free', 'simple', 'changed', 'ancillary', 'Supermarket', 'Dollar', 'twin', 'peak', 'YOU', 'one-time', 'countless', 'estate”', '27', 'Christmas', 'applica', 'resolutions', 'Then', 'smaller—', 'gamble', 'gross', 'care', 'naively', 'Antoinette’s', 'watch', 'competition', 'handle', 'traits', 'American', 'calculations', 'steel', 'shops', 'deal', 'animals', 'example', 'especially', 'invoice', 'assemble', 'the', 'taste', 'unlikely', 'met', '“Retail', 'backing', 'maintains', 'nights’', 'appreciate', '6', 'department', 'far—but', 'that', 'possible', 'fantasies', 'serve', 'Just', 'asso', 'Excel', 'concludes', 'objective', 'video', 'banks', 'architects', 'one-quarter', 'value', 'sort', 'lines', 'relaxed', 'f', 'simplest', 'meltdown', 'obtaining', 'offline', 'demonstrates', '50', 'diaper', 'commitments', 'Business', 'simplicity', 'comparable', 'people', 'practical', 'advisor', 'were'}\n",
            "3028\n",
            "['!', '$', '$1', '$10', '$100', '$104', '$125', '$14', '$140', '$142', '$15', '$150', '$152', '$16', '$185', '$192', '$2', '$200', '$250', '$250-per-foot-per-year', '$26', '$3', '$30', '$300', '$31', '$33', '$4', '$40', '$400', '$401', '$45', '$5', '$50', '$500', '$504', '$53', '$550', '$6', '$600', '$650', '$800', '$950', '$99', '%', '&', '(', ')', ',', '.', '0', '00', '000', '000-square-foot', '050', '1', '10', '10%', '100', '11', '12', '124', '126', '13', '14', '140', '142', '15', '15%', '16', '17', '18', '188', '19', '192', '1950s', '1970s', '1990s', '2', '2%', '20', '20%', '200', '2001', '2008', '2010', '2011', '23', '24', '25', '250', '26', '267', '27', '28', '29', '3', '30', '30%', '300', '31', '32', '33', '33%', '333', '34', '35', '35%', '36', '37', '373', '38', '382', '385', '39', '4', '40', '40%', '400', '401', '41', '42', '43', '44', '45', '46', '47', '49', '496', '5', '5%', '50', '50%', '500', '504', '6', '6%', '60', '600', '692', '7', '7%', '700', '8', '80%', '800', '812', '850', '9', '900', ':', ';', '=', '?', 'A', 'Ability', 'Accessories', 'Accomplished', 'Accounting', 'Accounting/Legal', 'Acme', 'Add', 'Advertising', 'Aff', 'Affect', 'After', 'Agency', 'Alexander', 'All', 'Almost', 'Also', 'Although', 'Am', 'American', 'An', 'Analysis', 'And', 'Annual', 'Answers', 'Antoinette', 'Antoinette’s', 'Any', 'Anything', 'Appendix', 'Appendixes', 'April', 'Are', 'As', 'Ask', 'Ass', 'Assuming', 'At', 'Attend', 'August', 'Average', 'B', 'BENEFITS', 'BUSINESS', 'Bad', 'Bags', 'Bankers', 'Banker’s', 'Banks', 'Basics', 'Be', 'Because', 'Before', 'Beyond', 'Bookkeeping', 'Break-Even', 'Break-even', 'Business', 'Businesses', 'But', 'By', 'C', 'CAUTiON', 'CD-ROM', 'CDs', 'CHOOSING', 'CPA', 'Calculate', 'Calculation', 'California', 'Can', 'Care', 'Carefully', 'Census', 'Central', 'Central’s', 'Certain', 'ChApter', 'Chances', 'Change', 'Chapter', 'Check', 'Choosing', 'Christmas', 'Co', 'Completing', 'Concept', 'Consider', 'Cook', 'Cost', 'Costs', 'D', 'DO', 'DVDs', 'Deborah', 'December', 'Decide', 'Describe', 'Description', 'Despite', 'Developers', 'Development', 'Dislike', 'Dislikes', 'Divide', 'Dividing', 'Do', 'Does', 'Dollar', 'Don’t', 'Dress', 'Dresses', 'E-Business', 'Each', 'Edsel', 'English', 'Evaluation', 'Even', 'Everyone', 'Everything', 'Exactly', 'Excel', 'Exercises', 'Existing', 'Experienced', 'Express', 'Faithful', 'February', 'Federal', 'Feel', 'Finally', 'Find', 'Finding', 'First', 'Fixed', 'For', 'Fore', 'Forecast', 'Forecast”', 'Fortunately', 'Fred', 'Freedom', 'Freight', 'Friday', 'From', 'Fulfillment', 'Further', 'Future', 'General', 'Get', 'Ghengis', 'Goals', 'Good', 'Google', 'Gorzak', 'Gross', 'Guesses', 'HD-DVD', 'HOW', 'Hairdressers', 'Have', 'He', 'Helps', 'Her', 'Here', 'Here’s', 'How', 'However', 'I', 'Ideal', 'Identify', 'If', 'Impatience', 'Improve', 'Improves', 'In', 'Incidentally', 'Include', 'Indonesian', 'Insurance', 'Internet', 'Interview', 'Introduce', 'Introduction', 'Is', 'Issues', 'It', 'It’s', 'I’d', 'I’ll', 'I’m', 'I’ve', 'Jack', 'January', 'Japanese', 'Job', 'Johnny', 'Jones', 'July', 'June', 'Just', 'Keep', 'Khan', 'Know', 'Knowledge', 'Korean', 'Laws', 'Learn', 'Let', 'Lets', 'Let’s', 'Lifestyle', 'Like', 'Likes', 'Lists', 'Livelihood', 'Look', 'Loss', 'Make', 'Making', 'Management', 'Manufacturers', 'Manufacturing', 'Many', 'March', 'Margin', 'Math', 'May', 'Maybe', 'Measuring', 'Miscellaneous', 'Monday', 'Money', 'Money—and', 'Month', 'More', 'Most', 'Much', 'Multiply', 'Music', 'My', 'N/A', 'NASA’s', 'Naturally', 'Needs', 'Neiman-Marcus', 'New', 'Next', 'Nobody', 'Nolo', 'Normally', 'Not', 'Note', 'November', 'Now', 'OF', 'OWN', 'Obviously', 'Occasionally', 'October', 'Odds', 'Of', 'Oh', 'On', 'Once', 'One', 'Online', 'Or', 'Other', 'Otherwise', 'Our', 'PLAN', 'Patty', 'Pay', 'Paycheck', 'People', 'People’s', 'Perhaps', 'Personal', 'Personnel', 'Ph', 'Plan', 'Points', 'Pope', 'Power', 'Precisely', 'Price', 'Problem', 'Proceed', 'Professional', 'Profi', 'Profit', 'Programs', 'Project', 'Put', 'Putting', 'Questions', 'REALLY', 'RIGHT', 'Read', 'Reality', 'Reduce', 'Regular', 'Religious', 'Remember', 'Rent', 'Repeat', 'Respect', 'Retail', 'Revenue', 'Revision', 'Right', 'Risky', 'Romantic', 'Ronnie', 'Round', 'Running', 'Ryann', 'Rye', 'S', 'SWAG', 'SWAGs', 'Sale', 'Sales', 'SalesRevenue', 'Saturdays', 'Save', 'Second', 'Securities', 'See', 'Self', 'Self-Evaluation', 'Selling', 'September', 'Service', 'She', 'Shop', 'Shop’s', 'Should', 'Shove', 'Show', 'Shows', 'Silicon', 'Simply', 'Since', 'Skill', 'Skills', 'Small', 'So', 'Soft', 'Software', 'Solve', 'Some', 'Sometimes', 'Sounds', 'Specifi', 'Specific', 'Squaw', 'Start-Up', 'State', 'Statement', 'States', 'Still', 'Stop', 'Strong', 'Subtract', 'Success', 'Successful', 'Sunday', 'Supermarket', 'Supermarkets', 'Supplies', 'Sure', 'T', 'THE', 'TO', 'TVs', 'Table', 'Take', 'Talk', 'Taste', 'Taxes', 'Technology', 'Telephone', 'Tendency', 'Th', 'That', 'The', 'Then', 'There', 'Therefore', 'There’s', 'These', 'They', 'Think', 'This', 'TiP', 'To', 'Today', 'Together', 'Total', 'Toyota', 'Track', 'Treat', 'Trends', 'Type', 'U', 'Unfortunately', 'United', 'Unless', 'Up', 'Use', 'Utilities', 'Valley', 'Volume', 'WANT', 'WRITE', 'WRITING', 'Wages', 'Wasn’t', 'We', 'Weak', 'We’ll', 'What', 'When', 'Where', 'Which', 'While', 'Who', 'Whole', 'Wholesale', 'Wholesalers', 'Why', 'Wild', 'Will', 'With', 'Work', 'Write', 'Writing', 'YOU', 'Year', 'York', 'You', 'Your', 'You’ll', 'You’ve', 'a', 'abandon', 'ability', 'able', 'about', 'above', 'abreast', 'absentee', 'absolutely', 'abstract', 'accept', 'acceptance', 'acces', 'accessories', 'accommodate', 'accompanying', 'accomplish', 'accomplished', 'accomplishes', 'account', 'accountants', 'accounting', 'accounts', 'accurate', 'accurately', 'achievable', 'achieve', 'achieving', 'acquaintances', 'acquire', 'active', 'activities', 'activity', 'acts', 'actually', 'add', 'addicts', 'adding', 'additional', 'addresses', 'adequately', 'adjustments', 'admit', 'advantage', 'adventurous', 'advertise', 'advertising', 'advice', 'advisor', 'aff', 'affect', 'affected', 'affects', 'afford', 'after', 'again', 'age', 'agencies', 'agency', 'aggres', 'ago', 'agree', 'ahead', 'aimed', 'albatross', 'alert', 'all', 'allow', 'allowances', 'allows', 'almost', 'alone', 'along', 'already', 'also', 'alterations', 'alternative', 'alternatives', 'although', 'altogether', 'always', 'am', 'amount', 'amounts', 'an', 'ana', 'analyses', 'analysis', 'analyzes', 'ancillary', 'and', 'and/or', 'animals', 'annual', 'another', 'answer', 'answered', 'answering', 'answers', 'anticipate', 'anticipated', 'antique', 'any', 'anyone', 'app', 'appear', 'appearance', 'appliance', 'applica', 'applicant', 'application', 'applies', 'apply', 'appreciate', 'approach', 'approaches', 'approval', 'approximately', 'architects', 'are', 'area', 'areas', 'aren’t', 'arithmetic', 'around', 'arrive', 'arrives', 'art', 'article', 'artisan', 'as', 'ask', 'asked', 'aspect', 'aspects', 'assemble', 'assembling', 'assess', 'asso', 'associated', 'associating', 'assortment', 'assume', 'at', 'atmosphere', 'attachment', 'attempt', 'attempted', 'attention', 'attitude', 'attitudes', 'attribute', 'attributes', 'automatically', 'automobile', 'automobiles', 'available', 'average', 'averages', 'avoid', 'away', 'baby', 'back', 'backer', 'backers', 'background', 'backing', 'backlog', 'bad', 'badmouths', 'bag', 'bakeries', 'balance', 'balanced', 'bank', 'bankers’', 'banker’s', 'banking', 'banks', 'bank’s', 'bar', 'bargain', 'base', 'basic', 'basis', 'be', 'bear', 'bearing', 'beat', 'beat-up', 'because', 'become', 'been', 'beer', 'before', 'began', 'begin', 'begins', 'behind', 'being', 'belief', 'believe', 'believes', 'below', 'belt', 'belts', 'benefit', 'benefits', 'best', 'bet', 'better', 'between', 'beyond', 'bias', 'big', 'bigger', 'billable', 'bills', 'bit', 'black', 'blank', 'blessed', 'blind', 'blinded', 'bomb”', 'book', 'bookkeeping', 'books', 'bookstore', 'bookstores', 'boom', 'boot', 'born', 'borrow', 'borrowing', 'boss', 'both', 'bots', 'bound', 'brave', 'break', 'break-even', 'breast', 'brick-and-mortar', 'bright', 'bring', 'bringing', 'brings', 'broad', 'broadly', 'broke', 'broken', 'broker', 'brokers', 'broom', 'brush', 'budding', 'budgets', 'build', 'building', 'buildings', 'builds', 'built-in', 'bum', 'busi', 'business', 'businesses', 'businesspeople', 'businessperson', 'businesswomen', 'business—but', 'business—how', 'business—simply', 'busy', 'but', 'buy', 'buyer', 'buying', 'buys', 'by', 'c', 'calculate', 'calculated', 'calculates', 'calculations', 'call', 'called', 'calls', 'cameras', 'campaign', 'can', 'candidate', 'cannot', 'can’t', 'capital', 'car', 'card', 'care', 'careful', 'carefully', 'carpenters', 'carpet', 'carries', 'carry', 'cars', 'cash', 'cast', 'casts', 'catalogue', 'catches', 'categories', 'categorized', 'category', 'cater', 'cause-driven', 'cautious', 'census', 'center', 'centers', 'central', 'centuries', 'certain', 'certainly', 'chain', 'challenging', 'chance', 'chances', 'change', 'changed', 'changes', 'changing', 'chapter', 'chapters', 'characteristics', 'characterized', 'charge', 'charisma', 'chart', 'cheap', 'cheaper', 'check', 'checking', 'chef', 'children', 'choice', 'choices', 'choose', 'choosing', 'chosen', 'chunk', 'ciated', 'ciency', 'cigarettes', 'cities', 'city', 'city’s', 'clash', 'classic', 'clean', 'cleaners', 'cleaning', 'clear', 'clerk', 'clerks', 'click', 'client', 'clients', 'clock', 'close', 'closed', 'closely', 'closet', 'clothing', 'club', 'coherent', 'coincidence', 'cold', 'collateral', 'collects', 'color', 'colors', 'column', 'com', 'combina', 'combination', 'combine', 'come', 'comes', 'comfortable', 'comforts', 'commissions', 'commitment', 'commitments', 'committed', 'common', 'commonly', 'communicate', 'community', 'companies', 'company', 'comparable', 'compare', 'comparing', 'comparison', 'compe', 'compensation', 'compete', 'competing', 'competition', 'competition’s', 'competitive', 'compiled', 'complete', 'completed', 'completes', 'completing', 'completion', 'complicated', 'comply', 'component', 'components', 'compulsive', 'comput', 'computer', 'computers', 'con', 'concentrate', 'concept', 'concepts', 'concerns', 'concludes', 'concrete', 'concretely', 'conduct', 'confess', 'confidence', 'configuration', 'confl', 'connection', 'conscious', 'consciously', 'conservative', 'consider', 'consideration', 'considering', 'consistent', 'consists', 'constructive', 'consumer', 'consumers', 'consumption', 'contact', 'contained', 'containing', 'contains', 'contemporary', 'contentedly', 'continue', 'continuing', 'contract', 'contractor', 'contractors', 'convenience', 'convenient', 'convert', 'converted', 'conviction', 'convince', 'cook', 'copies', 'copy', 'corner', 'corporation', 'correct', 'correctly', 'correspondence', 'cosmetic', 'cost', 'costs', 'costs”—expenses', 'could', 'couldn’t', 'count', 'counterparts—that', 'counterweight', 'countless', 'county', 'course', 'cover', 'covered', 'covers', 'cozy', 'craft', 'create', 'creates', 'creating', 'creative', 'credentials', 'credit', 'creditworthiness', 'critical', 'crucial', 'cult', 'culty', 'cumulative', 'currency', 'current', 'currently', 'curve', 'customer', 'customers', 'customers—', 'customers’', 'customer’s', 'cutting', 'cyber', 'daily', 'daisies', 'danger', 'dangerous', 'dangerously', 'data', 'date', 'day', 'days', 'daytime', 'dead-end', 'deal', 'dealerships', 'dearly', 'death', 'debts', 'decade', 'decent', 'decide', 'decided', 'decides', 'deciding', 'decimal', 'decision', 'decision-making', 'decisions', 'decline', 'declines', 'declining', 'decrease', 'dedicated', 'dedication', 'defi', 'defined', 'definite', 'delete', 'delicatessens', 'delivery', 'delude', 'demanding', 'demographics', 'demonstrates', 'department', 'depending', 'deposited', 'derive', 'describe', 'described', 'describes', 'describing', 'descrip', 'description', 'descriptions', 'deserves', 'design', 'designed', 'desirable', 'desire', 'desk', 'desperately', 'destroy', 'detail', 'detailed', 'determination', 'determine', 'develop', 'developer', 'developers', 'developer’s', 'developing', 'development', 'developments', 'device', 'devices', 'dexterity', 'diaper', 'diapers', 'did', 'didn’t', 'die', 'difference', 'different', 'differs', 'diffi', 'difficult', 'digital', 'dilapidated', 'dilemma', 'dimwit', 'direct', 'direction', 'directions', 'directly', 'dirty', 'dirty”', 'disappear', 'disasters', 'disciples', 'discomfort', 'discouraging', 'discuss', 'discusses', 'discussion', 'dise', 'distance', 'distinguish', 'distractions', 'distributor', 'distributorships', 'divide', 'dividing', 'do', 'document', 'document—even', 'does', 'doesn’t', 'dog', 'doing', 'dollar', 'dollars', 'domain', 'done', 'don’t', 'doomed', 'door', 'doors', 'dot-com', 'double', 'double-check', 'doubling', 'doubts', 'dough', 'down', 'downside', 'downtown', 'draft', 'draw', 'dreamed', 'dress', 'dresses', 'drinks', 'drive', 'drive-by', 'driving', 'drugstores', 'dry', 'dual', 'due', 'during', 'e', 'e-commerce', 'e-tailers', 'each', 'eager', 'earlier', 'early', 'earns', 'easier', 'easily', 'easy', 'economic', 'economy', 'ecting', 'ed', 'edge', 'educated', 'effectiveness', 'effects', 'efficiently', 'efforts', 'eggs', 'ego', 'eight', 'eight-track', 'either', 'eld', 'electronic', 'elegant', 'else', 'email', 'ematical', 'embedded', 'emerged', 'emergencies', 'emotional', 'employee', 'employees', 'employees—too', 'employment', 'enable', 'enables', 'enam', 'enamored', 'end', 'endeavor', 'endeavors', 'ends', 'energy', 'engine', 'engines', 'enjoy', 'enough', 'ensure', 'entail', 'enter', 'entering', 'enters', 'entertainment', 'enthusiasm', 'entity', 'entre', 'entrepreneur', 'entrepreneurs', 'environment', 'equal', 'equipment', 'er', 'ere', 'ergonomically', 'ers', 'ese', 'especially', 'essayist', 'essential', 'essentially', 'established', 'estate', 'estate”', 'estimate', 'estimated', 'estimates', 'estimating', 'etc', 'eternal', 'evaluate', 'evaluation', 'even', 'eventually', 'ever-expanding', 'every', 'everybody’s', 'everyone', 'everyone’s', 'everything', 'exAmple', 'exact', 'exactly', 'exaggeration', 'examined', 'example', 'examples', 'exceeds', 'excellent', 'exception', 'exchange', 'exchanging', 'exclude', 'exclusive', 'executives', 'exercise', 'exercises', 'exercising', 'exhaustively', 'existing', 'exists', 'expand', 'expanding', 'expansion', 'expect', 'expected', 'expects', 'expect—not', 'expense', 'expenses', 'experience', 'experienced', 'expert', 'explain', 'exploiting', 'explosion', 'express', 'expressed', 'extension', 'extensively', 'extinguishing', 'extra', 'extras', 'extremely', 'ey', 'eyes', 'f', 'face', 'faced', 'faces', 'facilities', 'facing', 'fact', 'factors', 'facts', 'facturers', 'fad', 'fail', 'failed', 'failure', 'fairly', 'fall', 'family', 'fancy', 'fantasies', 'far', 'fare', 'farming', 'far—', 'far—but', 'fashion', 'fashionable', 'fat', 'favor', 'fears', 'feature', 'featuring', 'federal', 'fee', 'feeling', 'feelings', 'fees', 'feet', 'fellow', 'feverishly', 'few', 'fewer', 'fi', 'fiddle', 'field', 'figure', 'figures', 'filename', 'fill', 'final', 'financial', 'find', 'fine', 'fine-tune', 'finish', 'finished', 'fire', 'firms', 'first', 'first-rate', 'first-year', 'fit', 'five', 'five-figure', 'fixed', 'fixed-cost', 'fixes', 'fl', 'flattening', 'flaws', 'floor', 'florists', 'flow', 'flows', 'fluctuations', 'flying', 'focus', 'focuses', 'folks', 'follow', 'followed', 'following', 'follows', 'food', 'foods', 'foolish', 'foolproof', 'fools', 'foot', 'for', 'force', 'fore', 'forecast', 'forecasting', 'forecasts', 'foreign', 'forget', 'forgotten', 'format', 'former', 'formulas', 'forth', 'fortunes', 'found', 'foundation', 'founder', 'founders', 'four', 'franchises', 'free', 'freedom', 'french', 'french-fryers', 'fried', 'friend', 'friends', 'friends—I', 'fries', 'from', 'front', 'fudge', 'fulfilling', 'fulfillment', 'full', 'fun', 'function', 'functions', 'fundamental', 'furniture', 'future', 'gained', 'gamble', 'games', 'gas', 'gather', 'gathered', 'general', 'generate', 'generated', 'generous', 'genuinely', 'get', 'gets', 'getting', 'girlfriend', 'give', 'gives', 'giving', 'gladly', 'glance', 'glass', 'glassblowers', 'go', 'goal', 'goals', 'goes', 'going', 'gone', 'good', 'good-looking', 'goods', 'good—but', 'gram', 'grand', 'grease', 'great', 'grocery', 'groggy', 'gross', 'ground', 'group', 'grow', 'growing', 'growth', 'guarantee', 'guarantees', 'guess', 'guesses', 'guitar', 'guitars', 'gure', 'guzzlers', 'h', 'had', 'half', 'half-a', 'hamburgers', 'hand', 'handle', 'handling', 'hands', 'hangover', 'happen', 'happy', 'hard', 'harder', 'hardest', 'has', 'hasn’t', 'hate', 'have', 'haven’t', 'having', 'he', 'head', 'heard', 'heat', 'heavy', 'help', 'helpful', 'helps', 'her', 'here', 'here’s', 'herself', 'high', 'higher', 'higher-than-average', 'him', 'himself', 'hire', 'hires', 'his', 'hit', 'hobby', 'hole', 'home', 'homework', 'honest', 'honestly', 'hoods', 'hope', 'hopeless', 'hopes', 'hot', 'hour', 'hours', 'house', 'housecleaners', 'how', 'however', 'human', 'hundreds', 'hungry', 'hurry', 'i', 'icting', 'icts', 'idea', 'ideal', 'ideas', 'ideas”', 'identify', 'identifying', 'ield', 'if', 'ignore', 'illustrate', 'image', 'immediate', 'implement', 'import', 'important', 'imported', 'importing', 'impossible', 'improve', 'improves', 'in', 'inaccurate', 'inancial', 'inancially', 'include', 'included', 'including', 'income', 'inconsistencies', 'inconvenience—to', 'increase', 'increased', 'increases', 'increasing', 'increasingly', 'incur', 'ind', 'independence', 'independent', 'individual', 'industries', 'infallible—nothing', 'infant', 'inflation', 'informa', 'information', 'ingredient', 'ingredients', 'ings', 'initial', 'innovative', 'inside', 'insist', 'install', 'instance', 'instead', 'institutions', 'instruments', 'insurance', 'integrating', 'intelligent', 'intend', 'intensive', 'interest', 'interested', 'interests', 'internal', 'international', 'internationally', 'interview', 'interviewing', 'interviews', 'intimate', 'intimately', 'into', 'introduced', 'inventory', 'investment', 'investors', 'investor’s', 'inviting', 'invoice', 'involve', 'involved', 'involves', 'irms', 'irst', 'is', 'isn’t', 'issued', 'issues', 'is”', 'it', 'item', 'items', 'its', 'it’s', 'ixed', 'jackets', 'job', 'jobs', 'jot', 'journey', 'judge', 'judgment', 'just', 'justify', 'keep', 'keeping', 'kept', 'key', 'kind', 'kinds', 'kitchen', 'knew', 'know', 'knowledge', 'knowledgeable', 'known', 'knows', 'l', 'labels', 'labor', 'lack', 'lacking', 'landlords', 'large', 'large-scale', 'larger', 'larized', 'laser', 'last', 'late', 'later', 'latten', 'laundries', 'laws', 'layout', 'le', 'learn', 'learned', 'learning', 'lease', 'least', 'leather', 'leave', 'leaving', 'left', 'leisure', 'lend', 'lender', 'lenders', 'lender’s', 'less', 'lesson', 'let', 'let’s', 'level', 'lexibility', 'librarians', 'license', 'licenses', 'licensing', 'lies', 'life', 'lifetime', 'life’s', 'lighter', 'like', 'likelihood', 'likely', 'limited', 'line', 'lines', 'link', 'liquor', 'list', 'listed', 'lists', 'lists—don’t', 'literally', 'little', 'live', 'living', 'll', 'lled', 'lling', 'loan', 'loans', 'local', 'locale', 'locate', 'located', 'location', 'logical', 'logically', 'long', 'long-range', 'long-term', 'longer', 'look', 'looked', 'looking', 'looks', 'lose', 'loser', 'loss', 'lot', 'lots', 'lounges', 'lour', 'love', 'loves', 'low', 'low-rent', 'lower', 'lowering', 'lucky', 'luctuate', 'luctuations', 'lyze', 'm', 'machine', 'made', 'magazines', 'mail', 'maintain', 'maintains', 'maintenance', 'major', 'majority', 'make', 'maker', 'makes', 'making', 'mall', 'manage', 'managed', 'management', 'manager', 'managing', 'manipulate', 'manu', 'manual', 'manufacturer', 'manufacturers', 'manufacturer’s', 'manufacturing', 'many', 'margin', 'marginal', 'margins', 'mark', 'mark-downs', 'market', 'marketing', 'marketplace', 'markets', 'marts', 'massive', 'mastery', 'matches', 'mate', 'material', 'materials', 'math', 'matter', 'matters', 'matures', 'may', 'maybe', 'me', 'meal', 'mean', 'means', 'meat', 'mechanics', 'meet', 'meets', 'meltdown', 'members', 'ment', 'mentioned', 'mentions', 'menu', 'merchan', 'merchandise', 'merchant', 'merchants', 'met', 'metaphor', 'method', 'methods', 'meticulous', 'metrics', 'middle', 'midsummer', 'might', 'mighty', 'migrant', 'mileage', 'miles', 'millions', 'mind', 'minor', 'minority', 'minute', 'minutes', 'mire', 'mirror', 'miss', 'missing', 'mistake', 'mistakes', 'mistake—I', 'mixed', 'mixing', 'mobile', 'model', 'modems', 'moderate', 'modify', 'modity', 'moment', 'moments', 'money', 'money’s', 'month', 'monthly', 'months', 'more', 'mortals', 'mortgage', 'most', 'motivate', 'motivator', 'mousetrap', 'movements', 'much', 'muck', 'multiplied', 'multiplies', 'multiply', 'music', 'musical', 'must', 'my', 'myself', 'naive', 'naively', 'name', 'nancial', 'nationally', 'natural', 'nd', 'nding', 'nearby', 'nearest', 'necessarily', 'necessary', 'necessary—no', 'necessities', 'necessity', 'neck', 'need', 'needed', 'needs', 'negative', 'neglecting', 'neighborhood', 'nervous', 'ness', 'nesses', 'network', 'never', 'new', 'news', 'newsletter', 'newsstand', 'next', 'nice', 'night', 'nights’', 'no', 'nonbillable', 'nonsmoking', 'normal', 'normally', 'not', 'note', 'nothing', 'now', 'number', 'numbers', 'objective', 'objectives', 'obtain', 'obtaining', 'obvious', 'obviously', 'occasionally', 'occur', 'occurs', 'odds', 'of', 'off', 'offer', 'office', 'offices', 'offline', 'often', 'okay', 'old', 'older', 'on', 'once', 'one', 'one-half', 'one-quarter', 'one-time', 'ones', 'ongoing', 'online', 'only', 'open', 'opened', 'opening', 'openings', 'operate', 'operates', 'operating', 'operation', 'operations', 'operations—all', 'opinions', 'opportunities', 'optimism', 'option', 'options', 'or', 'order', 'ordering', 'orderly', 'orders', 'ordinary', 'ored', 'original', 'other', 'others', 'otherwise', 'our', 'out', 'outlay', 'outside', 'over', 'overage', 'overhead', 'overkill', 'overlook', 'overlooked', 'overly', 'overview', 'ow', 'owe', 'own', 'owner', 'owners', 'ownership', 'owner’s', 'owning', 'p', 'pace', 'packaging', 'pages', 'paid', 'panic', 'pantsuits', 'paper', 'part', 'part-time', 'participate', 'particular', 'partner', 'partners', 'partnership', 'parts', 'pass', 'passes', 'pasta', 'paste-up', 'patents', 'patience', 'patients', 'patronizing', 'paving', 'pay', 'paycheck', 'paying', 'payments', 'payroll', 'pays', 'peak', 'peers', 'people', 'people’s', 'per', 'percentage', 'perfect', 'perform', 'perhaps', 'period', 'permits', 'persistent', 'person', 'personal', 'personalities', 'personality', 'personalized', 'perspec', 'perspective', 'pertain', 'philosophy', 'phone', 'physical', 'piano', 'picking', 'piece', 'piece-rate', 'pitch', 'pizza-by-the-slice', 'place', 'plan', 'planned', 'planning', 'plans', 'plans—on', 'players', 'pleased', 'pleasure', 'plenty', 'poet', 'point', 'points', 'polishing', 'polluting', 'ponder', 'pool', 'popu', 'popular', 'population', 'portions', 'positive', 'positively', 'possess', 'possible', 'post', 'postage', 'postpone', 'potential', 'power', 'practical', 'pre-2001', 'precious', 'predict', 'predicting', 'prefer', 'preferably', 'preferences', 'preneur', 'preneurs', 'prepare', 'prepared', 'prepares', 'preparing', 'preprinted', 'present', 'presentable', 'presented', 'presently', 'presses', 'pretty', 'previously', 'price', 'priced', 'prices', 'primary', 'principles', 'print', 'prior', 'private', 'pro', 'probably', 'problem', 'problems', 'procedure', 'proceed', 'proceeding', 'proceeds', 'process', 'produced', 'produces', 'product', 'production', 'products', 'professional', 'profi', 'profit', 'profitability', 'profitable', 'profitably', 'profitably—lots', 'profits', 'program', 'programming', 'programs', 'project', 'projected', 'projections', 'projects', 'project’s', 'promise', 'promote', 'promotion', 'prompt', 'properly', 'proposal', 'proposed', 'proposes', 'proprietor', 'prospective', 'prospects', 'prosper', 'prosperity', 'protect', 'protected', 'prove', 'proverb', 'proverbial', 'provide', 'provided', 'providing', 'prudent', 'psycho', 'public', 'publish', 'publishing', 'pull', 'puller', 'purchase', 'purchases', 'purchasing', 'purpose', 'purses', 'pursuing', 'put', 'puts', 'qualifi', 'qualified', 'qualify', 'quality', 'question', 'questions', 'quick', 'quickly', 'quite', 'railroad', 'raise', 'raising', 'ran', 'range', 'ranges', 'rapidly', 'rate', 'rates', 'rather', 'ratio', 'raw', 'reach', 'reaction', 'read', 'readily', 'reading', 'ready', 'real', 'realistic', 'realistically', 'realities', 'realize', 'realized', 'realizes', 'really', 'reason', 'reasonable', 'reasonably', 'rebound', 'recent', 'recognize', 'record', 'records', 'reduce', 'reduced', 'reduces', 'reduction', 'reexamines', 'refer', 'reference', 'referrals', 'referring', 'refined', 'reflect', 'reflection', 'refresher', 'regardless', 'regula', 'regular', 'regularly', 'regulations', 'related', 'relates', 'relationship', 'relationships', 'relatively', 'relaxed', 'relentless', 'reliable', 'rely', 'remember', 'remind', 'rent', 'rents', 'repair', 'repairs', 'repayments', 'repeat', 'repeats', 'repetitive', 'represent', 'request', 'requested', 'require', 'required', 'requirements', 'requires', 'research', 'resell', 'resells', 'reserves', 'resolutions', 'resort', 'resources', 'respect', 'respected', 'responsibility', 'restaurant', 'restaurants', 'restores', 'restrictions', 'rests', 'result', 'resulting', 'results', 'retail', 'retailer', 'retailers', 'retired', 'revenue', 'revenues', 'review', 'revised', 'rewrite', 'rich', 'rid', 'ride', 'rides', 'riding', 'right', 'rights', 'risk', 'risks', 'roll', 'room', 'roses', 'rough', 'round', 'rst', 'rude', 'rule', 'run', 'running', 'runs', 's', 'sacrifice', 'sacrifices', 'sad', 'sadly—it', 'said', 'salaries', 'salary', 'sale', 'saleable', 'saler', 'salers', 'saler’s', 'sales', 'salesperson', 'same', 'same—start', 'sample', 'save', 'savvy', 'saw', 'say', 'saying', 'says', 'scale', 'scary', 'schedule', 'school', 'science', 'scope', 'scrap', 'screening', 'screens', 'search', 'season', 'seasonal', 'seasons', 'second', 'section', 'sections', 'secures', 'securities', 'security', 'see', 'seeing', 'seem', 'seemingly', 'seems', 'seen', 'seldom', 'select', 'selection', 'self', 'self-evaluation', 'sell', 'selling', 'sells', 'send', 'sense', 'sent', 'separate', 'series', 'serious', 'seriously', 'serve', 'serves', 'service', 'services', 'serving', 'set', 'setting', 'settle', 'settles', 'several', 'sewer', 'sexual', 'shadow', 'share', 'shares', 'sharply', 'she', 'sheet', 'she’ll', 'ship', 'shipments', 'shipping', 'shipping”', 'shop', 'shoppers', 'shopping', 'shops', 'short', 'short-term', 'shots', 'should', 'shouldn’t', 'show', 'showing', 'shown', 'shows', 'side', 'sign', 'similar', 'simple', 'simplest', 'simplicity', 'simply', 'since', 'single', 'sink', 'situation', 'sive', 'six', 'six-month', 'size', 'skeptical', 'ski', 'skiing', 'skill', 'skilled', 'skills', 'skip', 'sleep', 'sleeves', 'slicing', 'slightly', 'slip', 'sloppy', 'slow', 'slow-paying', 'slowdown', 'slump', 'small', 'smaller', 'smaller—', 'smart', 'smell', 'smitten', 'smokers', 'snapshot', 'so', 'sober', 'society', 'soft', 'software', 'solar', 'sold', 'sole', 'solution', 'solve', 'solves', 'some', 'someone', 'something', 'sometimes', 'somewhere', 'song', 'sories', 'sort', 'sorts', 'sound', 'soundness', 'sounds', 'source', 'sources', 'space', 'spacecraft', 'spare', 'special', 'specialize', 'specifi', 'specific', 'specifics', 'specify', 'speculation', 'speed', 'speeds', 'spend', 'spending', 'spends', 'spin', 'sponsored', 'sporting', 'sportswear', 'spot', 'spreadsheet', 'spring', 'springs', 'square', 'stage', 'stand', 'start', 'start-up', 'started', 'starting', 'starts', 'state', 'statement', 'states', 'stations', 'statistics', 'stay', 'steadily', 'steady', 'steel', 'step', 'steps', 'still', 'stop', 'store', 'storefront', 'stores', 'store’s', 'story', 'strategies', 'strengths', 'strips', 'strive', 'strong', 'stronger', 'students', 'study', 'stump', 'style', 'styles', 'subsequent', 'substantial', 'substitute', 'subtract', 'subtracting', 'subtracts', 'succeed', 'succeeding', 'success', 'successful', 'successfully', 'such', 'suffer', 'sufficient', 'sufficiently', 'suggest', 'suggestion', 'suggestions', 'suitable', 'suited', 'suits', 'sultants', 'summer', 'supermarket', 'supermarkets', 'supervise', 'supplier', 'suppliers', 'support', 'suppose', 'sure', 'surely', 'surpass', 'surprise', 'surprised', 'surrounding', 'survey', 'survive', 'survivors', 'swell', 'system', 'systems', 't', 'tail', 'take', 'takes', 'talents', 'talk', 'talking', 'tape', 'tapes', 'target', 'task', 'tasks', 'taste', 'tastes', 'tax', 'taxes', 'teach', 'teacher', 'teaches', 'technique', 'technological', 'technologies', 'technology', 'telephone', 'tell', 'tells', 'temperament', 'template', 'ten', 'tendency', 'tender', 'terms', 'terrific', 'tests', 'than', 'that', 'that’s', 'the', 'their', 'them', 'theme', 'themselves', 'then', 'there', 'there”', 'these', 'they', 'they’re', 'thing', 'things', 'think', 'thinking', 'thinks', 'this', 'thorough', 'thoroughly', 'those', 'though', 'thought', 'thought-out', 'thought-stimulating', 'thoughts', 'threatens', 'three', 'through', 'throughout', 'throw', 'throws', 'ti', 'time', 'times', 'tinker', 'tion', 'tions', 'tips', 'tired', 'title', 'tive', 'to', 'today', 'today’s', 'together', 'told', 'too', 'took', 'tool', 'toothbrushes', 'tory', 'total', 'totals', 'touch', 'tough', 'tour', 'toward', 'town', 'toxic', 'track', 'tracks', 'tract', 'trade', 'traditional', 'traffi', 'traffic', 'train', 'traits', 'translate', 'traps', 'travel', 'trends', 'trips', 'trouble', 'truck', 'trucking', 'true', 'trusting', 'try', 'trying', 'tting-room', 'tune-up', 'turned', 'twice', 'twin', 'two', 'type', 'types', 'typical', 'typically', 'ultimate', 'ultimately', 'unable', 'unavailable', 'unavoidable', 'unconnected', 'unconscious', 'uncover', 'under', 'understand', 'understanding', 'undoubtedly', 'uneasy', 'unemployed', 'unexpected', 'unfortunately', 'unhappy', 'unique', 'unless', 'unlikely', 'unlimited', 'until', 'up', 'us', 'usable', 'use', 'used', 'useful', 'user', 'users', 'using', 'usually', 'utilities', 'value', 'variable', 'varieties', 'variety', 'vary', 'varying', 'vast', 've', 'venture', 'ventures', 'verify', 'very', 'via', 'viable', 'video', 'videos', 'view', 'vigilance', 'virtually', 'visiting', 'volume', 'volumes', 'wade', 'wage', 'waking', 'walk-by', 'wallet', 'want', 'wanting', 'wants', 'want—today', 'ware', 'warehouse', 'was', 'washes', 'washing', 'wasn’t', 'watch', 'watches', 'way', 'ways', 'we', 'weak', 'weaknesses', 'wealthy', 'wear', 'website', 'week', 'weeks', 'well', 'well-built', 'well-thought', 'well-thought-out', 'went', 'were', 'what', 'whatever', 'when', 'where', 'whether', 'which', 'while', 'white', 'who', 'whole', 'wholesale', 'wholesaler', 'wholesalers', 'whose', 'why', 'wide', 'wider', 'will', 'willing', 'window', 'windows', 'wine', 'winner', 'wisdom', 'wish', 'wishes', 'with', 'without', 'woman', 'women', 'women’s', 'wonder', 'wonderfully', 'wonders', 'won’t', 'work', 'worked', 'workers', 'workforce', 'working', 'workroom', 'works', 'world', 'worry', 'worth', 'worthwhile', 'would', 'wrap', 'wrist', 'write', 'writing', 'written', 'wrong', 'wrote', 'xed', 'xls', 'year', 'years', 'year—or', 'year’s', 'yet', 'you', 'younger', 'your', 'yours', 'yourself', 'you—one', 'you’d', 'you’ll', 'you’re', 'you’ve', '|', '×', '÷', '“Hope', '“I', '“I’m', '“Production', '“Retail', '“Scientific', '“Service', '“Take', '“Yes', '“Yes”', '“apps”', '“as', '“brilliant', '“constant', '“constant”', '“discretionary', '“dot', '“drop', '“fixed', '“hot”', '“just', '“nut', '“overhead', '“quick', '“raising', '“real', '“right”', '”', '•', '−']\n",
            "3028\n"
          ]
        }
      ]
    },
    {
      "cell_type": "code",
      "source": [
        "vocab = {token:integer for integer,token in enumerate(all_words)}\n"
      ],
      "metadata": {
        "id": "hcYQG5dxnrah"
      },
      "execution_count": null,
      "outputs": []
    },
    {
      "cell_type": "code",
      "source": [
        "for i, item in enumerate(vocab.items()):\n",
        "    print(item)\n",
        "    if i >= 50:\n",
        "        break"
      ],
      "metadata": {
        "id": "Fbxx2yVfntQI",
        "outputId": "00851a76-c0da-439c-fabd-791d76d6e383",
        "colab": {
          "base_uri": "https://localhost:8080/"
        }
      },
      "execution_count": null,
      "outputs": [
        {
          "output_type": "stream",
          "name": "stdout",
          "text": [
            "('!', 0)\n",
            "('\"', 1)\n",
            "(\"'\", 2)\n",
            "('(', 3)\n",
            "(')', 4)\n",
            "(',', 5)\n",
            "('--', 6)\n",
            "('.', 7)\n",
            "(':', 8)\n",
            "(';', 9)\n",
            "('?', 10)\n",
            "('A', 11)\n",
            "('Ah', 12)\n",
            "('Among', 13)\n",
            "('And', 14)\n",
            "('Are', 15)\n",
            "('Arrt', 16)\n",
            "('As', 17)\n",
            "('At', 18)\n",
            "('Be', 19)\n",
            "('Begin', 20)\n",
            "('Burlington', 21)\n",
            "('But', 22)\n",
            "('By', 23)\n",
            "('Carlo', 24)\n",
            "('Chicago', 25)\n",
            "('Claude', 26)\n",
            "('Come', 27)\n",
            "('Croft', 28)\n",
            "('Destroyed', 29)\n",
            "('Devonshire', 30)\n",
            "('Don', 31)\n",
            "('Dubarry', 32)\n",
            "('Emperors', 33)\n",
            "('Florence', 34)\n",
            "('For', 35)\n",
            "('Gallery', 36)\n",
            "('Gideon', 37)\n",
            "('Gisburn', 38)\n",
            "('Gisburns', 39)\n",
            "('Grafton', 40)\n",
            "('Greek', 41)\n",
            "('Grindle', 42)\n",
            "('Grindles', 43)\n",
            "('HAD', 44)\n",
            "('Had', 45)\n",
            "('Hang', 46)\n",
            "('Has', 47)\n",
            "('He', 48)\n",
            "('Her', 49)\n",
            "('Hermia', 50)\n"
          ]
        }
      ]
    },
    {
      "cell_type": "markdown",
      "source": [
        "<div class=\"alert alert-block alert-info\">\n",
        "    \n",
        "Step 1: Store the vocabulary as a class attribute for access in the encode and decode methods\n",
        "    \n",
        "Step 2: Create an inverse vocabulary that maps token IDs back to the original text tokens\n",
        "\n",
        "Step 3: Process input text into token IDs\n",
        "\n",
        "Step 4: Convert token IDs back into text\n",
        "\n",
        "Step 5: Replace spaces before the specified punctuation\n",
        "\n",
        "</div>\n",
        "\n"
      ],
      "metadata": {
        "id": "Byxu_wEWpVsA"
      }
    },
    {
      "cell_type": "code",
      "source": [
        "class SimpleTokenizerV1:\n",
        "    def __init__(self, vocab):\n",
        "        self.str_to_int = vocab\n",
        "        self.int_to_str = {i:s for s,i in vocab.items()}\n",
        "\n",
        "    def encode(self, text):\n",
        "        preprocessed = re.split(r'([,.:;?_!\"()\\']|--|\\s)', text)\n",
        "\n",
        "        preprocessed = [\n",
        "            item.strip() for item in preprocessed if item.strip()\n",
        "        ]\n",
        "        ids = [self.str_to_int[s] for s in preprocessed]\n",
        "        return ids\n",
        "\n",
        "    def decode(self, ids):\n",
        "        text = \" \".join([self.int_to_str[i] for i in ids])\n",
        "        # Replace spaces before the specified punctuations\n",
        "        text = re.sub(r'\\s+([,.?!\"()\\'])', r'\\1', text)\n",
        "        return text"
      ],
      "metadata": {
        "id": "1i9cjdqwpWjF"
      },
      "execution_count": null,
      "outputs": []
    },
    {
      "cell_type": "code",
      "source": [
        "tokenizer = SimpleTokenizerV1(vocab)\n",
        "\n",
        "text = \"\"\"\"It's the last he painted, you know,\"\n",
        "           Mrs. Gisburn said with pardonable pride.\"\"\"\n",
        "ids = tokenizer.encode(text)\n",
        "print(ids)"
      ],
      "metadata": {
        "id": "xZaXBO2uqI3W",
        "outputId": "6a0292a1-adfa-4b9a-8c67-4d2cd3751be4",
        "colab": {
          "base_uri": "https://localhost:8080/"
        }
      },
      "execution_count": null,
      "outputs": [
        {
          "output_type": "stream",
          "name": "stdout",
          "text": [
            "[1, 56, 2, 850, 988, 602, 533, 746, 5, 1126, 596, 5, 1, 67, 7, 38, 851, 1108, 754, 793, 7]\n"
          ]
        }
      ]
    },
    {
      "cell_type": "code",
      "source": [
        "tokenizer.decode(ids)"
      ],
      "metadata": {
        "id": "MQiuLC67qO3y",
        "outputId": "ea8d6d4e-1f4f-4b0f-caf1-f3e9bcf7d52d",
        "colab": {
          "base_uri": "https://localhost:8080/",
          "height": 35
        }
      },
      "execution_count": null,
      "outputs": [
        {
          "output_type": "execute_result",
          "data": {
            "text/plain": [
              "'\" It\\' s the last he painted, you know,\" Mrs. Gisburn said with pardonable pride.'"
            ],
            "application/vnd.google.colaboratory.intrinsic+json": {
              "type": "string"
            }
          },
          "metadata": {},
          "execution_count": 37
        }
      ]
    },
    {
      "cell_type": "code",
      "source": [
        "#passing tokens that doesnt exist in dictionary\n",
        "text = \"Hello, do you like tea?\"\n",
        "print(tokenizer.encode(text))"
      ],
      "metadata": {
        "id": "RtRsFxRHq-TK",
        "outputId": "f5932c65-c55b-4f34-d74e-d709ef383983",
        "colab": {
          "base_uri": "https://localhost:8080/"
        }
      },
      "execution_count": null,
      "outputs": [
        {
          "output_type": "stream",
          "name": "stdout",
          "text": [
            "[1, 56, 2, 850, 988, 602, 533, 746, 5, 1126, 596, 5, 1, 67, 7, 38, 851, 1108, 754, 793, 7]\n"
          ]
        }
      ]
    },
    {
      "cell_type": "code",
      "source": [
        "#set unknown token rule\n",
        "all_tokens = sorted(list(set(preprocessed)))\n",
        "all_tokens.extend([\"<|endoftext|>\", \"<|unk|>\"])\n",
        "\n",
        "vocab = {token:integer for integer,token in enumerate(all_tokens)}"
      ],
      "metadata": {
        "id": "V2QSUgGjrTGx"
      },
      "execution_count": null,
      "outputs": []
    },
    {
      "cell_type": "code",
      "source": [
        "len(vocab.items())\n",
        "#two more item endofttext and unk were added to original 1130"
      ],
      "metadata": {
        "id": "0ii2RirLrYgG",
        "outputId": "2ee4bbed-a04c-44d6-84b5-6269024e0480",
        "colab": {
          "base_uri": "https://localhost:8080/"
        }
      },
      "execution_count": null,
      "outputs": [
        {
          "output_type": "execute_result",
          "data": {
            "text/plain": [
              "1132"
            ]
          },
          "metadata": {},
          "execution_count": 40
        }
      ]
    },
    {
      "cell_type": "code",
      "source": [
        "class SimpleTokenizerV2:\n",
        "    def __init__(self, vocab):\n",
        "        self.str_to_int = vocab\n",
        "        self.int_to_str = { i:s for s,i in vocab.items()}\n",
        "\n",
        "    def encode(self, text):\n",
        "        preprocessed = re.split(r'([,.:;?_!\"()\\']|--|\\s)', text)\n",
        "        preprocessed = [item.strip() for item in preprocessed if item.strip()]\n",
        "        preprocessed = [\n",
        "            item if item in self.str_to_int\n",
        "            else \"<|unk|>\" for item in preprocessed\n",
        "        ]\n",
        "\n",
        "        ids = [self.str_to_int[s] for s in preprocessed]\n",
        "        return ids\n",
        "\n",
        "    def decode(self, ids):\n",
        "        text = \" \".join([self.int_to_str[i] for i in ids])\n",
        "        # Replace spaces before the specified punctuations\n",
        "        text = re.sub(r'\\s+([,.:;?!\"()\\'])', r'\\1', text)\n",
        "        return text"
      ],
      "metadata": {
        "id": "B7veKwo7ZO7m"
      },
      "execution_count": null,
      "outputs": []
    },
    {
      "cell_type": "code",
      "source": [
        "tokenizer = SimpleTokenizerV2(vocab)\n",
        "\n",
        "text1 = \"Hello, do you like tea?\"\n",
        "text2 = \"In the sunlit terraces of the palace.\"\n",
        "\n",
        "text = \" <|endoftext|> \".join((text1, text2))\n",
        "\n",
        "print(text)"
      ],
      "metadata": {
        "id": "qAtCqRgmZvod",
        "outputId": "9ffee3b9-b583-4800-ce61-8eb194a41523",
        "colab": {
          "base_uri": "https://localhost:8080/"
        }
      },
      "execution_count": null,
      "outputs": [
        {
          "output_type": "stream",
          "name": "stdout",
          "text": [
            "Hello, do you like tea? <|endoftext|> In the sunlit terraces of the palace.\n"
          ]
        }
      ]
    },
    {
      "cell_type": "code",
      "source": [
        "tokenizer.encode(text)"
      ],
      "metadata": {
        "id": "cGDoM9qgZ16J",
        "outputId": "3e1afc89-2934-4ffb-e38a-2e053fff87ff",
        "colab": {
          "base_uri": "https://localhost:8080/"
        }
      },
      "execution_count": null,
      "outputs": [
        {
          "output_type": "execute_result",
          "data": {
            "text/plain": [
              "[1131, 5, 355, 1126, 628, 975, 10, 1130, 55, 988, 956, 984, 722, 988, 1131, 7]"
            ]
          },
          "metadata": {},
          "execution_count": 43
        }
      ]
    }
  ]
}